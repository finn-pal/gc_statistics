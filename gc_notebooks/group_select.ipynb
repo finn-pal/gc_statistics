{
 "cells": [
  {
   "cell_type": "code",
   "execution_count": 13,
   "id": "db26a16a",
   "metadata": {},
   "outputs": [],
   "source": [
    "import json\n",
    "\n",
    "import gc_utils\n",
    "import h5py\n",
    "import numpy as np\n"
   ]
  },
  {
   "cell_type": "code",
   "execution_count": 14,
   "id": "0a92fa1a",
   "metadata": {},
   "outputs": [],
   "source": [
    "sim = \"m12i\"\n",
    "sim_dir = \"/Users/z5114326/Documents/simulations/\"\n",
    "\n",
    "proc_file = sim_dir + sim + \"/\" + sim + \"_processed.hdf5\"\n",
    "proc_data = h5py.File(proc_file, \"r\")  # open processed data file"
   ]
  },
  {
   "cell_type": "code",
   "execution_count": 15,
   "id": "5e9af3fa",
   "metadata": {},
   "outputs": [],
   "source": [
    "it_min = 0\n",
    "it_max = 100\n",
    "\n",
    "min_gc_num = 5\n",
    "\n",
    "snap = 600\n",
    "\n",
    "snap_id = gc_utils.snapshot_name(snap)"
   ]
  },
  {
   "cell_type": "code",
   "execution_count": 16,
   "id": "77347a26",
   "metadata": {},
   "outputs": [],
   "source": [
    "init_common_groups = set()\n",
    "for it in range(it_min, it_max + 1):\n",
    "    it_id = gc_utils.iteration_name(it)\n",
    "    snap_data = proc_data[it_id][\"snapshots\"][snap_id]\n",
    "    groups = np.abs(snap_data[\"group_id\"][()])\n",
    "\n",
    "    unique_groups, counts = np.unique(groups, return_counts=True)\n",
    "    repeat_groups = unique_groups[counts >= min_gc_num]\n",
    "\n",
    "    init_common_groups.update(repeat_groups)\n",
    "\n",
    "init_common_groups = list(init_common_groups)\n",
    "common_groups = init_common_groups\n",
    "\n",
    "# common_groups = []\n",
    "# for grp in init_common_groups:\n",
    "#     grp_len = []\n",
    "#     for it in range(it_min, it_max + 1):\n",
    "#         it_id = gc_utils.iteration_name(it)\n",
    "#         snap_data = proc_data[it_id][\"snapshots\"][snap_id]\n",
    "#         groups = np.abs(snap_data[\"group_id\"][()])\n",
    "\n",
    "#         groups = groups[groups == grp]\n",
    "#         if len(groups) > 2:\n",
    "#             grp_len.append(1)\n",
    "\n",
    "#     if len(grp_len) == it_max + 1:\n",
    "#         common_groups.append(grp)"
   ]
  },
  {
   "cell_type": "code",
   "execution_count": 17,
   "id": "829d13b2",
   "metadata": {},
   "outputs": [
    {
     "data": {
      "text/plain": [
       "[0, 8580896, 13687078, 4414957, 16199669, 1920378, 19898495]"
      ]
     },
     "execution_count": 17,
     "metadata": {},
     "output_type": "execute_result"
    }
   ],
   "source": [
    "common_groups"
   ]
  },
  {
   "cell_type": "code",
   "execution_count": 18,
   "id": "df535f4c",
   "metadata": {},
   "outputs": [
    {
     "name": "stderr",
     "output_type": "stream",
     "text": [
      "Retrieving Halo Tree.....................: 100%|████████████████████████████████████████████████████████████████████████| 1/1 [00:01<00:00,  1.24s/it]\n"
     ]
    }
   ],
   "source": [
    "halt = gc_utils.get_halo_tree(sim, sim_dir)"
   ]
  },
  {
   "cell_type": "code",
   "execution_count": 19,
   "id": "4dd975bd",
   "metadata": {},
   "outputs": [],
   "source": [
    "snap_order = []\n",
    "for grp in common_groups:\n",
    "    if grp == 0:\n",
    "        snap_order.append(0)\n",
    "\n",
    "    else:\n",
    "        halt_idx = np.where(halt[\"tid\"] == grp)[0][0]\n",
    "        snap_order.append(halt[\"snapshot\"][halt_idx])\n",
    "\n",
    "sorted_groups = [grp for _, grp in sorted(zip(snap_order, common_groups))]"
   ]
  },
  {
   "cell_type": "code",
   "execution_count": 20,
   "id": "5b46b985",
   "metadata": {},
   "outputs": [],
   "source": [
    "common_colors = [\n",
    "    \"red\",\n",
    "    \"blue\",\n",
    "    \"green\",\n",
    "    \"cyan\",\n",
    "    \"magenta\",\n",
    "    \"orange\",\n",
    "    \"purple\",\n",
    "    \"pink\",\n",
    "    \"brown\",\n",
    "    \"gold\",\n",
    "    \"lime\",\n",
    "    \"navy\",\n",
    "    \"olive\",\n",
    "    \"teal\",\n",
    "    \"maroon\",\n",
    "]"
   ]
  },
  {
   "cell_type": "code",
   "execution_count": 21,
   "id": "db38b74f",
   "metadata": {},
   "outputs": [],
   "source": [
    "group_dict = {sim: {}}\n",
    "\n",
    "for i, grp in enumerate(sorted_groups):\n",
    "    group_dict[sim][str(grp)] = common_colors[i]"
   ]
  },
  {
   "cell_type": "code",
   "execution_count": 22,
   "id": "065dcb55",
   "metadata": {},
   "outputs": [
    {
     "data": {
      "text/plain": [
       "{'0': 'red',\n",
       " '1920378': 'blue',\n",
       " '4414957': 'green',\n",
       " '8580896': 'cyan',\n",
       " '13687078': 'magenta',\n",
       " '16199669': 'orange',\n",
       " '19898495': 'purple'}"
      ]
     },
     "execution_count": 22,
     "metadata": {},
     "output_type": "execute_result"
    }
   ],
   "source": [
    "group_dict[sim]"
   ]
  },
  {
   "cell_type": "code",
   "execution_count": 23,
   "id": "74eb6768",
   "metadata": {},
   "outputs": [],
   "source": [
    "# Save the dictionary to a JSON file\n",
    "save_file = sim_dir + sim + \"/\" + \"gc_groups.json\"\n",
    "with open(save_file, \"w\") as json_file:\n",
    "    json.dump(group_dict, json_file, indent=4)"
   ]
  },
  {
   "cell_type": "code",
   "execution_count": 24,
   "id": "0b2682b0",
   "metadata": {},
   "outputs": [],
   "source": [
    "proc_data.close()"
   ]
  }
 ],
 "metadata": {
  "kernelspec": {
   "display_name": ".venv",
   "language": "python",
   "name": "python3"
  },
  "language_info": {
   "codemirror_mode": {
    "name": "ipython",
    "version": 3
   },
   "file_extension": ".py",
   "mimetype": "text/x-python",
   "name": "python",
   "nbconvert_exporter": "python",
   "pygments_lexer": "ipython3",
   "version": "3.12.7"
  }
 },
 "nbformat": 4,
 "nbformat_minor": 5
}
