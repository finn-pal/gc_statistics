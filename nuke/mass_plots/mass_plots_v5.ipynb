{
 "cells": [
  {
   "cell_type": "code",
   "execution_count": 2,
   "metadata": {},
   "outputs": [],
   "source": [
    "import json\n",
    "import multiprocessing as mp\n",
    "import os\n",
    "import sys\n",
    "\n",
    "import h5py\n",
    "import matplotlib.pyplot as plt\n",
    "import numpy as np\n",
    "import pandas as pd\n",
    "from gc_utils import iteration_name, snapshot_name  # type: ignore\n",
    "from scipy.interpolate import interp1d"
   ]
  },
  {
   "cell_type": "code",
   "execution_count": 64,
   "metadata": {},
   "outputs": [],
   "source": [
    "# Save to a JSON file\n",
    "evolve_mass_loss = 0.45\n",
    "\n",
    "it_min = 0\n",
    "it_max = 100\n",
    "# it_max = 100\n",
    "\n",
    "sim = \"m12i\"\n",
    "\n",
    "sim_dir = \"/Users/z5114326/Documents/simulations/\"\n",
    "save_dir = \"../data/gc_mass_data/\"\n",
    "\n",
    "mass_file = save_dir + sim + \"_mass_data.hdf5\"  # save location\n",
    "mass_data = proc_data = h5py.File(mass_file, \"r\")  # open processed data file"
   ]
  },
  {
   "cell_type": "markdown",
   "metadata": {},
   "source": [
    "# Lets plot"
   ]
  },
  {
   "cell_type": "markdown",
   "metadata": {},
   "source": [
    "First lets get common time grids across all iterations"
   ]
  },
  {
   "cell_type": "code",
   "execution_count": 77,
   "metadata": {},
   "outputs": [],
   "source": [
    "def time_bounds(mass_data):\n",
    "    # the min for both these time frames will be 0\n",
    "    time_max = 0\n",
    "    form_time_max = 0\n",
    "\n",
    "    acc_time_min = 0\n",
    "    acc_time_max = 0\n",
    "\n",
    "    for it_id in mass_data.keys():\n",
    "        it_mass = mass_data[it_id]\n",
    "\n",
    "        for gc_id in it_mass.keys():\n",
    "            it_time_max = np.max(it_mass[gc_id][\"time\"])\n",
    "            time_max = np.max([time_max, it_time_max])\n",
    "\n",
    "            it_form_time_max = np.max(it_mass[gc_id][\"form_time\"])\n",
    "            form_time_max = np.max([form_time_max, it_form_time_max])\n",
    "\n",
    "            if it_mass[gc_id][\"type_flag\"][()] > 1:\n",
    "                it_acc_time_min = np.min(it_mass[gc_id][\"acc_time\"])\n",
    "                it_acc_time_max = np.max(it_mass[gc_id][\"acc_time\"])\n",
    "\n",
    "                acc_time_min = np.min([acc_time_min, it_acc_time_min])\n",
    "                acc_time_max = np.max([acc_time_max, it_acc_time_max])\n",
    "\n",
    "    time_bounds_dict = {\n",
    "        \"time\": [0, time_max],\n",
    "        \"form_time\": [0, form_time_max],\n",
    "        \"acc_time\": [acc_time_min, acc_time_max],\n",
    "    }\n",
    "\n",
    "    return time_bounds_dict"
   ]
  },
  {
   "cell_type": "code",
   "execution_count": null,
   "metadata": {},
   "outputs": [],
   "source": [
    "time_bounds_dict = time_bounds(mass_data)\n",
    "print(time_bounds_dict)"
   ]
  },
  {
   "cell_type": "code",
   "execution_count": 79,
   "metadata": {},
   "outputs": [
    {
     "data": {
      "text/plain": [
       "{'time': [0, 13.83],\n",
       " 'form_time': [0, 13.061112094],\n",
       " 'acc_time': [-12.488776855000001, 11.471]}"
      ]
     },
     "execution_count": 79,
     "metadata": {},
     "output_type": "execute_result"
    }
   ],
   "source": [
    "time_bounds_dict"
   ]
  },
  {
   "cell_type": "code",
   "execution_count": 80,
   "metadata": {},
   "outputs": [],
   "source": [
    "time_step = 1000\n",
    "time_grid = np.linspace(time_bounds_dict[\"time\"][0], time_bounds_dict[\"time\"][1], time_step)\n",
    "form_time_grid = np.linspace(time_bounds_dict[\"form_time\"][0], time_bounds_dict[\"form_time\"][1], time_step)\n",
    "acc_time_grid = np.linspace(time_bounds_dict[\"acc_time\"][0], time_bounds_dict[\"acc_time\"][1], time_step)"
   ]
  },
  {
   "cell_type": "code",
   "execution_count": 96,
   "metadata": {},
   "outputs": [
    {
     "data": {
      "text/plain": [
       "True"
      ]
     },
     "execution_count": 96,
     "metadata": {},
     "output_type": "execute_result"
    }
   ],
   "source": [
    "np.isnan(mass_data[\"it000\"][\"100008371\"][\"log_mass\"][-1])"
   ]
  },
  {
   "cell_type": "code",
   "execution_count": 81,
   "metadata": {},
   "outputs": [],
   "source": [
    "def safe_interpolate(x, y, common_grid):\n",
    "    interp_func = interp1d(x, y, kind=\"nearest\", bounds_error=False, fill_value=(0, 1))\n",
    "    return interp_func(common_grid)"
   ]
  },
  {
   "cell_type": "code",
   "execution_count": 97,
   "metadata": {},
   "outputs": [
    {
     "data": {
      "text/plain": [
       "<HDF5 dataset \"log_mass\": shape (9,), type \"<f8\">"
      ]
     },
     "execution_count": 97,
     "metadata": {},
     "output_type": "execute_result"
    }
   ],
   "source": [
    "log_mass_lst = mass_data[\"it000\"][\"100008371\"][\"log_mass\"]\n",
    "log_mass_lst"
   ]
  },
  {
   "cell_type": "code",
   "execution_count": 103,
   "metadata": {},
   "outputs": [
    {
     "data": {
      "text/plain": [
       "array([4.015, 3.74 ,   nan])"
      ]
     },
     "execution_count": 103,
     "metadata": {},
     "output_type": "execute_result"
    }
   ],
   "source": [
    "log_mass_lst[()]"
   ]
  },
  {
   "cell_type": "code",
   "execution_count": 104,
   "metadata": {},
   "outputs": [
    {
     "name": "stdout",
     "output_type": "stream",
     "text": [
      "4.015\n",
      "3.74\n"
     ]
    }
   ],
   "source": [
    "for log_mass in log_mass_lst:\n",
    "    if not np.isnan(log_mass):\n",
    "        print(log_mass)"
   ]
  },
  {
   "cell_type": "code",
   "execution_count": 105,
   "metadata": {},
   "outputs": [],
   "source": [
    "it_min = 0\n",
    "it_max = 0\n",
    "\n",
    "####################################\n",
    "plot_dict = {}\n",
    "\n",
    "plot_dict[\"time\"] = time_grid\n",
    "plot_dict[\"form_time\"] = form_time_grid\n",
    "plot_dict[\"acc_time\"] = acc_time_grid\n",
    "\n",
    "####################################\n",
    "\n",
    "# for it_id in mass_data.keys():\n",
    "for it in range(0, 1):\n",
    "    it_id = iteration_name(it)\n",
    "\n",
    "    # data_file = save_dir + \"/\" + it_id + \"_gc_mass_data.json\"\n",
    "    # # open json file as dict\n",
    "    # with open(data_file, \"r\") as file:\n",
    "    #     it_mass = json.load(file)\n",
    "\n",
    "    plot_dict[it_id] = {}\n",
    "\n",
    "    plot_dict[it_id][\"0\"] = {}\n",
    "    plot_dict[it_id][\"1\"] = {}\n",
    "    plot_dict[it_id][\"2\"] = {}\n",
    "    plot_dict[it_id][\"3\"] = {}\n",
    "    plot_dict[it_id][\"4\"] = {}\n",
    "\n",
    "    # set up dictionary\n",
    "    for type_flag_val in range(0, 5):\n",
    "        plot_dict[it_id][str(type_flag_val)] = {}\n",
    "\n",
    "        #######################################################################################\n",
    "        # need to make a mass list for each time frame\n",
    "        # cosmic time\n",
    "        time_len = len(plot_dict[\"time\"])\n",
    "        plot_dict[it_id][str(type_flag_val)][\"time\"] = {}\n",
    "        plot_dict[it_id][str(type_flag_val)][\"time\"][\"mass\"] = np.zeros(time_len)\n",
    "        plot_dict[it_id][str(type_flag_val)][\"time\"][\"mass_loss\"] = np.zeros(time_len)\n",
    "        plot_dict[it_id][str(type_flag_val)][\"time\"][\"mass_loss_det\"] = np.zeros(time_len)\n",
    "\n",
    "        # formation time\n",
    "        time_len = len(plot_dict[\"form_time\"])\n",
    "        plot_dict[it_id][str(type_flag_val)][\"form_time\"] = {}\n",
    "        plot_dict[it_id][str(type_flag_val)][\"form_time\"][\"mass\"] = np.zeros(time_len)\n",
    "        plot_dict[it_id][str(type_flag_val)][\"form_time\"][\"mass_loss\"] = np.zeros(time_len)\n",
    "        plot_dict[it_id][str(type_flag_val)][\"form_time\"][\"mass_loss_det\"] = np.zeros(time_len)\n",
    "\n",
    "        # accretion time\n",
    "        if type_flag_val > 1:\n",
    "            time_len = len(plot_dict[\"acc_time\"])\n",
    "            plot_dict[it_id][str(type_flag_val)][\"acc_time\"] = {}\n",
    "            plot_dict[it_id][str(type_flag_val)][\"acc_time\"][\"mass\"] = np.zeros(time_len)\n",
    "            plot_dict[it_id][str(type_flag_val)][\"acc_time\"][\"mass_loss\"] = np.zeros(time_len)\n",
    "            plot_dict[it_id][str(type_flag_val)][\"acc_time\"][\"mass_loss_det\"] = np.zeros(time_len)\n",
    "\n",
    "        #######################################################################################\n",
    "    for gc_id in mass_data[it_id]:\n",
    "        type_flag = mass_data[it_id][gc_id][\"type_flag\"][()]\n",
    "\n",
    "        time_lst = mass_data[it_id][gc_id][\"time\"]\n",
    "        form_time_lst = mass_data[it_id][gc_id][\"form_time\"]\n",
    "\n",
    "        log_mass_lst = mass_data[it_id][gc_id][\"log_mass\"]\n",
    "\n",
    "        mass_loss_lst = mass_data[it_id][gc_id][\"mass_loss\"]\n",
    "        mass_loss_det_lst = mass_data[it_id][gc_id][\"mass_loss_detectable\"]\n",
    "\n",
    "        mass_lst = []\n",
    "        for log_mass in log_mass_lst:\n",
    "            if not np.isnan(log_mass):\n",
    "                mass = 10**log_mass\n",
    "            else:\n",
    "                mass = 0\n",
    "            mass_lst.append(mass)\n",
    "\n",
    "        ########################################################################################3\n",
    "        # cosmic time\n",
    "        time_mass = safe_interpolate(time_lst, mass_lst, plot_dict[\"time\"])\n",
    "        time_mass_loss = safe_interpolate(time_lst, mass_loss_lst, plot_dict[\"time\"])\n",
    "        time_mass_loss_det = safe_interpolate(time_lst, mass_loss_det_lst, plot_dict[\"time\"])\n",
    "\n",
    "        plot_dict[it_id][str(type_flag)][\"time\"][\"mass\"] += time_mass\n",
    "        plot_dict[it_id][str(type_flag)][\"time\"][\"mass_loss\"] += time_mass_loss\n",
    "        plot_dict[it_id][str(type_flag)][\"time\"][\"mass_loss_det\"] += time_mass_loss_det\n",
    "\n",
    "        # formation time\n",
    "        form_time_mass = safe_interpolate(form_time_lst, mass_lst, plot_dict[\"form_time\"])\n",
    "        form_time_mass_loss = safe_interpolate(form_time_lst, mass_loss_lst, plot_dict[\"form_time\"])\n",
    "        form_time_mass_loss_det = safe_interpolate(form_time_lst, mass_loss_det_lst, plot_dict[\"form_time\"])\n",
    "\n",
    "        plot_dict[it_id][str(type_flag)][\"form_time\"][\"mass\"] += form_time_mass\n",
    "        plot_dict[it_id][str(type_flag)][\"form_time\"][\"mass_loss\"] += form_time_mass_loss\n",
    "        plot_dict[it_id][str(type_flag)][\"form_time\"][\"mass_loss_det\"] += form_time_mass_loss_det\n",
    "\n",
    "        # accretion time\n",
    "        if type_flag > 1:\n",
    "            acc_time_lst = mass_data[it_id][gc_id][\"acc_time\"]\n",
    "\n",
    "            acc_time_mass = safe_interpolate(acc_time_lst, mass_lst, plot_dict[\"acc_time\"])\n",
    "            acc_time_mass_loss = safe_interpolate(acc_time_lst, mass_loss_lst, plot_dict[\"acc_time\"])\n",
    "            acc_time_mass_loss_det = safe_interpolate(acc_time_lst, mass_loss_det_lst, plot_dict[\"acc_time\"])\n",
    "\n",
    "            plot_dict[it_id][str(type_flag)][\"acc_time\"][\"mass\"] += acc_time_mass\n",
    "            plot_dict[it_id][str(type_flag)][\"acc_time\"][\"mass_loss\"] += acc_time_mass_loss\n",
    "            plot_dict[it_id][str(type_flag)][\"acc_time\"][\"mass_loss_det\"] += acc_time_mass_loss_det"
   ]
  },
  {
   "cell_type": "code",
   "execution_count": 107,
   "metadata": {},
   "outputs": [
    {
     "data": {
      "text/plain": [
       "dict_keys(['time', 'form_time', 'acc_time', 'it000'])"
      ]
     },
     "execution_count": 107,
     "metadata": {},
     "output_type": "execute_result"
    }
   ],
   "source": [
    "plot_dict.keys()"
   ]
  },
  {
   "cell_type": "code",
   "execution_count": 108,
   "metadata": {},
   "outputs": [
    {
     "name": "stdout",
     "output_type": "stream",
     "text": [
      "time\n",
      "form_time\n",
      "acc_time\n"
     ]
    }
   ],
   "source": [
    "for key in plot_dict.keys():\n",
    "    if \"time\" in key:\n",
    "        print(key)"
   ]
  },
  {
   "cell_type": "code",
   "execution_count": 117,
   "metadata": {},
   "outputs": [
    {
     "data": {
      "text/plain": [
       "array([0.00000000e+00, 0.00000000e+00, 0.00000000e+00, 0.00000000e+00,\n",
       "       0.00000000e+00, 0.00000000e+00, 0.00000000e+00, 0.00000000e+00,\n",
       "       0.00000000e+00, 0.00000000e+00, 0.00000000e+00, 0.00000000e+00,\n",
       "       0.00000000e+00, 0.00000000e+00, 0.00000000e+00, 0.00000000e+00,\n",
       "       0.00000000e+00, 0.00000000e+00, 0.00000000e+00, 0.00000000e+00,\n",
       "       0.00000000e+00, 0.00000000e+00, 0.00000000e+00, 0.00000000e+00,\n",
       "       0.00000000e+00, 0.00000000e+00, 0.00000000e+00, 0.00000000e+00,\n",
       "       0.00000000e+00, 0.00000000e+00, 0.00000000e+00, 0.00000000e+00,\n",
       "       0.00000000e+00, 0.00000000e+00, 0.00000000e+00, 0.00000000e+00,\n",
       "       0.00000000e+00, 0.00000000e+00, 0.00000000e+00, 0.00000000e+00,\n",
       "       0.00000000e+00, 0.00000000e+00, 0.00000000e+00, 0.00000000e+00,\n",
       "       0.00000000e+00, 0.00000000e+00, 0.00000000e+00, 0.00000000e+00,\n",
       "       0.00000000e+00, 0.00000000e+00, 0.00000000e+00, 0.00000000e+00,\n",
       "       0.00000000e+00, 0.00000000e+00, 0.00000000e+00, 0.00000000e+00,\n",
       "       0.00000000e+00, 0.00000000e+00, 0.00000000e+00, 0.00000000e+00,\n",
       "       0.00000000e+00, 0.00000000e+00, 0.00000000e+00, 0.00000000e+00,\n",
       "       0.00000000e+00, 0.00000000e+00, 0.00000000e+00, 0.00000000e+00,\n",
       "       0.00000000e+00, 0.00000000e+00, 0.00000000e+00, 0.00000000e+00,\n",
       "       0.00000000e+00, 0.00000000e+00, 0.00000000e+00, 0.00000000e+00,\n",
       "       0.00000000e+00, 0.00000000e+00, 0.00000000e+00, 0.00000000e+00,\n",
       "       0.00000000e+00, 0.00000000e+00, 0.00000000e+00, 0.00000000e+00,\n",
       "       0.00000000e+00, 0.00000000e+00, 0.00000000e+00, 0.00000000e+00,\n",
       "       0.00000000e+00, 0.00000000e+00, 0.00000000e+00, 0.00000000e+00,\n",
       "       0.00000000e+00, 0.00000000e+00, 0.00000000e+00, 0.00000000e+00,\n",
       "       0.00000000e+00, 0.00000000e+00, 0.00000000e+00, 0.00000000e+00,\n",
       "       0.00000000e+00, 0.00000000e+00, 0.00000000e+00, 0.00000000e+00,\n",
       "       0.00000000e+00, 0.00000000e+00, 0.00000000e+00, 0.00000000e+00,\n",
       "       2.63633139e+05, 2.63633139e+05, 2.63633139e+05, 2.63633139e+05,\n",
       "       1.43879858e+05, 1.43879858e+05, 9.83623887e+05, 1.16643391e+06,\n",
       "       1.16643391e+06, 1.16643391e+06, 2.14142355e+06, 2.14142355e+06,\n",
       "       2.14142355e+06, 2.14142355e+06, 2.14142355e+06, 2.52868119e+06,\n",
       "       2.52868119e+06, 3.52960718e+06, 3.08918190e+06, 3.08918190e+06,\n",
       "       3.08918190e+06, 2.45834593e+06, 2.45834593e+06, 2.83821198e+06,\n",
       "       2.83821198e+06, 2.66640894e+06, 2.66640894e+06, 2.66640894e+06,\n",
       "       3.70626146e+06, 5.90801316e+06, 5.90801316e+06, 5.90801316e+06,\n",
       "       8.55547957e+06, 1.28085606e+07, 1.28085606e+07, 1.89355439e+07,\n",
       "       1.89355439e+07, 1.89355439e+07, 1.89355439e+07, 1.96443916e+07,\n",
       "       1.91722581e+07, 1.81704344e+07, 1.69626529e+07, 1.22535012e+07,\n",
       "       1.22535012e+07, 1.22535012e+07, 1.19239884e+07, 1.19239884e+07,\n",
       "       1.19239884e+07, 1.19239884e+07, 1.19239884e+07, 1.19239884e+07,\n",
       "       1.19239884e+07, 1.19239884e+07, 1.19239884e+07, 1.19239884e+07,\n",
       "       1.19239884e+07, 1.19239884e+07, 1.19239884e+07, 1.19239884e+07,\n",
       "       1.19239884e+07, 1.19239884e+07, 1.19239884e+07, 1.19239884e+07,\n",
       "       1.19239884e+07, 1.19239884e+07, 1.19239884e+07, 1.19239884e+07,\n",
       "       1.19239884e+07, 1.17312645e+07, 1.17312645e+07, 1.17312645e+07,\n",
       "       1.17312645e+07, 1.17312645e+07, 1.17312645e+07, 1.17312645e+07,\n",
       "       1.17312645e+07, 1.17312645e+07, 1.17312645e+07, 1.17312645e+07,\n",
       "       1.17312645e+07, 1.17312645e+07, 1.17312645e+07, 1.17312645e+07,\n",
       "       1.17312645e+07, 1.17312645e+07, 1.17312645e+07, 1.17312645e+07,\n",
       "       1.17312645e+07, 1.17312645e+07, 1.17312645e+07, 1.17312645e+07,\n",
       "       1.17312645e+07, 1.38049863e+07, 1.38049863e+07, 1.95620116e+07,\n",
       "       1.95620116e+07, 1.95620116e+07, 1.95620116e+07, 2.80764551e+07,\n",
       "       2.80764551e+07, 3.32761785e+07, 3.32761785e+07, 4.03456623e+07,\n",
       "       5.64390995e+07, 5.64390995e+07, 5.64390995e+07, 5.64390995e+07,\n",
       "       5.64390995e+07, 5.64390995e+07, 5.64390995e+07, 5.64203224e+07,\n",
       "       5.64203224e+07, 7.45604593e+07, 7.45604593e+07, 7.09665031e+07,\n",
       "       7.09665031e+07, 7.09665031e+07, 6.70810986e+07, 6.14900134e+07,\n",
       "       5.41911055e+07, 5.41911055e+07, 5.41911055e+07, 5.41080150e+07,\n",
       "       4.58745743e+07, 4.58745743e+07, 4.58745743e+07, 4.58745743e+07,\n",
       "       4.58745743e+07, 4.58745743e+07, 4.58745743e+07, 4.58745743e+07,\n",
       "       4.58745743e+07, 4.58745743e+07, 4.58745743e+07, 4.58745743e+07,\n",
       "       4.58745743e+07, 4.58745743e+07, 4.58745743e+07, 4.58745743e+07,\n",
       "       4.58745743e+07, 4.66141796e+07, 4.66141796e+07, 5.66067857e+07,\n",
       "       5.66067857e+07, 5.66067857e+07, 5.66067857e+07, 5.66067857e+07,\n",
       "       5.66067857e+07, 5.66067857e+07, 5.66067857e+07, 5.66067857e+07,\n",
       "       5.66067857e+07, 5.66067857e+07, 5.66067857e+07, 5.66067857e+07,\n",
       "       5.66067857e+07, 5.66067857e+07, 5.66067857e+07, 5.66067857e+07,\n",
       "       5.66067857e+07, 5.66067857e+07, 5.66067857e+07, 5.66067857e+07,\n",
       "       5.66067857e+07, 5.66067857e+07, 5.66067857e+07, 5.66067857e+07,\n",
       "       5.66067857e+07, 5.66067857e+07, 5.66067857e+07, 5.66067857e+07,\n",
       "       5.66067857e+07, 5.55234676e+07, 5.55234676e+07, 5.51720127e+07,\n",
       "       5.05106899e+07, 5.05106899e+07, 5.05106899e+07, 5.05106899e+07,\n",
       "       5.05106899e+07, 5.05106899e+07, 5.05106899e+07, 5.05106899e+07,\n",
       "       5.05106899e+07, 5.05106899e+07, 5.05106899e+07, 5.05106899e+07,\n",
       "       5.05106899e+07, 5.05106899e+07, 5.05106899e+07, 5.05106899e+07,\n",
       "       5.05106899e+07, 5.05106899e+07, 5.05106899e+07, 5.05106899e+07,\n",
       "       5.05106899e+07, 5.05106899e+07, 5.05106899e+07, 5.05106899e+07,\n",
       "       5.05106899e+07, 5.05106899e+07, 5.68149753e+07, 5.68149753e+07,\n",
       "       6.09050625e+07, 6.09050625e+07, 5.90756067e+07, 6.16788147e+07,\n",
       "       5.94669897e+07, 5.94669897e+07, 5.94669897e+07, 5.94669897e+07,\n",
       "       5.94669897e+07, 5.94669897e+07, 5.94669897e+07, 5.94669897e+07,\n",
       "       5.94669897e+07, 5.94669897e+07, 5.94669897e+07, 5.94669897e+07,\n",
       "       5.94669897e+07, 5.94669897e+07, 5.94669897e+07, 5.94669897e+07,\n",
       "       5.94669897e+07, 5.94669897e+07, 5.94669897e+07, 5.94669897e+07,\n",
       "       5.94669897e+07, 5.94669897e+07, 5.94669897e+07, 5.94669897e+07,\n",
       "       5.94669897e+07, 5.94669897e+07, 5.94669897e+07, 5.94669897e+07,\n",
       "       5.94669897e+07, 5.94669897e+07, 5.94669897e+07, 5.94669897e+07,\n",
       "       5.94669897e+07, 5.94669897e+07, 5.94669897e+07, 5.94669897e+07,\n",
       "       5.94669897e+07, 5.94669897e+07, 5.94669897e+07, 5.94669897e+07,\n",
       "       5.94669897e+07, 5.94669897e+07, 5.94669897e+07, 5.94669897e+07,\n",
       "       5.94669897e+07, 7.10140155e+07, 7.10140155e+07, 9.26425547e+07,\n",
       "       9.63064338e+07, 9.63064338e+07, 1.04238651e+08, 1.04238651e+08,\n",
       "       1.04238651e+08, 1.04238651e+08, 1.04238651e+08, 1.04238651e+08,\n",
       "       1.04238651e+08, 1.04238651e+08, 1.04238651e+08, 1.01634061e+08,\n",
       "       1.01634061e+08, 1.01634061e+08, 1.01634061e+08, 1.01634061e+08,\n",
       "       1.01634061e+08, 1.01634061e+08, 1.01634061e+08, 1.01634061e+08,\n",
       "       1.01634061e+08, 1.01634061e+08, 1.01634061e+08, 1.01634061e+08,\n",
       "       1.01634061e+08, 1.01634061e+08, 1.01634061e+08, 1.01634061e+08,\n",
       "       1.01634061e+08, 1.01634061e+08, 1.01634061e+08, 1.01634061e+08,\n",
       "       1.01634061e+08, 9.62753048e+07, 8.63084113e+07, 8.45778734e+07,\n",
       "       8.09006948e+07, 8.09006948e+07, 8.09006948e+07, 8.09006948e+07,\n",
       "       8.09006948e+07, 8.09006948e+07, 8.09006948e+07, 8.09006948e+07,\n",
       "       8.09006948e+07, 8.09006948e+07, 8.09006948e+07, 8.09006948e+07,\n",
       "       8.09006948e+07, 8.09006948e+07, 8.09006948e+07, 8.09006948e+07,\n",
       "       8.09006948e+07, 8.09006948e+07, 8.09006948e+07, 8.09006948e+07,\n",
       "       8.09006948e+07, 8.09006948e+07, 8.09006948e+07, 8.09006948e+07,\n",
       "       8.09006948e+07, 8.09006948e+07, 8.09006948e+07, 8.09006948e+07,\n",
       "       8.09006948e+07, 8.09006948e+07, 8.09006948e+07, 8.09006948e+07,\n",
       "       8.09006948e+07, 8.09006948e+07, 8.09006948e+07, 8.09006948e+07,\n",
       "       8.09006948e+07, 8.09006948e+07, 8.09006948e+07, 8.09006948e+07,\n",
       "       8.09006948e+07, 8.09006948e+07, 8.09006948e+07, 8.09006948e+07,\n",
       "       8.09006948e+07, 8.09006948e+07, 8.09006948e+07, 8.09006948e+07,\n",
       "       8.09006948e+07, 7.99701115e+07, 7.99701115e+07, 7.99701115e+07,\n",
       "       7.99701115e+07, 7.99701115e+07, 7.99701115e+07, 7.99701115e+07,\n",
       "       7.99701115e+07, 7.99701115e+07, 7.99701115e+07, 7.99701115e+07,\n",
       "       7.99701115e+07, 7.99701115e+07, 7.99701115e+07, 7.99701115e+07,\n",
       "       7.99701115e+07, 7.99701115e+07, 7.99701115e+07, 7.99701115e+07,\n",
       "       7.99701115e+07, 7.99701115e+07, 7.99701115e+07, 7.99701115e+07,\n",
       "       7.99701115e+07, 7.99701115e+07, 7.99701115e+07, 7.99701115e+07,\n",
       "       7.99701115e+07, 7.99701115e+07, 7.99701115e+07, 7.99701115e+07,\n",
       "       7.99701115e+07, 7.99701115e+07, 7.86291741e+07, 7.86291741e+07,\n",
       "       7.86291741e+07, 7.86291741e+07, 7.86291741e+07, 7.86291741e+07,\n",
       "       7.86291741e+07, 7.86291741e+07, 7.86291741e+07, 7.86291741e+07,\n",
       "       7.86291741e+07, 7.86291741e+07, 7.86291741e+07, 7.86291741e+07,\n",
       "       7.86291741e+07, 7.86291741e+07, 7.86291741e+07, 7.86291741e+07,\n",
       "       7.86291741e+07, 7.86291741e+07, 7.86291741e+07, 7.86291741e+07,\n",
       "       7.86291741e+07, 7.86291741e+07, 7.86291741e+07, 7.86291741e+07,\n",
       "       7.86291741e+07, 7.86291741e+07, 7.86291741e+07, 7.86291741e+07,\n",
       "       7.86291741e+07, 7.86291741e+07, 7.86291741e+07, 7.86291741e+07,\n",
       "       7.86291741e+07, 7.86291741e+07, 7.70743076e+07, 7.70743076e+07,\n",
       "       7.70743076e+07, 7.70743076e+07, 7.70743076e+07, 7.70743076e+07,\n",
       "       7.70743076e+07, 7.70743076e+07, 7.70743076e+07, 7.70743076e+07,\n",
       "       7.70743076e+07, 7.70743076e+07, 7.70743076e+07, 7.70743076e+07,\n",
       "       7.70743076e+07, 7.70743076e+07, 7.70743076e+07, 7.70743076e+07,\n",
       "       7.70743076e+07, 7.70743076e+07, 7.70743076e+07, 7.70743076e+07,\n",
       "       7.70743076e+07, 7.70743076e+07, 7.70743076e+07, 7.70743076e+07,\n",
       "       7.70743076e+07, 7.70743076e+07, 7.70743076e+07, 7.70743076e+07,\n",
       "       7.70743076e+07, 7.70743076e+07, 7.70743076e+07, 7.70743076e+07,\n",
       "       7.70743076e+07, 7.70743076e+07, 7.70743076e+07, 7.70743076e+07,\n",
       "       7.70743076e+07, 7.70743076e+07, 7.70743076e+07, 7.70743076e+07,\n",
       "       7.49858715e+07, 7.49858715e+07, 7.49858715e+07, 7.49858715e+07,\n",
       "       7.49858715e+07, 7.49858715e+07, 7.49858715e+07, 7.49858715e+07,\n",
       "       7.49858715e+07, 7.49858715e+07, 7.49858715e+07, 7.49858715e+07,\n",
       "       7.49858715e+07, 7.49858715e+07, 7.49858715e+07, 7.49858715e+07,\n",
       "       7.49858715e+07, 7.49858715e+07, 7.49858715e+07, 7.49858715e+07,\n",
       "       7.49858715e+07, 7.49858715e+07, 7.49858715e+07, 7.49858715e+07,\n",
       "       7.49858715e+07, 7.49858715e+07, 7.49858715e+07, 7.49858715e+07,\n",
       "       7.49858715e+07, 7.49858715e+07, 7.49858715e+07, 7.49858715e+07,\n",
       "       7.49858715e+07, 7.49858715e+07, 7.49858715e+07, 7.49858715e+07,\n",
       "       7.49858715e+07, 7.49858715e+07, 7.49858715e+07, 7.49858715e+07,\n",
       "       7.49858715e+07, 7.49858715e+07, 7.49858715e+07, 7.49858715e+07,\n",
       "       7.49858715e+07, 7.49858715e+07, 7.49858715e+07, 7.23706551e+07,\n",
       "       7.23706551e+07, 7.23706551e+07, 7.23706551e+07, 7.23706551e+07,\n",
       "       7.23706551e+07, 7.23706551e+07, 7.23706551e+07, 7.23706551e+07,\n",
       "       7.23706551e+07, 7.23706551e+07, 7.23706551e+07, 7.23706551e+07,\n",
       "       7.23706551e+07, 7.23706551e+07, 7.23706551e+07, 7.23706551e+07,\n",
       "       7.23706551e+07, 7.23706551e+07, 7.23706551e+07, 7.23706551e+07,\n",
       "       7.23706551e+07, 7.23706551e+07, 7.23706551e+07, 7.23706551e+07,\n",
       "       7.23706551e+07, 7.23706551e+07, 7.23706551e+07, 7.23706551e+07,\n",
       "       7.23706551e+07, 7.23706551e+07, 7.23706551e+07, 7.23706551e+07,\n",
       "       7.23706551e+07, 7.23706551e+07, 7.23706551e+07, 7.23706551e+07,\n",
       "       7.23706551e+07, 7.23706551e+07, 7.23706551e+07, 7.23706551e+07,\n",
       "       7.23706551e+07, 7.23706551e+07, 7.23706551e+07, 7.23706551e+07,\n",
       "       7.23706551e+07, 7.23706551e+07, 7.23706551e+07, 7.23706551e+07,\n",
       "       7.23706551e+07, 7.23706551e+07, 7.23706551e+07, 6.91224321e+07,\n",
       "       6.91224321e+07, 6.91224321e+07, 6.91224321e+07, 6.91224321e+07,\n",
       "       6.91224321e+07, 6.91224321e+07, 6.91224321e+07, 6.91224321e+07,\n",
       "       6.91224321e+07, 6.91224321e+07, 6.91224321e+07, 6.91224321e+07,\n",
       "       6.91224321e+07, 6.91224321e+07, 6.91224321e+07, 6.91224321e+07,\n",
       "       6.91224321e+07, 6.91224321e+07, 6.91224321e+07, 6.91224321e+07,\n",
       "       6.91224321e+07, 6.91224321e+07, 6.91224321e+07, 6.91224321e+07,\n",
       "       6.91224321e+07, 6.91224321e+07, 6.91224321e+07, 6.91224321e+07,\n",
       "       6.91224321e+07, 6.91224321e+07, 6.91224321e+07, 6.91224321e+07,\n",
       "       6.91224321e+07, 6.91224321e+07, 6.91224321e+07, 6.91224321e+07,\n",
       "       6.91224321e+07, 6.91224321e+07, 6.91224321e+07, 6.91224321e+07,\n",
       "       6.91224321e+07, 6.91224321e+07, 6.91224321e+07, 6.91224321e+07,\n",
       "       6.91224321e+07, 6.91224321e+07, 6.91224321e+07, 6.91224321e+07,\n",
       "       6.91224321e+07, 6.91224321e+07, 6.91224321e+07, 6.91224321e+07,\n",
       "       6.91224321e+07, 6.91224321e+07, 6.91224321e+07, 6.91224321e+07,\n",
       "       6.91224321e+07, 6.91224321e+07, 6.53794684e+07, 6.53794684e+07,\n",
       "       6.53794684e+07, 6.53794684e+07, 6.53794684e+07, 6.53794684e+07,\n",
       "       6.53794684e+07, 6.53794684e+07, 6.53794684e+07, 6.53794684e+07,\n",
       "       6.53794684e+07, 6.53794684e+07, 6.53794684e+07, 6.53794684e+07,\n",
       "       6.53794684e+07, 6.53794684e+07, 6.53794684e+07, 6.53794684e+07,\n",
       "       6.53794684e+07, 6.53794684e+07, 6.53794684e+07, 6.53794684e+07,\n",
       "       6.53794684e+07, 6.53794684e+07, 6.53794684e+07, 6.53794684e+07,\n",
       "       6.53794684e+07, 6.53794684e+07, 6.53794684e+07, 6.53794684e+07,\n",
       "       6.53794684e+07, 6.53794684e+07, 6.53794684e+07, 6.53794684e+07,\n",
       "       6.53794684e+07, 6.53794684e+07, 6.53794684e+07, 6.53794684e+07,\n",
       "       6.53794684e+07, 6.53794684e+07, 6.53794684e+07, 6.53794684e+07,\n",
       "       6.53794684e+07, 6.53794684e+07, 6.53794684e+07, 6.53794684e+07,\n",
       "       6.53794684e+07, 6.53794684e+07, 6.53794684e+07, 6.53794684e+07,\n",
       "       6.53794684e+07, 6.53794684e+07, 6.53794684e+07, 6.53794684e+07,\n",
       "       6.53794684e+07, 6.53794684e+07, 6.53794684e+07, 6.53794684e+07,\n",
       "       6.53794684e+07, 6.53794684e+07, 6.53794684e+07, 6.53794684e+07,\n",
       "       6.53794684e+07, 6.53794684e+07, 6.53794684e+07, 6.53794684e+07,\n",
       "       6.53794684e+07, 6.05465351e+07, 6.05465351e+07, 6.05465351e+07,\n",
       "       6.05465351e+07, 6.05465351e+07, 6.05465351e+07, 6.05465351e+07,\n",
       "       6.05465351e+07, 6.05465351e+07, 6.05465351e+07, 6.05465351e+07,\n",
       "       6.05465351e+07, 6.05465351e+07, 6.05465351e+07, 6.05465351e+07,\n",
       "       6.05465351e+07, 6.05465351e+07, 6.05465351e+07, 6.05465351e+07,\n",
       "       6.05465351e+07, 6.05465351e+07, 6.05465351e+07, 6.05465351e+07,\n",
       "       6.05465351e+07, 6.05465351e+07, 6.05465351e+07, 6.05465351e+07,\n",
       "       6.05465351e+07, 6.05465351e+07, 6.05465351e+07, 6.05465351e+07,\n",
       "       6.05465351e+07, 6.05465351e+07, 6.05465351e+07, 6.05465351e+07,\n",
       "       6.05465351e+07, 6.05465351e+07, 6.05465351e+07, 6.05465351e+07,\n",
       "       6.05465351e+07, 6.05465351e+07, 6.05465351e+07, 6.05465351e+07,\n",
       "       6.05465351e+07, 6.05465351e+07, 6.05465351e+07, 6.05465351e+07,\n",
       "       6.05465351e+07, 6.05465351e+07, 6.05465351e+07, 6.05465351e+07,\n",
       "       6.05465351e+07, 6.05465351e+07, 6.05465351e+07, 6.05465351e+07,\n",
       "       6.05465351e+07, 6.05465351e+07, 6.05465351e+07, 6.05465351e+07,\n",
       "       6.05465351e+07, 6.05465351e+07, 6.05465351e+07, 6.05465351e+07,\n",
       "       6.05465351e+07, 6.05465351e+07, 6.05465351e+07, 6.05465351e+07,\n",
       "       6.05465351e+07, 6.05465351e+07, 6.05465351e+07, 6.05465351e+07,\n",
       "       6.05465351e+07, 6.05465351e+07, 6.05465351e+07, 6.05465351e+07,\n",
       "       6.05465351e+07, 6.05465351e+07, 5.45951005e+07, 5.45951005e+07,\n",
       "       5.45951005e+07, 5.45951005e+07, 5.45951005e+07, 5.45951005e+07,\n",
       "       5.45951005e+07, 5.45951005e+07, 5.45951005e+07, 5.45951005e+07,\n",
       "       5.45951005e+07, 5.45951005e+07, 5.45951005e+07, 5.45951005e+07,\n",
       "       5.45951005e+07, 5.45951005e+07, 5.45951005e+07, 5.45951005e+07,\n",
       "       5.45951005e+07, 5.45951005e+07, 5.45951005e+07, 5.45951005e+07,\n",
       "       5.45951005e+07, 5.45951005e+07, 5.45951005e+07, 5.45951005e+07,\n",
       "       5.45951005e+07, 5.45951005e+07, 5.45951005e+07, 5.45951005e+07,\n",
       "       5.45951005e+07, 5.45951005e+07, 5.45951005e+07, 5.45951005e+07,\n",
       "       5.45951005e+07, 5.45951005e+07, 5.45951005e+07, 5.45951005e+07,\n",
       "       5.45951005e+07, 5.45951005e+07, 5.45951005e+07, 5.45951005e+07,\n",
       "       5.45951005e+07, 5.45951005e+07, 5.45951005e+07, 5.45951005e+07,\n",
       "       5.45951005e+07, 5.45951005e+07, 5.45951005e+07, 5.45951005e+07,\n",
       "       5.45951005e+07, 5.45951005e+07, 5.45951005e+07, 5.45951005e+07,\n",
       "       5.45951005e+07, 5.45951005e+07, 5.45951005e+07, 5.45951005e+07,\n",
       "       5.45951005e+07, 5.45951005e+07, 5.45951005e+07, 5.45951005e+07,\n",
       "       5.45951005e+07, 5.45951005e+07, 5.45951005e+07, 5.45951005e+07,\n",
       "       5.45951005e+07, 5.45951005e+07, 5.45951005e+07, 5.45951005e+07,\n",
       "       5.45951005e+07, 5.45951005e+07, 5.45951005e+07, 5.45951005e+07,\n",
       "       5.45951005e+07, 5.45951005e+07, 5.45951005e+07, 5.45951005e+07,\n",
       "       5.45951005e+07, 5.45951005e+07, 5.45951005e+07, 5.45951005e+07,\n",
       "       5.45951005e+07, 5.45951005e+07, 5.45951005e+07, 5.45951005e+07,\n",
       "       5.45951005e+07, 5.45951005e+07, 4.74479257e+07, 4.74479257e+07,\n",
       "       4.74479257e+07, 4.74479257e+07, 4.74479257e+07, 4.74479257e+07,\n",
       "       4.74479257e+07, 4.74479257e+07, 4.74479257e+07, 4.74479257e+07,\n",
       "       4.74479257e+07, 4.74479257e+07, 4.74479257e+07, 4.74479257e+07,\n",
       "       4.74479257e+07, 4.74479257e+07, 4.74479257e+07, 4.74479257e+07,\n",
       "       4.74479257e+07, 4.74479257e+07, 4.74479257e+07, 4.74479257e+07,\n",
       "       4.74479257e+07, 4.74479257e+07, 4.74479257e+07, 4.74479257e+07,\n",
       "       4.74479257e+07, 4.74479257e+07, 4.74479257e+07, 4.74479257e+07,\n",
       "       4.74479257e+07, 4.74479257e+07, 4.74479257e+07, 4.74479257e+07,\n",
       "       4.74479257e+07, 4.74479257e+07, 4.74479257e+07, 4.74479257e+07,\n",
       "       4.74479257e+07, 4.74479257e+07, 4.74479257e+07, 4.74479257e+07,\n",
       "       4.74479257e+07, 4.74479257e+07, 4.74479257e+07, 4.74479257e+07,\n",
       "       4.73748234e+07, 1.48000000e+02, 1.48000000e+02, 1.48000000e+02])"
      ]
     },
     "execution_count": 117,
     "metadata": {},
     "output_type": "execute_result"
    }
   ],
   "source": [
    "# plot_dict[\"it000\"][\"0\"][\"time\"][\"mass\"]\n",
    "\n",
    "plot_dict[\"it000\"][\"0\"][\"time\"][\"mass\"]"
   ]
  },
  {
   "cell_type": "code",
   "execution_count": 106,
   "metadata": {},
   "outputs": [
    {
     "data": {
      "text/plain": [
       "[<matplotlib.lines.Line2D at 0x16e5bcf80>]"
      ]
     },
     "execution_count": 106,
     "metadata": {},
     "output_type": "execute_result"
    },
    {
     "data": {
      "image/png": "[encoded data removed]",
      "text/plain": [
       "<Figure size 640x480 with 1 Axes>"
      ]
     },
     "metadata": {},
     "output_type": "display_data"
    }
   ],
   "source": [
    "plt.plot(plot_dict[\"time\"], plot_dict[it_id][str(4)][\"time\"][\"mass\"])"
   ]
  },
  {
   "cell_type": "code",
   "execution_count": 3,
   "metadata": {},
   "outputs": [
    {
     "data": {
      "text/plain": [
       "[<matplotlib.lines.Line2D at 0x16d2eac90>]"
      ]
     },
     "execution_count": 3,
     "metadata": {},
     "output_type": "execute_result"
    },
    {
     "data": {
      "image/png": "[encoded data removed]",
      "text/plain": [
       "<Figure size 640x480 with 1 Axes>"
      ]
     },
     "metadata": {},
     "output_type": "display_data"
    }
   ],
   "source": [
    "path = \"/Users/z5114326/Documents/GitHub/gc_statistics/data/mass_data/m12i_gc_type_mass_data.hdf5\"\n",
    "data = proc_data = h5py.File(path, \"r\")  # open processed data file\n",
    "\n",
    "time = data[\"time\"][()]\n",
    "mass = data[\"it000\"][\"4\"][\"time\"][\"mass\"][()]\n",
    "\n",
    "plt.plot(time, mass)"
   ]
  },
  {
   "cell_type": "code",
   "execution_count": 5,
   "metadata": {},
   "outputs": [],
   "source": [
    "data.close()\n"
   ]
  },
  {
   "cell_type": "code",
   "execution_count": 146,
   "metadata": {},
   "outputs": [
    {
     "name": "stdout",
     "output_type": "stream",
     "text": [
      "\n",
      "hi\n"
     ]
    }
   ],
   "source": [
    "print()\n",
    "print(\"hi\")"
   ]
  }
 ],
 "metadata": {
  "kernelspec": {
   "display_name": ".venv",
   "language": "python",
   "name": "python3"
  },
  "language_info": {
   "codemirror_mode": {
    "name": "ipython",
    "version": 3
   },
   "file_extension": ".py",
   "mimetype": "text/x-python",
   "name": "python",
   "nbconvert_exporter": "python",
   "pygments_lexer": "ipython3",
   "version": "3.12.7"
  }
 },
 "nbformat": 4,
 "nbformat_minor": 2
}
