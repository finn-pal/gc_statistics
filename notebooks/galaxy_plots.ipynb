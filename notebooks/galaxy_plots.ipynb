{
 "cells": [
  {
   "cell_type": "code",
   "execution_count": 546,
   "metadata": {},
   "outputs": [],
   "source": [
    "import gizmo_analysis as gizmo\n",
    "import h5py\n",
    "import halo_analysis as halo\n",
    "import matplotlib.pyplot as plt\n",
    "import numpy as np\n",
    "import pandas as pd\n",
    "import scipy.interpolate as interp\n",
    "import scipy.signal as signal\n",
    "import utilities as ut\n"
   ]
  },
  {
   "cell_type": "code",
   "execution_count": 547,
   "metadata": {},
   "outputs": [],
   "source": [
    "sim = \"m12i\"\n",
    "sim_dir = \"/Users/z5114326/Documents/simulations/\"\n",
    "fire_dir = sim_dir + sim + \"/\" + sim + \"_res7100\"\n",
    "\n",
    "proc_file = sim_dir + sim + \"/\" + sim + \"_processed.hdf5\"\n",
    "proc_data = h5py.File(proc_file, \"r\")  # open processed data file\n",
    "\n",
    "snap = fire_dir + \"/snapshot_times.txt\"\n",
    "snap_data = pd.read_table(snap, comment=\"#\", header=None, sep=r\"\\s+\")\n",
    "snap_data.columns = [\n",
    "    \"index\",\n",
    "    \"scale_factor\",\n",
    "    \"redshift\",\n",
    "    \"time_Gyr\",\n",
    "    \"lookback_time_Gyr\",\n",
    "    \"time_width_Myr\",\n",
    "]\n"
   ]
  },
  {
   "cell_type": "code",
   "execution_count": 548,
   "metadata": {},
   "outputs": [
    {
     "name": "stdout",
     "output_type": "stream",
     "text": [
      "\n",
      "# in utilities.simulation.Snapshot():\n",
      "* reading:  Users/z5114326/Documents/simulations/m12i/m12i_res7100/snapshot_times.txt\n",
      "\n",
      "* read 17859038 halos from:  Users/z5114326/Documents/simulations/m12i/m12i_res7100/halo/rockstar_dm/catalog_hdf5/tree.hdf5\n",
      "\n",
      "\n",
      "# in gizmo_analysis.gizmo_track.ParticleCoordinate():\n",
      "  read 1 host (position, velocity, principal axes) from:  Users/z5114326/Documents/simulations/m12i/m12i_res7100/track/host_coordinates.hdf5\n",
      "  host1 position = (41792.15, 44131.23, 46267.68) [kpc comoving]\n",
      "  host1 velocity = (-52.2, 73.6, 94.7) [km/s]\n",
      "  host1 axis ratios = (0.16, 0.16, 0.99)\n"
     ]
    }
   ],
   "source": [
    "halt = halo.io.IO.read_tree(simulation_directory=fire_dir, assign_hosts_rotation=True)"
   ]
  },
  {
   "cell_type": "code",
   "execution_count": 549,
   "metadata": {},
   "outputs": [
    {
     "data": {
      "text/plain": [
       "[1920378, 8580896, 13687078, 19898495]"
      ]
     },
     "execution_count": 549,
     "metadata": {},
     "output_type": "execute_result"
    }
   ],
   "source": [
    "grp_lst = proc_data[\"it000\"][\"snapshots\"][\"snap600\"][\"group_id\"][()]\n",
    "\n",
    "unique_values, counts = np.unique(grp_lst, return_counts=True)\n",
    "grp_unq = [grp for grp, cnts in zip(unique_values, counts) if cnts > 5]\n",
    "grp_unq = grp_unq[1:]  # exclude grp = 0\n",
    "\n",
    "grp_unq"
   ]
  },
  {
   "cell_type": "code",
   "execution_count": 581,
   "metadata": {},
   "outputs": [
    {
     "data": {
      "text/plain": [
       "19898495"
      ]
     },
     "execution_count": 581,
     "metadata": {},
     "output_type": "execute_result"
    }
   ],
   "source": [
    "host_grp_test = grp_unq[3]\n",
    "host_grp_test"
   ]
  },
  {
   "cell_type": "code",
   "execution_count": 582,
   "metadata": {},
   "outputs": [],
   "source": [
    "idx = np.where(halt[\"tid\"] == host_grp_test)[0][0]\n",
    "init_snap = halt[\"snapshot\"][idx]"
   ]
  },
  {
   "cell_type": "code",
   "execution_count": 583,
   "metadata": {},
   "outputs": [
    {
     "data": {
      "text/plain": [
       "(array([0., 0., 0.], dtype=float32), 478)"
      ]
     },
     "execution_count": 583,
     "metadata": {},
     "output_type": "execute_result"
    }
   ],
   "source": [
    "next_idx = halt[\"descendant.index\"][idx]\n",
    "halt.prop(\"host.distance\", next_idx), halt.prop(\"snapshot\", next_idx)"
   ]
  },
  {
   "cell_type": "code",
   "execution_count": 584,
   "metadata": {},
   "outputs": [],
   "source": [
    "time = snap_data[snap_data[\"index\"] == init_snap][\"time_Gyr\"].values[0]\n",
    "approx_end_time = time - 1\n",
    "\n",
    "end_idx = np.argmin(np.abs(approx_end_time - snap_data[\"time_Gyr\"]))\n",
    "end_snap = snap_data[\"index\"][end_idx]"
   ]
  },
  {
   "cell_type": "code",
   "execution_count": 585,
   "metadata": {},
   "outputs": [],
   "source": [
    "evolve_dict = {}\n",
    "evolve_dict[str(host_grp_test)] = {}\n",
    "\n",
    "evolve_dict[str(host_grp_test)][\"snap\"] = []\n",
    "evolve_dict[str(host_grp_test)][\"pos\"] = []\n",
    "evolve_dict[str(host_grp_test)][\"vel\"] = []\n",
    "\n",
    "# put final data in\n",
    "evolve_dict[str(host_grp_test)][\"snap\"].append(halt.prop(\"snapshot\", next_idx))\n",
    "evolve_dict[str(host_grp_test)][\"pos\"].append(halt.prop(\"host.distance\", next_idx))\n",
    "evolve_dict[str(host_grp_test)][\"vel\"].append(halt.prop(\"host.velocity\", next_idx))\n",
    "\n",
    "# put init data in\n",
    "evolve_dict[str(host_grp_test)][\"snap\"].append(init_snap)\n",
    "evolve_dict[str(host_grp_test)][\"pos\"].append(halt.prop(\"host.distance\", idx))\n",
    "evolve_dict[str(host_grp_test)][\"vel\"].append(halt.prop(\"host.velocity\", idx))\n",
    "\n",
    "for _ in range(end_snap, init_snap + 1):\n",
    "    idx = halt[\"progenitor.main.index\"][idx]\n",
    "\n",
    "    evolve_dict[str(host_grp_test)][\"snap\"].append(halt[\"snapshot\"][idx])\n",
    "    evolve_dict[str(host_grp_test)][\"pos\"].append(halt.prop(\"host.distance\", idx))\n",
    "    evolve_dict[str(host_grp_test)][\"vel\"].append(halt.prop(\"host.velocity\", idx))"
   ]
  },
  {
   "cell_type": "code",
   "execution_count": 586,
   "metadata": {},
   "outputs": [],
   "source": [
    "x_lst = np.array(evolve_dict[str(host_grp_test)][\"pos\"])[:, 0]\n",
    "y_lst = np.array(evolve_dict[str(host_grp_test)][\"pos\"])[:, 1]\n",
    "z_lst = np.array(evolve_dict[str(host_grp_test)][\"pos\"])[:, 2]\n",
    "\n",
    "vx_lst = np.array(evolve_dict[str(host_grp_test)][\"vel\"])[:, 0]\n",
    "vy_lst = np.array(evolve_dict[str(host_grp_test)][\"vel\"])[:, 1]\n",
    "vz_lst = np.array(evolve_dict[str(host_grp_test)][\"vel\"])[:, 2]\n",
    "\n",
    "time_lst = np.array([snap_data[\"time_Gyr\"][idx] for idx in evolve_dict[str(host_grp_test)][\"snap\"]])\n",
    "\n",
    "# Step 1: Sort by time\n",
    "sorted_indices = np.argsort(time_lst)\n",
    "\n",
    "# Step 2: Reorder data arrays based on sorted indices\n",
    "x_lst = x_lst[sorted_indices]\n",
    "y_lst = y_lst[sorted_indices]\n",
    "z_lst = z_lst[sorted_indices]\n",
    "\n",
    "vx_lst = vx_lst[sorted_indices]\n",
    "vy_lst = vy_lst[sorted_indices]\n",
    "vz_lst = vz_lst[sorted_indices]\n",
    "\n",
    "time_lst = time_lst[sorted_indices]\n",
    "\n",
    "km_convert = 3.086e16\n",
    "time_convert = (10e9) * 365.25 * 24 * 60 * 60"
   ]
  },
  {
   "cell_type": "code",
   "execution_count": 588,
   "metadata": {},
   "outputs": [
    {
     "data": {
      "text/plain": [
       "Text(0.5, 1.0, 'Galaxy Merger Trajectory with Sigma Smoothing')"
      ]
     },
     "execution_count": 588,
     "metadata": {},
     "output_type": "execute_result"
    },
    {
     "data": {
      "image/png": "[encoded data removed]",
      "text/plain": [
       "<Figure size 600x600 with 1 Axes>"
      ]
     },
     "metadata": {},
     "output_type": "display_data"
    }
   ],
   "source": [
    "# Threshold to decide between quadratic and cubic fitting\n",
    "pos_threshold = 7.5\n",
    "\n",
    "# Arrays to store smoothed data\n",
    "x_smooth_all = []\n",
    "y_smooth_all = []\n",
    "\n",
    "# Piecewise fitting\n",
    "for i in range(1, len(x_lst)):\n",
    "    # Get the previous and current points\n",
    "    pos_init = np.array([x_lst[i - 1], y_lst[i - 1]])\n",
    "    vel_init = np.array([vx_lst[i - 1], vy_lst[i - 1]])\n",
    "    t_init = time_lst[i - 1]\n",
    "\n",
    "    pos_final = np.array([x_lst[i], y_lst[i]])\n",
    "    vel_final = np.array([vx_lst[i], vy_lst[i]])\n",
    "    t_final = time_lst[i]\n",
    "\n",
    "    dpos = np.abs(\n",
    "        np.linalg.norm([x_lst[i - 1], y_lst[i - 1], z_lst[i - 1]])\n",
    "        - np.linalg.norm([x_lst[i], y_lst[i], z_lst[i]])\n",
    "    )\n",
    "\n",
    "    pos_init = pos_init * km_convert\n",
    "    pos_final = pos_final * km_convert\n",
    "    t_init = t_init * time_convert\n",
    "    t_final = t_final * time_convert\n",
    "\n",
    "    # Construct arrays of time, position, and velocity\n",
    "    t = np.array([t_init, t_final])\n",
    "    x_pos = np.array([pos_init[0], pos_final[0]])\n",
    "    y_pos = np.array([pos_init[1], pos_final[1]])\n",
    "    vx_pos = np.array([vel_init[0], vel_final[0]])  # Velocities for x and y\n",
    "    vy_pos = np.array([vel_init[1], vel_final[1]])\n",
    "\n",
    "    # Decide whether to use quadratic or cubic spline\n",
    "    if dpos < pos_threshold:\n",
    "        # Use quadratic spline (PCHIP) if velocity change is small\n",
    "        cs_x = interp.CubicSpline(t, x_pos, bc_type=\"natural\")  # For X position\n",
    "        cs_y = interp.CubicSpline(t, y_pos, bc_type=\"natural\")  # For Y position\n",
    "\n",
    "        sample_step = 1\n",
    "    else:\n",
    "        # Use cubic spline if velocity change is large\n",
    "        cs_x = interp.CubicSpline(t, x_pos, bc_type=((1, vx_pos[0]), (1, vx_pos[1])))  # For X position\n",
    "        cs_y = interp.CubicSpline(t, y_pos, bc_type=((1, vy_pos[0]), (1, vy_pos[1])))  # For Y position\n",
    "\n",
    "        sample_step = 10\n",
    "\n",
    "    # Generate smooth interpolated points for the current segment\n",
    "    t_smooth = np.linspace(t_init, t_final, sample_step)  # More points for smoothing\n",
    "    x_smooth = cs_x(t_smooth)\n",
    "    y_smooth = cs_y(t_smooth)\n",
    "\n",
    "    # Append smooth points to the lists\n",
    "    x_smooth_all.extend(x_smooth)\n",
    "    y_smooth_all.extend(y_smooth)\n",
    "\n",
    "\n",
    "# Step 2: Smoothing with Savitzky-Golay filter (or Gaussian filter)\n",
    "window_length = 12  # Adjust window size for smoothing\n",
    "polyorder = 3  # Polynomial order for Savitzky-Golay filter\n",
    "\n",
    "x_all_con = np.array(x_smooth_all) / km_convert\n",
    "y_all_con = np.array(y_smooth_all) / km_convert\n",
    "\n",
    "# Apply Savitzky-Golay filter to the interpolated data\n",
    "x_plt = signal.savgol_filter(x_all_con, window_length, polyorder)\n",
    "y_plt = signal.savgol_filter(y_all_con, window_length, polyorder)\n",
    "\n",
    "# Plot results\n",
    "plt.figure(figsize=(6, 6))\n",
    "# plt.plot(x_lst, y_lst, \"o-\", label=\"Original\")\n",
    "# plt.plot(x_all_con, y_all_con, \"g-\", alpha=0.5, label=\"Adaptive Interpolation\")  # Before smoothing\n",
    "plt.plot(x_plt, y_plt, \"b-\", lw=5, alpha=0.5, label=\"Sigma Smoothed\")  # Smoothed data\n",
    "plt.xlabel(\"X Position\")\n",
    "plt.ylabel(\"Y Position\")\n",
    "plt.legend()\n",
    "plt.title(\"Galaxy Merger Trajectory with Sigma Smoothing\")\n",
    "# plt.xlim((-50, 50))\n",
    "# plt.ylim((-50, 50))"
   ]
  },
  {
   "cell_type": "code",
   "execution_count": null,
   "metadata": {},
   "outputs": [],
   "source": []
  }
 ],
 "metadata": {
  "kernelspec": {
   "display_name": ".venv",
   "language": "python",
   "name": "python3"
  },
  "language_info": {
   "codemirror_mode": {
    "name": "ipython",
    "version": 3
   },
   "file_extension": ".py",
   "mimetype": "text/x-python",
   "name": "python",
   "nbconvert_exporter": "python",
   "pygments_lexer": "ipython3",
   "version": "3.12.7"
  }
 },
 "nbformat": 4,
 "nbformat_minor": 2
}
