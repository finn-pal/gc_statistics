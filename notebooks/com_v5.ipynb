{
 "cells": [
  {
   "cell_type": "code",
   "execution_count": 43,
   "metadata": {},
   "outputs": [],
   "source": [
    "import gizmo_analysis as gizmo\n",
    "import h5py\n",
    "import halo_analysis as halo\n",
    "import matplotlib.gridspec as gridspec\n",
    "import matplotlib.pyplot as plt\n",
    "import numpy as np\n",
    "import pandas as pd\n",
    "import scipy.interpolate as interp\n",
    "import scipy.signal as signal\n",
    "import utilities as ut\n",
    "from gc_utils import get_descendants_halt, iteration_name, main_prog_halt, snapshot_name  # type: ignore\n"
   ]
  },
  {
   "cell_type": "code",
   "execution_count": 44,
   "metadata": {},
   "outputs": [],
   "source": [
    "sim = \"m12i\"\n",
    "sim_dir = \"/Users/z5114326/Documents/simulations/\"\n",
    "fire_dir = sim_dir + sim + \"/\" + sim + \"_res7100\"\n",
    "\n",
    "proc_file = sim_dir + sim + \"/\" + sim + \"_processed.hdf5\"\n",
    "proc_data = h5py.File(proc_file, \"r\")  # open processed data file\n",
    "\n",
    "snap_dir = fire_dir + \"/snapshot_times.txt\"\n",
    "snap_data = pd.read_table(snap_dir, comment=\"#\", header=None, sep=r\"\\s+\")\n",
    "snap_data.columns = [\n",
    "    \"index\",\n",
    "    \"scale_factor\",\n",
    "    \"redshift\",\n",
    "    \"time_Gyr\",\n",
    "    \"lookback_time_Gyr\",\n",
    "    \"time_width_Myr\",\n",
    "]\n",
    "\n",
    "snap_pub_dir = sim_dir + \"/snapshot_times_public.txt\"\n",
    "snap_pub_data = pd.read_table(snap_pub_dir, comment=\"#\", header=None, sep=r\"\\s+\")\n",
    "snap_pub_data.columns = [\n",
    "    \"index\",\n",
    "    \"scale_factor\",\n",
    "    \"redshift\",\n",
    "    \"time_Gyr\",\n",
    "    \"lookback_time_Gyr\",\n",
    "    \"time_width_Myr\",\n",
    "]"
   ]
  },
  {
   "cell_type": "code",
   "execution_count": 45,
   "metadata": {},
   "outputs": [
    {
     "name": "stdout",
     "output_type": "stream",
     "text": [
      "\n",
      "# in utilities.simulation.Snapshot():\n",
      "* reading:  Users/z5114326/Documents/simulations/m12i/m12i_res7100/snapshot_times.txt\n",
      "\n",
      "  using snapshot index = 77, redshift = 4.478\n",
      "\n",
      "* read 9832 halos from:  Users/z5114326/Documents/simulations/m12i/m12i_res7100/halo/rockstar_dm/catalog_hdf5/halo_077.hdf5\n",
      "\n",
      "# in halo_analysis.halo_io.Particle():\n",
      "* read 9832 halos, 301 have star particles, from:  Users/z5114326/Documents/simulations/m12i/m12i_res7100/halo/rockstar_dm/catalog_hdf5/star_077.hdf5\n",
      "* assigning primary host and coordinates wrt it to halo catalog...  finished\n",
      "\n",
      "\n",
      "# in gizmo_analysis.gizmo_track.ParticleCoordinate():\n",
      "  read 1 host (position, velocity, principal axes) from:  Users/z5114326/Documents/simulations/m12i/m12i_res7100/track/host_coordinates.hdf5\n",
      "  host1 position = (43057.26, 42130.64, 44311.36) [kpc comoving]\n",
      "  host1 velocity = (-11.0, 39.1, 70.4) [km/s]\n",
      "  host1 axis ratios = (0.53, 0.65, 0.81)\n"
     ]
    }
   ],
   "source": [
    "snap = 77\n",
    "\n",
    "hal = halo.io.IO.read_catalogs(\"index\", snap, fire_dir, assign_hosts_rotation=True)"
   ]
  },
  {
   "cell_type": "code",
   "execution_count": 46,
   "metadata": {},
   "outputs": [
    {
     "name": "stdout",
     "output_type": "stream",
     "text": [
      "\n",
      "# in utilities.simulation.Snapshot():\n",
      "* reading:  Users/z5114326/Documents/simulations/m12i/m12i_res7100/snapshot_times.txt\n",
      "\n",
      "  using snapshot index = 77, redshift = 4.478\n",
      "\n"
     ]
    },
    {
     "name": "stdout",
     "output_type": "stream",
     "text": [
      "\n",
      "# in gizmo_analysis.gizmo_io.Read():\n",
      "* reading header from:  Users/z5114326/Documents/simulations/m12i/m12i_res7100/output/snapdir_077/snapshot_077.0.hdf5\n",
      "  snapshot contains the following number of particles:\n",
      "    dark      (id = 1): 70514272 particles\n",
      "    dark2     (id = 2): 5513331 particles\n",
      "    gas       (id = 0): 70388512 particles\n",
      "    star      (id = 4): 125821 particles\n",
      "    blackhole (id = 5): 0 particles\n",
      "\n",
      "* reading the following\n",
      "  species: ['dark', 'star']\n",
      "\n",
      "* reading particles from:\n",
      "    snapshot_077.0.hdf5\n",
      "    snapshot_077.1.hdf5\n",
      "    snapshot_077.2.hdf5\n",
      "    snapshot_077.3.hdf5\n",
      "\n",
      "* reading cosmological parameters from:  Users/z5114326/Documents/simulations/m12i/m12i_res7100/initial_condition/ic_agora_m12i.conf\n",
      "\n",
      "* checking sanity of particle properties\n",
      "\n",
      "\n",
      "# in gizmo_analysis.gizmo_track.ParticleCoordinate():\n",
      "  read 1 host (position, velocity, principal axes) from:  Users/z5114326/Documents/simulations/m12i/m12i_res7100/track/host_coordinates.hdf5\n",
      "  host1 position = (43057.26, 42130.64, 44311.36) [kpc comoving]\n",
      "  host1 velocity = (-11.0, 39.1, 70.4) [km/s]\n",
      "  host1 axis ratios = (0.53, 0.65, 0.81)\n",
      "\n"
     ]
    }
   ],
   "source": [
    "part = gizmo.io.Read.read_snapshots(\n",
    "    [\"dark\", \"star\"], \"index\", snap, simulation_directory=fire_dir, assign_hosts_rotation=True\n",
    ")"
   ]
  },
  {
   "cell_type": "markdown",
   "metadata": {},
   "source": [
    "# LETS DO A TEST TO JUST CONFIRM THE PROCESS"
   ]
  },
  {
   "cell_type": "code",
   "execution_count": 47,
   "metadata": {},
   "outputs": [
    {
     "data": {
      "text/plain": [
       "array([43056.184, 42130.63 , 44310.984], dtype=float32)"
      ]
     },
     "execution_count": 47,
     "metadata": {},
     "output_type": "execute_result"
    }
   ],
   "source": [
    "host_idx = np.where(hal.prop(\"host.distance.principal.total\") == 0)[0][0]\n",
    "hal[\"position\"][host_idx]"
   ]
  },
  {
   "cell_type": "code",
   "execution_count": 48,
   "metadata": {},
   "outputs": [],
   "source": [
    "# second largest galaxy\n",
    "galaxy_b_idx = np.where(hal[\"mass\"] == np.flip(np.sort(hal[\"mass\"]))[1])[0][0]\n",
    "\n",
    "# dark matter close to the centre of galaxy_B\n",
    "particle_idx = 31986394"
   ]
  },
  {
   "cell_type": "markdown",
   "metadata": {},
   "source": [
    "## Start with position"
   ]
  },
  {
   "cell_type": "code",
   "execution_count": 49,
   "metadata": {},
   "outputs": [
    {
     "data": {
      "text/plain": [
       "array([ 100.06183, -256.75357, -249.67384], dtype=float32)"
      ]
     },
     "execution_count": 49,
     "metadata": {},
     "output_type": "execute_result"
    }
   ],
   "source": [
    "# this is what I need to match\n",
    "hal.prop(\"host.distance.principal\", galaxy_b_idx)"
   ]
  },
  {
   "cell_type": "code",
   "execution_count": 50,
   "metadata": {},
   "outputs": [],
   "source": [
    "rotate_tensor = hal.host[\"rotation\"][0]\n",
    "unrotate_tensor = rotate_tensor.transpose()"
   ]
  },
  {
   "cell_type": "code",
   "execution_count": 51,
   "metadata": {},
   "outputs": [
    {
     "data": {
      "text/plain": [
       "array([ 143.40086, -321.53067,  119.69134], dtype=float32)"
      ]
     },
     "execution_count": 51,
     "metadata": {},
     "output_type": "execute_result"
    }
   ],
   "source": [
    "ut.coordinate.get_coordinates_rotated(hal.prop(\"host.distance.principal\", galaxy_b_idx), unrotate_tensor)"
   ]
  },
  {
   "cell_type": "code",
   "execution_count": 52,
   "metadata": {},
   "outputs": [
    {
     "data": {
      "text/plain": [
       "array([ 143.40086, -321.53067,  119.69134], dtype=float32)"
      ]
     },
     "execution_count": 52,
     "metadata": {},
     "output_type": "execute_result"
    }
   ],
   "source": [
    "# position of galaxy B in reference to galaxy A\n",
    "\n",
    "galaxy_b_pos_a_unrotated = ut.coordinate.get_distances(\n",
    "    hal[\"position\"][galaxy_b_idx],\n",
    "    hal[\"position\"][host_idx],\n",
    "    hal.info[\"box.length\"],\n",
    "    hal.snapshot[\"scalefactor\"],\n",
    "    total_distance=False,\n",
    ")  # [kpc physical]\n",
    "\n",
    "galaxy_b_pos_a_unrotated"
   ]
  },
  {
   "cell_type": "code",
   "execution_count": 53,
   "metadata": {},
   "outputs": [
    {
     "data": {
      "text/plain": [
       "array([ 100.06183, -256.75357, -249.67384], dtype=float32)"
      ]
     },
     "execution_count": 53,
     "metadata": {},
     "output_type": "execute_result"
    }
   ],
   "source": [
    "galaxy_b_pos_a_rotated = ut.coordinate.get_coordinates_rotated(galaxy_b_pos_a_unrotated, rotate_tensor)\n",
    "galaxy_b_pos_a_rotated"
   ]
  },
  {
   "cell_type": "code",
   "execution_count": 54,
   "metadata": {},
   "outputs": [
    {
     "data": {
      "text/plain": [
       "array([  99.87586756, -256.63107867, -249.68264204])"
      ]
     },
     "execution_count": 54,
     "metadata": {},
     "output_type": "execute_result"
    }
   ],
   "source": [
    "# now lets do the same for the particle\n",
    "\n",
    "# this is what I need to match\n",
    "part[\"dark\"].prop(\"host.distance.principal\", particle_idx)"
   ]
  },
  {
   "cell_type": "code",
   "execution_count": 55,
   "metadata": {},
   "outputs": [
    {
     "data": {
      "text/plain": [
       "array([ 143.22875382, -321.51075297,  119.5511743 ])"
      ]
     },
     "execution_count": 55,
     "metadata": {},
     "output_type": "execute_result"
    }
   ],
   "source": [
    "ut.coordinate.get_coordinates_rotated(\n",
    "    part[\"dark\"].prop(\"host.distance.principal\", particle_idx), unrotate_tensor\n",
    ")"
   ]
  },
  {
   "cell_type": "code",
   "execution_count": 56,
   "metadata": {},
   "outputs": [
    {
     "data": {
      "text/plain": [
       "array([ 143.42579157, -321.50985401,  119.62052775])"
      ]
     },
     "execution_count": 56,
     "metadata": {},
     "output_type": "execute_result"
    }
   ],
   "source": [
    "# position of galaxy B in reference to galaxy A\n",
    "\n",
    "particle_pos_a_unrotated = ut.coordinate.get_distances(\n",
    "    part[\"dark\"][\"position\"][particle_idx],\n",
    "    hal[\"position\"][host_idx],\n",
    "    hal.info[\"box.length\"],\n",
    "    hal.snapshot[\"scalefactor\"],\n",
    "    total_distance=False,\n",
    ")  # [kpc physical]\n",
    "\n",
    "particle_pos_a_unrotated"
   ]
  },
  {
   "cell_type": "code",
   "execution_count": 57,
   "metadata": {},
   "outputs": [
    {
     "data": {
      "text/plain": [
       "array([ 100.07836198, -256.6806758 , -249.69575282])"
      ]
     },
     "execution_count": 57,
     "metadata": {},
     "output_type": "execute_result"
    }
   ],
   "source": [
    "particle_pos_a_rotated = ut.coordinate.get_coordinates_rotated(particle_pos_a_unrotated, rotate_tensor)\n",
    "particle_pos_a_rotated"
   ]
  },
  {
   "cell_type": "code",
   "execution_count": 58,
   "metadata": {},
   "outputs": [
    {
     "data": {
      "text/plain": [
       "(array([ 0.003018  ,  0.01330619, -0.00399934]), 0.014218215084622933)"
      ]
     },
     "execution_count": 58,
     "metadata": {},
     "output_type": "execute_result"
    }
   ],
   "source": [
    "# now lets get the distance between galaxy a and star particle\n",
    "\n",
    "test_rotate = ut.coordinate.get_distances(\n",
    "    particle_pos_a_rotated,\n",
    "    galaxy_b_pos_a_rotated,\n",
    "    part.info[\"box.length\"],\n",
    "    part.snapshot[\"scalefactor\"],\n",
    "    total_distance=False,\n",
    ")  # [kpc physical]\n",
    "\n",
    "test_rotate, np.linalg.norm(test_rotate)"
   ]
  },
  {
   "cell_type": "code",
   "execution_count": 59,
   "metadata": {},
   "outputs": [
    {
     "data": {
      "text/plain": [
       "(array([ 0.00455034,  0.00379978, -0.01292561]), 0.014220237125981812)"
      ]
     },
     "execution_count": 59,
     "metadata": {},
     "output_type": "execute_result"
    }
   ],
   "source": [
    "test_unrotate = ut.coordinate.get_distances(\n",
    "    particle_pos_a_unrotated,\n",
    "    galaxy_b_pos_a_unrotated,\n",
    "    part.info[\"box.length\"],\n",
    "    part.snapshot[\"scalefactor\"],\n",
    "    total_distance=False,\n",
    ")  # [kpc physical]\n",
    "\n",
    "test_unrotate, np.linalg.norm(test_unrotate)"
   ]
  },
  {
   "cell_type": "markdown",
   "metadata": {},
   "source": [
    "## And velocity"
   ]
  },
  {
   "cell_type": "code",
   "execution_count": 60,
   "metadata": {},
   "outputs": [
    {
     "data": {
      "text/plain": [
       "array([ -17.265121, -116.853424, -138.86247 ], dtype=float32)"
      ]
     },
     "execution_count": 60,
     "metadata": {},
     "output_type": "execute_result"
    }
   ],
   "source": [
    "# this is what I need to match\n",
    "hal.prop(\"host.velocity.principal\", galaxy_b_idx)"
   ]
  },
  {
   "cell_type": "code",
   "execution_count": 61,
   "metadata": {},
   "outputs": [
    {
     "data": {
      "text/plain": [
       "array([  10.334517, -179.11452 ,   32.35399 ], dtype=float32)"
      ]
     },
     "execution_count": 61,
     "metadata": {},
     "output_type": "execute_result"
    }
   ],
   "source": [
    "ut.coordinate.get_coordinates_rotated(hal.prop(\"host.velocity.principal\", galaxy_b_idx), unrotate_tensor)"
   ]
  },
  {
   "cell_type": "code",
   "execution_count": 62,
   "metadata": {},
   "outputs": [
    {
     "data": {
      "text/plain": [
       "array([  10.334518, -179.11452 ,   32.353985], dtype=float32)"
      ]
     },
     "execution_count": 62,
     "metadata": {},
     "output_type": "execute_result"
    }
   ],
   "source": [
    "galaxy_b_vel_a_unrotated = ut.coordinate.get_velocity_differences(\n",
    "    hal[\"velocity\"][galaxy_b_idx],\n",
    "    hal[\"velocity\"][host_idx],\n",
    "    hal[\"position\"][galaxy_b_idx],\n",
    "    hal[\"position\"][host_idx],\n",
    "    hal.info[\"box.length\"],\n",
    "    hal.snapshot[\"scalefactor\"],\n",
    "    hal.snapshot[\"time.hubble\"],\n",
    "    total_velocity=False,\n",
    ")\n",
    "\n",
    "galaxy_b_vel_a_unrotated"
   ]
  },
  {
   "cell_type": "code",
   "execution_count": 63,
   "metadata": {},
   "outputs": [
    {
     "data": {
      "text/plain": [
       "array([ -17.265121, -116.853424, -138.86247 ], dtype=float32)"
      ]
     },
     "execution_count": 63,
     "metadata": {},
     "output_type": "execute_result"
    }
   ],
   "source": [
    "galaxy_b_vel_a_rotated = ut.coordinate.get_coordinates_rotated(galaxy_b_vel_a_unrotated, rotate_tensor)\n",
    "galaxy_b_vel_a_rotated"
   ]
  },
  {
   "cell_type": "code",
   "execution_count": 64,
   "metadata": {},
   "outputs": [
    {
     "data": {
      "text/plain": [
       "array([ -47.19445, -149.82497, -189.19464], dtype=float32)"
      ]
     },
     "execution_count": 64,
     "metadata": {},
     "output_type": "execute_result"
    }
   ],
   "source": [
    "# now lets do the same for the particle\n",
    "\n",
    "# this is what I need to match\n",
    "part[\"dark\"].prop(\"host.velocity.principal\", particle_idx)"
   ]
  },
  {
   "cell_type": "code",
   "execution_count": 65,
   "metadata": {},
   "outputs": [
    {
     "data": {
      "text/plain": [
       "array([  -8.407727, -243.65054 ,   32.143   ], dtype=float32)"
      ]
     },
     "execution_count": 65,
     "metadata": {},
     "output_type": "execute_result"
    }
   ],
   "source": [
    "ut.coordinate.get_coordinates_rotated(\n",
    "    part[\"dark\"].prop(\"host.velocity.principal\", particle_idx), unrotate_tensor\n",
    ")"
   ]
  },
  {
   "cell_type": "code",
   "execution_count": 66,
   "metadata": {},
   "outputs": [
    {
     "data": {
      "text/plain": [
       "array([[  -8.407779, -243.65042 ,   32.14295 ]], dtype=float32)"
      ]
     },
     "execution_count": 66,
     "metadata": {},
     "output_type": "execute_result"
    }
   ],
   "source": [
    "particle_vel_a_unrotated = ut.coordinate.get_velocity_differences(\n",
    "    part[\"dark\"][\"velocity\"][particle_idx],\n",
    "    hal.host[\"velocity\"],\n",
    "    part[\"dark\"][\"position\"][particle_idx],\n",
    "    hal.host[\"position\"],\n",
    "    hal.info[\"box.length\"],\n",
    "    hal.snapshot[\"scalefactor\"],\n",
    "    hal.snapshot[\"time.hubble\"],\n",
    "    total_velocity=False,\n",
    ")\n",
    "\n",
    "particle_vel_a_unrotated"
   ]
  },
  {
   "cell_type": "code",
   "execution_count": 67,
   "metadata": {},
   "outputs": [
    {
     "data": {
      "text/plain": [
       "array([[ -47.19449, -149.82487, -189.19455]], dtype=float32)"
      ]
     },
     "execution_count": 67,
     "metadata": {},
     "output_type": "execute_result"
    }
   ],
   "source": [
    "particle_vel_a_rotated = ut.coordinate.get_coordinates_rotated(particle_vel_a_unrotated, rotate_tensor)\n",
    "particle_vel_a_rotated"
   ]
  },
  {
   "cell_type": "code",
   "execution_count": 68,
   "metadata": {},
   "outputs": [
    {
     "data": {
      "text/plain": [
       "(array([[-29.927938, -32.965153, -50.33397 ]], dtype=float32), 67.200386)"
      ]
     },
     "execution_count": 68,
     "metadata": {},
     "output_type": "execute_result"
    }
   ],
   "source": [
    "# now lets get the distance between galaxy a and star particle\n",
    "\n",
    "test_rotate = ut.coordinate.get_velocity_differences(\n",
    "    particle_vel_a_rotated,\n",
    "    galaxy_b_vel_a_rotated,\n",
    "    particle_pos_a_rotated,\n",
    "    galaxy_b_pos_a_rotated,\n",
    "    hal.info[\"box.length\"],\n",
    "    hal.snapshot[\"scalefactor\"],\n",
    "    hal.snapshot[\"time.hubble\"],\n",
    "    total_velocity=False,\n",
    ")\n",
    "\n",
    "test_rotate, np.linalg.norm(test_rotate)"
   ]
  },
  {
   "cell_type": "code",
   "execution_count": null,
   "metadata": {},
   "outputs": [
    {
     "data": {
      "text/plain": [
       "array([[-18.74014   , -64.53411   ,  -0.21714869]], dtype=float32)"
      ]
     },
     "execution_count": 70,
     "metadata": {},
     "output_type": "execute_result"
    }
   ],
   "source": [
    "(\n",
    "    ut.coordinate.get_coordinates_rotated(test_rotate, unrotate_tensor),\n",
    "    np.linalg.norm(ut.coordinate.get_coordinates_rotated(test_rotate, unrotate_tensor)),\n",
    ")"
   ]
  },
  {
   "cell_type": "code",
   "execution_count": 69,
   "metadata": {},
   "outputs": [
    {
     "data": {
      "text/plain": [
       "(array([[-18.740145  , -64.5341    ,  -0.21715374]], dtype=float32), 67.20038)"
      ]
     },
     "execution_count": 69,
     "metadata": {},
     "output_type": "execute_result"
    }
   ],
   "source": [
    "test_unrotate = ut.coordinate.get_velocity_differences(\n",
    "    particle_vel_a_unrotated,\n",
    "    galaxy_b_vel_a_unrotated,\n",
    "    particle_pos_a_unrotated,\n",
    "    galaxy_b_pos_a_unrotated,\n",
    "    hal.info[\"box.length\"],\n",
    "    hal.snapshot[\"scalefactor\"],\n",
    "    hal.snapshot[\"time.hubble\"],\n",
    "    total_velocity=False,\n",
    ")\n",
    "\n",
    "test_unrotate, np.linalg.norm(test_unrotate)"
   ]
  },
  {
   "cell_type": "markdown",
   "metadata": {},
   "source": [
    "DONT FORGET WILL NEED TO DO VELOCITY DISPERSION"
   ]
  }
 ],
 "metadata": {
  "kernelspec": {
   "display_name": ".venv",
   "language": "python",
   "name": "python3"
  },
  "language_info": {
   "codemirror_mode": {
    "name": "ipython",
    "version": 3
   },
   "file_extension": ".py",
   "mimetype": "text/x-python",
   "name": "python",
   "nbconvert_exporter": "python",
   "pygments_lexer": "ipython3",
   "version": "3.12.7"
  }
 },
 "nbformat": 4,
 "nbformat_minor": 2
}
