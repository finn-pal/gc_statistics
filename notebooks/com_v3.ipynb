{
 "cells": [
  {
   "cell_type": "code",
   "execution_count": 1,
   "metadata": {},
   "outputs": [],
   "source": [
    "import gizmo_analysis as gizmo\n",
    "import h5py\n",
    "import halo_analysis as halo\n",
    "import matplotlib.gridspec as gridspec\n",
    "import matplotlib.pyplot as plt\n",
    "import numpy as np\n",
    "import pandas as pd\n",
    "import scipy.interpolate as interp\n",
    "import scipy.signal as signal\n",
    "import utilities as ut\n",
    "from gc_utils import get_descendants_halt, iteration_name, main_prog_halt, snapshot_name  # type: ignore\n"
   ]
  },
  {
   "cell_type": "code",
   "execution_count": 2,
   "metadata": {},
   "outputs": [],
   "source": [
    "sim = \"m12i\"\n",
    "sim_dir = \"/Users/z5114326/Documents/simulations/\"\n",
    "fire_dir = sim_dir + sim + \"/\" + sim + \"_res7100\"\n",
    "\n",
    "proc_file = sim_dir + sim + \"/\" + sim + \"_processed.hdf5\"\n",
    "proc_data = h5py.File(proc_file, \"r\")  # open processed data file\n",
    "\n",
    "snap_dir = fire_dir + \"/snapshot_times.txt\"\n",
    "snap_data = pd.read_table(snap_dir, comment=\"#\", header=None, sep=r\"\\s+\")\n",
    "snap_data.columns = [\n",
    "    \"index\",\n",
    "    \"scale_factor\",\n",
    "    \"redshift\",\n",
    "    \"time_Gyr\",\n",
    "    \"lookback_time_Gyr\",\n",
    "    \"time_width_Myr\",\n",
    "]\n",
    "\n",
    "snap_pub_dir = sim_dir + \"/snapshot_times_public.txt\"\n",
    "snap_pub_data = pd.read_table(snap_pub_dir, comment=\"#\", header=None, sep=r\"\\s+\")\n",
    "snap_pub_data.columns = [\n",
    "    \"index\",\n",
    "    \"scale_factor\",\n",
    "    \"redshift\",\n",
    "    \"time_Gyr\",\n",
    "    \"lookback_time_Gyr\",\n",
    "    \"time_width_Myr\",\n",
    "]"
   ]
  },
  {
   "cell_type": "markdown",
   "metadata": {},
   "source": [
    "Get COM, and SIGMA of GC system in relation to its host galaxy (pre accretion) and then the MW (post accretion)"
   ]
  },
  {
   "cell_type": "code",
   "execution_count": 44,
   "metadata": {},
   "outputs": [
    {
     "name": "stdout",
     "output_type": "stream",
     "text": [
      "\n",
      "# in utilities.simulation.Snapshot():\n",
      "* reading:  Users/z5114326/Documents/simulations/m12i/m12i_res7100/snapshot_times.txt\n",
      "\n",
      "* read 17859038 halos from:  Users/z5114326/Documents/simulations/m12i/m12i_res7100/halo/rockstar_dm/catalog_hdf5/tree.hdf5\n",
      "\n"
     ]
    }
   ],
   "source": [
    "# halt = halo.io.IO.read_tree(simulation_directory=fire_dir)\n",
    "halt = halo.io.IO.read_tree(simulation_directory=fire_dir)"
   ]
  },
  {
   "cell_type": "code",
   "execution_count": 4,
   "metadata": {},
   "outputs": [],
   "source": [
    "def get_host_at_snap(grp_val, snap_final, acc_snap, halt):\n",
    "    if grp_val != 0:\n",
    "        idx = np.where(halt[\"tid\"] == grp_val)[0][0]\n",
    "        snap = halt[\"snapshot\"][idx]\n",
    "\n",
    "        if snap < acc_snap:\n",
    "            while snap > snap_final:\n",
    "                idx = halt[\"progenitor.main.index\"][idx]\n",
    "                snap = halt[\"snapshot\"][idx]\n",
    "\n",
    "        else:\n",
    "            idx = 0\n",
    "            snap = halt[\"snapshot\"][idx]\n",
    "\n",
    "            while snap > snap_final:\n",
    "                idx = halt[\"progenitor.main.index\"][idx]\n",
    "                snap = halt[\"snapshot\"][idx]\n",
    "\n",
    "    else:\n",
    "        idx = 0\n",
    "        snap = halt[\"snapshot\"][idx]\n",
    "\n",
    "        while snap > snap_final:\n",
    "            idx = halt[\"progenitor.main.index\"][idx]\n",
    "            snap = halt[\"snapshot\"][idx]\n",
    "\n",
    "    host_tid = halt[\"tid\"][idx]\n",
    "    host_idx = idx\n",
    "\n",
    "    # print(snap, host_tid)\n",
    "\n",
    "    return host_tid, host_idx"
   ]
  },
  {
   "cell_type": "code",
   "execution_count": 5,
   "metadata": {},
   "outputs": [],
   "source": [
    "def get_acc_snap(halo_tid, main_halo_tid, halt):\n",
    "    tid_main_lst = main_prog_halt(halt, main_halo_tid)\n",
    "    desc_lst = get_descendants_halt(halo_tid, halt)\n",
    "\n",
    "    idx_lst = np.array([1 if halt[\"tid\"][idx] in tid_main_lst else 0 for idx in desc_lst])\n",
    "    idx_acc = np.where(idx_lst == 1)[0][0]\n",
    "\n",
    "    snap_acc = halt[\"snapshot\"][desc_lst[idx_acc]]\n",
    "\n",
    "    return snap_acc"
   ]
  },
  {
   "cell_type": "code",
   "execution_count": 28,
   "metadata": {},
   "outputs": [
    {
     "name": "stdout",
     "output_type": "stream",
     "text": [
      "\n",
      "# in utilities.simulation.Snapshot():\n",
      "* reading:  Users/z5114326/Documents/simulations/m12i/m12i_res7100/snapshot_times.txt\n",
      "\n",
      "  using snapshot index = 77, redshift = 4.478\n",
      "\n",
      "\n",
      "# in gizmo_analysis.gizmo_io.Read():\n",
      "* reading header from:  Users/z5114326/Documents/simulations/m12i/m12i_res7100/output/snapdir_077/snapshot_077.0.hdf5\n",
      "  snapshot contains the following number of particles:\n",
      "    dark      (id = 1): 70514272 particles\n",
      "    dark2     (id = 2): 5513331 particles\n",
      "    gas       (id = 0): 70388512 particles\n",
      "    star      (id = 4): 125821 particles\n",
      "    blackhole (id = 5): 0 particles\n",
      "\n",
      "* reading the following\n",
      "  species: ['dark', 'star']\n",
      "\n",
      "* reading particles from:\n",
      "    snapshot_077.0.hdf5\n",
      "    snapshot_077.1.hdf5\n",
      "    snapshot_077.2.hdf5\n",
      "    snapshot_077.3.hdf5\n",
      "\n",
      "* reading cosmological parameters from:  Users/z5114326/Documents/simulations/m12i/m12i_res7100/initial_condition/ic_agora_m12i.conf\n",
      "\n",
      "* checking sanity of particle properties\n",
      "\n",
      "\n",
      "# in gizmo_analysis.gizmo_track.ParticleCoordinate():\n",
      "  read 1 host (position, velocity, principal axes) from:  Users/z5114326/Documents/simulations/m12i/m12i_res7100/track/host_coordinates.hdf5\n",
      "  host1 position = (43057.26, 42130.64, 44311.36) [kpc comoving]\n",
      "  host1 velocity = (-11.0, 39.1, 70.4) [km/s]\n",
      "  host1 axis ratios = (0.53, 0.65, 0.81)\n",
      "\n"
     ]
    }
   ],
   "source": [
    "snap = 77\n",
    "\n",
    "part = gizmo.io.Read.read_snapshots(\n",
    "    [\"dark\", \"star\"],\n",
    "    \"index\",\n",
    "    snap,\n",
    "    simulation_directory=fire_dir,\n",
    ")"
   ]
  },
  {
   "cell_type": "code",
   "execution_count": 68,
   "metadata": {},
   "outputs": [
    {
     "data": {
      "text/plain": [
       "array([43402.766, 41943.22 , 44336.91 ], dtype=float32)"
      ]
     },
     "execution_count": 68,
     "metadata": {},
     "output_type": "execute_result"
    }
   ],
   "source": [
    "halt[\"position\"][2105151]"
   ]
  },
  {
   "cell_type": "code",
   "execution_count": 69,
   "metadata": {},
   "outputs": [
    {
     "data": {
      "text/plain": [
       "array([0., 0., 0.], dtype=float32)"
      ]
     },
     "execution_count": 69,
     "metadata": {},
     "output_type": "execute_result"
    }
   ],
   "source": [
    "halt.prop(\"host.distance.principle\", 2105151)"
   ]
  },
  {
   "cell_type": "code",
   "execution_count": 70,
   "metadata": {},
   "outputs": [],
   "source": [
    "dist_vect = ut.particle.get_distances_wrt_center(\n",
    "    part,\n",
    "    species=[\"dark\", \"star\"],\n",
    "    center_position=part.host[\"position\"],\n",
    "    rotation=None,\n",
    ")"
   ]
  },
  {
   "cell_type": "code",
   "execution_count": 71,
   "metadata": {},
   "outputs": [
    {
     "data": {
      "text/plain": [
       "array([ 57.04168656, -33.88838981,   8.97484625])"
      ]
     },
     "execution_count": 71,
     "metadata": {},
     "output_type": "execute_result"
    }
   ],
   "source": [
    "dist_vect[\"dark\"][0]"
   ]
  },
  {
   "cell_type": "code",
   "execution_count": 72,
   "metadata": {},
   "outputs": [
    {
     "data": {
      "text/plain": [
       "array([[ 312.48921191, -185.6494235 ,   49.16654469]])"
      ]
     },
     "execution_count": 72,
     "metadata": {},
     "output_type": "execute_result"
    }
   ],
   "source": [
    "part[\"dark\"][\"position\"][0] - part.host[\"position\"]"
   ]
  },
  {
   "cell_type": "code",
   "execution_count": 73,
   "metadata": {},
   "outputs": [
    {
     "data": {
      "text/plain": [
       "array([ 57.04168656, -33.88838981,   8.97484625])"
      ]
     },
     "execution_count": 73,
     "metadata": {},
     "output_type": "execute_result"
    }
   ],
   "source": [
    "part[\"dark\"].prop(\"host.distance.principle\", 0)"
   ]
  },
  {
   "cell_type": "code",
   "execution_count": 80,
   "metadata": {},
   "outputs": [],
   "source": [
    "vel_vect = ut.particle.get_velocities_wrt_center(\n",
    "    part,\n",
    "    species=[\"dark\", \"star\"],\n",
    "    center_position=part.host[\"position\"],\n",
    "    center_velocity=part.host[\"velocity\"],\n",
    "    rotation=None,\n",
    ")"
   ]
  },
  {
   "cell_type": "code",
   "execution_count": 81,
   "metadata": {},
   "outputs": [
    {
     "data": {
      "text/plain": [
       "array([-86.061935 ,   2.9947548, -30.712414 ], dtype=float32)"
      ]
     },
     "execution_count": 81,
     "metadata": {},
     "output_type": "execute_result"
    }
   ],
   "source": [
    "vel_vect[\"dark\"][0]"
   ]
  },
  {
   "cell_type": "code",
   "execution_count": 82,
   "metadata": {},
   "outputs": [
    {
     "data": {
      "text/plain": [
       "array([-86.061935 ,   2.9947548, -30.712414 ], dtype=float32)"
      ]
     },
     "execution_count": 82,
     "metadata": {},
     "output_type": "execute_result"
    }
   ],
   "source": [
    "part[\"dark\"].prop(\"host.velocity.principle\", 0)"
   ]
  },
  {
   "cell_type": "code",
   "execution_count": 83,
   "metadata": {},
   "outputs": [
    {
     "data": {
      "text/plain": [
       "91.4269"
      ]
     },
     "execution_count": 83,
     "metadata": {},
     "output_type": "execute_result"
    }
   ],
   "source": [
    "np.linalg.norm(vel_vect[\"dark\"][0])"
   ]
  },
  {
   "cell_type": "code",
   "execution_count": 84,
   "metadata": {},
   "outputs": [
    {
     "data": {
      "text/plain": [
       "91.4269"
      ]
     },
     "execution_count": 84,
     "metadata": {},
     "output_type": "execute_result"
    }
   ],
   "source": [
    "np.linalg.norm(part[\"dark\"].prop(\"host.velocity.principle\", 0))"
   ]
  },
  {
   "cell_type": "markdown",
   "metadata": {},
   "source": [
    "THIS LOOKS GOOD FINN"
   ]
  },
  {
   "cell_type": "code",
   "execution_count": 256,
   "metadata": {},
   "outputs": [
    {
     "name": "stdout",
     "output_type": "stream",
     "text": [
      "\n",
      "# in utilities.simulation.Snapshot():\n",
      "* reading:  Users/z5114326/Documents/simulations/m12i/m12i_res7100/snapshot_times.txt\n",
      "\n",
      "* using snapshot indices = [ 77 600]\n",
      "  redshifts = [4.47826052 0.        ]\n",
      "\n",
      "* read 9832 halos from:  Users/z5114326/Documents/simulations/m12i/m12i_res7100/halo/rockstar_dm/catalog_hdf5/halo_077.hdf5\n",
      "\n",
      "# in halo_analysis.halo_io.Particle():\n",
      "* read 9832 halos, 301 have star particles, from:  Users/z5114326/Documents/simulations/m12i/m12i_res7100/halo/rockstar_dm/catalog_hdf5/star_077.hdf5\n",
      "* assigning primary host and coordinates wrt it to halo catalog...  finished\n",
      "\n",
      "\n",
      "# in gizmo_analysis.gizmo_track.ParticleCoordinate():\n",
      "  read 1 host (position, velocity, principal axes) from:  Users/z5114326/Documents/simulations/m12i/m12i_res7100/track/host_coordinates.hdf5\n",
      "  host1 position = (43057.26, 42130.64, 44311.36) [kpc comoving]\n",
      "  host1 velocity = (-11.0, 39.1, 70.4) [km/s]\n",
      "  host1 axis ratios = (0.53, 0.65, 0.81)\n",
      "\n",
      "* read 35838 halos from:  Users/z5114326/Documents/simulations/m12i/m12i_res7100/halo/rockstar_dm/catalog_hdf5/halo_600.hdf5\n",
      "* read 35838 halos, 55 have star particles, from:  Users/z5114326/Documents/simulations/m12i/m12i_res7100/halo/rockstar_dm/catalog_hdf5/star_600.hdf5\n",
      "* assigning primary host and coordinates wrt it to halo catalog...  finished\n",
      "\n",
      "\n",
      "# in gizmo_analysis.gizmo_track.ParticleCoordinate():\n",
      "  read 1 host (position, velocity, principal axes) from:  Users/z5114326/Documents/simulations/m12i/m12i_res7100/track/host_coordinates.hdf5\n",
      "  host1 position = (41792.15, 44131.23, 46267.68) [kpc comoving]\n",
      "  host1 velocity = (-52.2, 73.6, 94.7) [km/s]\n",
      "  host1 axis ratios = (0.16, 0.16, 0.99)\n"
     ]
    }
   ],
   "source": [
    "hals = halo.io.IO.read_catalogs(\"index\", [77, 600], fire_dir, assign_hosts_rotation=True)"
   ]
  },
  {
   "cell_type": "code",
   "execution_count": 165,
   "metadata": {},
   "outputs": [
    {
     "name": "stdout",
     "output_type": "stream",
     "text": [
      "\n",
      "# in utilities.simulation.Snapshot():\n",
      "* reading:  Users/z5114326/Documents/simulations/m12i/m12i_res7100/snapshot_times.txt\n",
      "\n",
      "  using snapshot index = 77, redshift = 4.478\n",
      "\n",
      "\n",
      "# in gizmo_analysis.gizmo_io.Read():\n",
      "* reading header from:  Users/z5114326/Documents/simulations/m12i/m12i_res7100/output/snapdir_077/snapshot_077.0.hdf5\n",
      "  snapshot contains the following number of particles:\n",
      "    dark      (id = 1): 70514272 particles\n",
      "    dark2     (id = 2): 5513331 particles\n",
      "    gas       (id = 0): 70388512 particles\n",
      "    star      (id = 4): 125821 particles\n",
      "    blackhole (id = 5): 0 particles\n",
      "\n",
      "* reading the following\n",
      "  species: ['dark', 'star']\n",
      "\n",
      "* reading particles from:\n",
      "    snapshot_077.0.hdf5\n",
      "    snapshot_077.1.hdf5\n",
      "    snapshot_077.2.hdf5\n",
      "    snapshot_077.3.hdf5\n",
      "\n",
      "* reading cosmological parameters from:  Users/z5114326/Documents/simulations/m12i/m12i_res7100/initial_condition/ic_agora_m12i.conf\n",
      "\n",
      "* checking sanity of particle properties\n",
      "\n",
      "\n",
      "# in gizmo_analysis.gizmo_track.ParticleCoordinate():\n",
      "  read 1 host (position, velocity, principal axes) from:  Users/z5114326/Documents/simulations/m12i/m12i_res7100/track/host_coordinates.hdf5\n",
      "  host1 position = (43057.26, 42130.64, 44311.36) [kpc comoving]\n",
      "  host1 velocity = (-11.0, 39.1, 70.4) [km/s]\n",
      "  host1 axis ratios = (0.53, 0.65, 0.81)\n",
      "\n"
     ]
    }
   ],
   "source": [
    "part = gizmo.io.Read.read_snapshots(\n",
    "    [\"dark\", \"star\"], \"index\", snap, simulation_directory=fire_dir, assign_hosts_rotation=True\n",
    ")"
   ]
  },
  {
   "cell_type": "markdown",
   "metadata": {},
   "source": [
    "From part 77\n",
    "\n",
    "host1 position = (43057.26, 42130.64, 44311.36) [kpc comoving]"
   ]
  },
  {
   "cell_type": "code",
   "execution_count": 166,
   "metadata": {},
   "outputs": [
    {
     "data": {
      "text/plain": [
       "array([43056.184, 42130.63 , 44310.984], dtype=float32)"
      ]
     },
     "execution_count": 166,
     "metadata": {},
     "output_type": "execute_result"
    }
   ],
   "source": [
    "snap = 77\n",
    "\n",
    "host_idx = np.where(hals[snap].prop(\"host.distance.principle.total\") == 0)[0][0]\n",
    "hals[snap][\"position\"][host_idx]"
   ]
  },
  {
   "cell_type": "code",
   "execution_count": 178,
   "metadata": {},
   "outputs": [],
   "source": [
    "dist_vect = ut.particle.get_distances_wrt_center(\n",
    "    part,\n",
    "    species=[\"dark\", \"star\"],\n",
    "    center_position=hals[snap][\"position\"][host_idx],\n",
    "    rotation=None,\n",
    ")"
   ]
  },
  {
   "cell_type": "code",
   "execution_count": 183,
   "metadata": {},
   "outputs": [
    {
     "data": {
      "text/plain": [
       "array([ 57.23848718, -33.88696372,   9.04401168])"
      ]
     },
     "execution_count": 183,
     "metadata": {},
     "output_type": "execute_result"
    }
   ],
   "source": [
    "dist_vect[\"dark\"][0]"
   ]
  },
  {
   "cell_type": "code",
   "execution_count": 201,
   "metadata": {},
   "outputs": [
    {
     "data": {
      "text/plain": [
       "array([ 313.56733691, -185.641611  ,   49.54545094])"
      ]
     },
     "execution_count": 201,
     "metadata": {},
     "output_type": "execute_result"
    }
   ],
   "source": [
    "part[\"dark\"][\"position\"][0] - hals[snap][\"position\"][host_idx]"
   ]
  },
  {
   "cell_type": "code",
   "execution_count": null,
   "metadata": {},
   "outputs": [
    {
     "data": {
      "text/plain": [
       "array([ 57.23848718, -33.88696372,   9.04401168])"
      ]
     },
     "execution_count": 203,
     "metadata": {},
     "output_type": "execute_result"
    }
   ],
   "source": [
    "ut.coordinate.get_distances(\n",
    "    part[\"dark\"][\"position\"][0],\n",
    "    hals[snap][\"position\"][host_idx],\n",
    "    part.info[\"box.length\"],\n",
    "    part.snapshot[\"scalefactor\"],\n",
    "    total_distance=False,\n",
    ")  # [kpc physical]"
   ]
  },
  {
   "cell_type": "code",
   "execution_count": 204,
   "metadata": {},
   "outputs": [
    {
     "data": {
      "text/plain": [
       "array([ 57.23858168, -33.88701967,   9.04402661])"
      ]
     },
     "execution_count": 204,
     "metadata": {},
     "output_type": "execute_result"
    }
   ],
   "source": [
    "ut.coordinate.get_distances(\n",
    "    part[\"dark\"][\"position\"][0],\n",
    "    hals[snap][\"position\"][host_idx],\n",
    "    hals[snap].info[\"box.length\"],\n",
    "    hals[snap].snapshot[\"scalefactor\"],\n",
    "    # total_distance,\n",
    ")  # [kpc physical]"
   ]
  },
  {
   "cell_type": "code",
   "execution_count": 182,
   "metadata": {},
   "outputs": [
    {
     "data": {
      "text/plain": [
       "array([ 57.04168656, -33.88838981,   8.97484625])"
      ]
     },
     "execution_count": 182,
     "metadata": {},
     "output_type": "execute_result"
    }
   ],
   "source": [
    "part[\"dark\"].prop(\"host.distance.principle\", 0)"
   ]
  },
  {
   "cell_type": "code",
   "execution_count": 206,
   "metadata": {},
   "outputs": [
    {
     "data": {
      "text/plain": [
       "array([-201.62328 ,   81.791466,  -79.352844], dtype=float32)"
      ]
     },
     "execution_count": 206,
     "metadata": {},
     "output_type": "execute_result"
    }
   ],
   "source": [
    "# lets do it with galaxy centres\n",
    "\n",
    "ut.coordinate.get_distances(\n",
    "    hals[snap][\"position\"][10],\n",
    "    hals[snap][\"position\"][host_idx],\n",
    "    hals[snap].info[\"box.length\"],\n",
    "    hals[snap].snapshot[\"scalefactor\"],\n",
    "    # total_distance,\n",
    ")  # [kpc physical]"
   ]
  },
  {
   "cell_type": "code",
   "execution_count": 210,
   "metadata": {},
   "outputs": [
    {
     "data": {
      "text/plain": [
       "array([-201.62328 ,   81.791466,  -79.352844], dtype=float32)"
      ]
     },
     "execution_count": 210,
     "metadata": {},
     "output_type": "execute_result"
    }
   ],
   "source": [
    "hals[snap].prop(\"host.distance.principle\", 10)"
   ]
  },
  {
   "cell_type": "markdown",
   "metadata": {},
   "source": [
    "HOLY SHIT IT WORKS"
   ]
  },
  {
   "cell_type": "code",
   "execution_count": 245,
   "metadata": {},
   "outputs": [],
   "source": [
    "vel_vect = ut.particle.get_velocities_wrt_center(\n",
    "    part,\n",
    "    species=[\"dark\", \"star\"],\n",
    "    center_position=hals[snap][\"position\"][host_idx],\n",
    "    # center_velocity=hals[snap][\"velocity\"][host_idx],\n",
    "    rotation=None,\n",
    ")"
   ]
  },
  {
   "cell_type": "code",
   "execution_count": 246,
   "metadata": {},
   "outputs": [
    {
     "data": {
      "text/plain": [
       "array([-85.9688   ,   2.9954295, -30.679682 ], dtype=float32)"
      ]
     },
     "execution_count": 246,
     "metadata": {},
     "output_type": "execute_result"
    }
   ],
   "source": [
    "vel_vect[\"dark\"][0]"
   ]
  },
  {
   "cell_type": "code",
   "execution_count": 278,
   "metadata": {},
   "outputs": [
    {
     "data": {
      "text/plain": [
       "array([-87.89803,  23.71265,   8.39786], dtype=float32)"
      ]
     },
     "execution_count": 278,
     "metadata": {},
     "output_type": "execute_result"
    }
   ],
   "source": [
    "part[\"dark\"].prop(\"host.velocity.principal\", 0)"
   ]
  },
  {
   "cell_type": "code",
   "execution_count": 279,
   "metadata": {},
   "outputs": [
    {
     "data": {
      "text/plain": [
       "array([-86.061935 ,   2.9947548, -30.712414 ], dtype=float32)"
      ]
     },
     "execution_count": 279,
     "metadata": {},
     "output_type": "execute_result"
    }
   ],
   "source": [
    "part[\"dark\"].prop(\"host.velocity.principle\", 0)"
   ]
  },
  {
   "cell_type": "code",
   "execution_count": 248,
   "metadata": {},
   "outputs": [
    {
     "data": {
      "text/plain": [
       "array([-118.61138 ,    6.050033,  -43.019585], dtype=float32)"
      ]
     },
     "execution_count": 248,
     "metadata": {},
     "output_type": "execute_result"
    }
   ],
   "source": [
    "vel_vect = ut.particle.get_velocities_wrt_center(\n",
    "    part,\n",
    "    species=[\"dark\", \"star\"],\n",
    "    center_position=hals[snap][\"position\"][host_idx],\n",
    "    center_velocity=hals[snap][\"velocity\"][host_idx],\n",
    "    rotation=None,\n",
    ")\n",
    "\n",
    "vel_vect[\"dark\"][0]"
   ]
  },
  {
   "cell_type": "code",
   "execution_count": 249,
   "metadata": {},
   "outputs": [
    {
     "data": {
      "text/plain": [
       "array([-118.61138 ,    6.050033,  -43.019585], dtype=float32)"
      ]
     },
     "execution_count": 249,
     "metadata": {},
     "output_type": "execute_result"
    }
   ],
   "source": [
    "ut.coordinate.get_velocity_differences(\n",
    "    part[\"dark\"][\"velocity\"][0],\n",
    "    hals[snap][\"velocity\"][host_idx],\n",
    "    part[\"dark\"][\"position\"][0],\n",
    "    hals[snap][\"position\"][host_idx],\n",
    "    part.info[\"box.length\"],\n",
    "    part.snapshot[\"scalefactor\"],\n",
    "    part.snapshot[\"time.hubble\"],\n",
    "    total_velocity=False,\n",
    ")"
   ]
  },
  {
   "cell_type": "code",
   "execution_count": 228,
   "metadata": {},
   "outputs": [
    {
     "data": {
      "text/plain": [
       "array([[-86.061935 ,   2.9947548, -30.712414 ]], dtype=float32)"
      ]
     },
     "execution_count": 228,
     "metadata": {},
     "output_type": "execute_result"
    }
   ],
   "source": [
    "ut.coordinate.get_velocity_differences(\n",
    "    part[\"dark\"][\"velocity\"][0],\n",
    "    part.host[\"velocity\"],\n",
    "    part[\"dark\"][\"position\"][0],\n",
    "    part.host[\"position\"],\n",
    "    part.info[\"box.length\"],\n",
    "    part.snapshot[\"scalefactor\"],\n",
    "    part.snapshot[\"time.hubble\"],\n",
    "    total_velocity=False,\n",
    ")"
   ]
  },
  {
   "cell_type": "markdown",
   "metadata": {},
   "source": [
    "IT LOOKS LIKE THERE IS A DIFFERENT IN HOST VELOCITY"
   ]
  },
  {
   "cell_type": "code",
   "execution_count": 229,
   "metadata": {},
   "outputs": [
    {
     "data": {
      "text/plain": [
       "92.85362"
      ]
     },
     "execution_count": 229,
     "metadata": {},
     "output_type": "execute_result"
    }
   ],
   "source": [
    "np.linalg.norm(hals[snap][\"velocity\"][host_idx])"
   ]
  },
  {
   "cell_type": "code",
   "execution_count": 230,
   "metadata": {},
   "outputs": [
    {
     "data": {
      "text/plain": [
       "81.317474"
      ]
     },
     "execution_count": 230,
     "metadata": {},
     "output_type": "execute_result"
    }
   ],
   "source": [
    "np.linalg.norm(part.host[\"velocity\"])"
   ]
  },
  {
   "cell_type": "markdown",
   "metadata": {},
   "source": [
    "WTF!!!!!!"
   ]
  },
  {
   "cell_type": "code",
   "execution_count": 233,
   "metadata": {},
   "outputs": [
    {
     "data": {
      "text/plain": [
       "array([[-10.982577,  39.134605,  70.43009 ]], dtype=float32)"
      ]
     },
     "execution_count": 233,
     "metadata": {},
     "output_type": "execute_result"
    }
   ],
   "source": [
    "hals[snap].host[\"velocity\"]"
   ]
  },
  {
   "cell_type": "code",
   "execution_count": 235,
   "metadata": {},
   "outputs": [
    {
     "data": {
      "text/plain": [
       "array([21.66, 36.08, 82.77], dtype=float32)"
      ]
     },
     "execution_count": 235,
     "metadata": {},
     "output_type": "execute_result"
    }
   ],
   "source": [
    "hals[snap][\"velocity\"][host_idx]"
   ]
  },
  {
   "cell_type": "code",
   "execution_count": 236,
   "metadata": {},
   "outputs": [
    {
     "data": {
      "text/plain": [
       "array([[-10.982577,  39.134605,  70.43009 ]], dtype=float32)"
      ]
     },
     "execution_count": 236,
     "metadata": {},
     "output_type": "execute_result"
    }
   ],
   "source": [
    "part.host[\"velocity\"]"
   ]
  },
  {
   "cell_type": "code",
   "execution_count": 237,
   "metadata": {},
   "outputs": [
    {
     "data": {
      "text/plain": [
       "array([[43057.26 , 42130.637, 44311.363]], dtype=float32)"
      ]
     },
     "execution_count": 237,
     "metadata": {},
     "output_type": "execute_result"
    }
   ],
   "source": [
    "hals[snap].host[\"position\"]"
   ]
  },
  {
   "cell_type": "code",
   "execution_count": 238,
   "metadata": {},
   "outputs": [
    {
     "data": {
      "text/plain": [
       "array([43056.184, 42130.63 , 44310.984], dtype=float32)"
      ]
     },
     "execution_count": 238,
     "metadata": {},
     "output_type": "execute_result"
    }
   ],
   "source": [
    "hals[snap][\"position\"][host_idx]"
   ]
  },
  {
   "cell_type": "code",
   "execution_count": 239,
   "metadata": {},
   "outputs": [
    {
     "data": {
      "text/plain": [
       "array([[43057.26 , 42130.637, 44311.363]], dtype=float32)"
      ]
     },
     "execution_count": 239,
     "metadata": {},
     "output_type": "execute_result"
    }
   ],
   "source": [
    "part.host[\"position\"]"
   ]
  },
  {
   "cell_type": "code",
   "execution_count": 265,
   "metadata": {},
   "outputs": [
    {
     "name": "stdout",
     "output_type": "stream",
     "text": [
      "[[-32.64258     3.0546036 -12.339905 ]]\n"
     ]
    }
   ],
   "source": [
    "print(hals[snap].host[\"velocity\"] - hals[snap][\"velocity\"][host_idx])"
   ]
  },
  {
   "cell_type": "code",
   "execution_count": 270,
   "metadata": {},
   "outputs": [
    {
     "name": "stdout",
     "output_type": "stream",
     "text": [
      "\n",
      "# in utilities.particle.get_center_velocities_or_accelerations():\n",
      "* assigning velocity for 1 center/host, weighting star particles by mass\n",
      "  host1 velocity = (-10.6, 39.8, 69.4) [km/s]\n"
     ]
    },
    {
     "data": {
      "text/plain": [
       "array([-10.581415,  39.823235,  69.449585], dtype=float32)"
      ]
     },
     "execution_count": 270,
     "metadata": {},
     "output_type": "execute_result"
    }
   ],
   "source": [
    "ut.particle.get_center_velocities_or_accelerations(\n",
    "    part,\n",
    "    property_kind=\"velocity\",\n",
    "    species_name=\"star\",\n",
    "    part_indicess=None,\n",
    "    weight_property=\"mass\",\n",
    "    distance_max=10,\n",
    "    center_positions=None,\n",
    "    return_single_array=True,\n",
    "    verbose=True,\n",
    ")"
   ]
  },
  {
   "cell_type": "markdown",
   "metadata": {},
   "source": [
    "DONT FORGET WILL NEED TO DO VELOCITY DISPERSION"
   ]
  }
 ],
 "metadata": {
  "kernelspec": {
   "display_name": ".venv",
   "language": "python",
   "name": "python3"
  },
  "language_info": {
   "codemirror_mode": {
    "name": "ipython",
    "version": 3
   },
   "file_extension": ".py",
   "mimetype": "text/x-python",
   "name": "python",
   "nbconvert_exporter": "python",
   "pygments_lexer": "ipython3",
   "version": "3.12.7"
  }
 },
 "nbformat": 4,
 "nbformat_minor": 2
}
