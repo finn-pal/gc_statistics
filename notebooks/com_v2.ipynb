{
 "cells": [
  {
   "cell_type": "code",
   "execution_count": 1,
   "metadata": {},
   "outputs": [],
   "source": [
    "import gizmo_analysis as gizmo\n",
    "import h5py\n",
    "import halo_analysis as halo\n",
    "import matplotlib.gridspec as gridspec\n",
    "import matplotlib.pyplot as plt\n",
    "import numpy as np\n",
    "import pandas as pd\n",
    "import scipy.interpolate as interp\n",
    "import scipy.signal as signal\n",
    "import utilities as ut\n",
    "from gc_utils import get_descendants_halt, iteration_name, main_prog_halt, snapshot_name, open_snapshot  # type: ignore\n"
   ]
  },
  {
   "cell_type": "code",
   "execution_count": 2,
   "metadata": {},
   "outputs": [],
   "source": [
    "sim = \"m12i\"\n",
    "sim_dir = \"/Users/z5114326/Documents/simulations/\"\n",
    "fire_dir = sim_dir + sim + \"/\" + sim + \"_res7100\"\n",
    "\n",
    "proc_file = sim_dir + sim + \"/\" + sim + \"_processed.hdf5\"\n",
    "proc_data = h5py.File(proc_file, \"r\")  # open processed data file\n",
    "\n",
    "snap_dir = fire_dir + \"/snapshot_times.txt\"\n",
    "snap_data = pd.read_table(snap_dir, comment=\"#\", header=None, sep=r\"\\s+\")\n",
    "snap_data.columns = [\n",
    "    \"index\",\n",
    "    \"scale_factor\",\n",
    "    \"redshift\",\n",
    "    \"time_Gyr\",\n",
    "    \"lookback_time_Gyr\",\n",
    "    \"time_width_Myr\",\n",
    "]\n",
    "\n",
    "snap_pub_dir = sim_dir + \"/snapshot_times_public.txt\"\n",
    "snap_pub_data = pd.read_table(snap_pub_dir, comment=\"#\", header=None, sep=r\"\\s+\")\n",
    "snap_pub_data.columns = [\n",
    "    \"index\",\n",
    "    \"scale_factor\",\n",
    "    \"redshift\",\n",
    "    \"time_Gyr\",\n",
    "    \"lookback_time_Gyr\",\n",
    "    \"time_width_Myr\",\n",
    "]"
   ]
  },
  {
   "cell_type": "code",
   "execution_count": 14,
   "metadata": {},
   "outputs": [
    {
     "data": {
      "text/plain": [
       "122806601"
      ]
     },
     "execution_count": 14,
     "metadata": {},
     "output_type": "execute_result"
    }
   ],
   "source": [
    "proc_data[\"it000\"][\"snapshots\"][\"snap600\"][\"gc_id\"][8]"
   ]
  },
  {
   "cell_type": "markdown",
   "metadata": {},
   "source": [
    "Get COM, and SIGMA of GC system in relation to its host galaxy (pre accretion) and then the MW (post accretion)"
   ]
  },
  {
   "cell_type": "code",
   "execution_count": 3,
   "metadata": {},
   "outputs": [
    {
     "name": "stdout",
     "output_type": "stream",
     "text": [
      "\n",
      "# in utilities.simulation.Snapshot():\n",
      "* reading:  Users/z5114326/Documents/simulations/m12i/m12i_res7100/snapshot_times.txt\n",
      "\n",
      "\n",
      "# in halo_analysis.halo_io.IO():\n",
      "* read 17859038 halos from:  Users/z5114326/Documents/simulations/m12i/m12i_res7100/halo/rockstar_dm/catalog_hdf5/tree.hdf5\n",
      "\n"
     ]
    }
   ],
   "source": [
    "halt = halo.io.IO.read_tree(simulation_directory=fire_dir)\n",
    "# halt = halo.io.IO.read_tree(simulation_directory=fire_dir, assign_hosts_rotation=True)"
   ]
  },
  {
   "cell_type": "code",
   "execution_count": 4,
   "metadata": {},
   "outputs": [],
   "source": [
    "def get_host_at_snap(grp_val, snap_final, acc_snap, halt):\n",
    "    if grp_val != 0:\n",
    "        idx = np.where(halt[\"tid\"] == grp_val)[0][0]\n",
    "        snap = halt[\"snapshot\"][idx]\n",
    "\n",
    "        if snap < acc_snap:\n",
    "            while snap > snap_final:\n",
    "                idx = halt[\"progenitor.main.index\"][idx]\n",
    "                snap = halt[\"snapshot\"][idx]\n",
    "\n",
    "        else:\n",
    "            idx = 0\n",
    "            snap = halt[\"snapshot\"][idx]\n",
    "\n",
    "            while snap > snap_final:\n",
    "                idx = halt[\"progenitor.main.index\"][idx]\n",
    "                snap = halt[\"snapshot\"][idx]\n",
    "\n",
    "    else:\n",
    "        idx = 0\n",
    "        snap = halt[\"snapshot\"][idx]\n",
    "\n",
    "        while snap > snap_final:\n",
    "            idx = halt[\"progenitor.main.index\"][idx]\n",
    "            snap = halt[\"snapshot\"][idx]\n",
    "\n",
    "    host_tid = halt[\"tid\"][idx]\n",
    "    host_idx = idx\n",
    "\n",
    "    # print(snap, host_tid)\n",
    "\n",
    "    return host_tid, host_idx"
   ]
  },
  {
   "cell_type": "code",
   "execution_count": 5,
   "metadata": {},
   "outputs": [],
   "source": [
    "def get_acc_snap(halo_tid, main_halo_tid, halt):\n",
    "    tid_main_lst = main_prog_halt(halt, main_halo_tid)\n",
    "    desc_lst = get_descendants_halt(halo_tid, halt)\n",
    "\n",
    "    idx_lst = np.array([1 if halt[\"tid\"][idx] in tid_main_lst else 0 for idx in desc_lst])\n",
    "    idx_acc = np.where(idx_lst == 1)[0][0]\n",
    "\n",
    "    snap_acc = halt[\"snapshot\"][desc_lst[idx_acc]]\n",
    "\n",
    "    return snap_acc"
   ]
  },
  {
   "cell_type": "code",
   "execution_count": 6,
   "metadata": {},
   "outputs": [],
   "source": [
    "def get_pos_and_vel(host_index, part, halt):\n",
    "    dist = ut.particle.get_distances_wrt_center(\n",
    "        part,\n",
    "        species=[\"dark\", \"star\"],\n",
    "        center_position=halt[\"position\"][host_index],\n",
    "        rotation=True,\n",
    "        total_distance=True,\n",
    "    )\n",
    "\n",
    "    sp = \"star\"\n",
    "    rmax_ctr = 10\n",
    "\n",
    "    ctr_indices = np.where(dist[sp] < rmax_ctr)[0]\n",
    "\n",
    "    m = part[sp][\"mass\"][ctr_indices]\n",
    "    pos = part[sp][\"position\"][ctr_indices]\n",
    "    vel = part[sp][\"velocity\"][ctr_indices]\n",
    "    new_ctr = np.multiply(m, pos.T).sum(axis=1) / np.sum(m)\n",
    "    new_vctr = np.multiply(m, vel.T).sum(axis=1) / np.sum(m)\n",
    "\n",
    "    new_rot = ut.particle.get_principal_axes(\n",
    "        part,\n",
    "        species_name=\"star\",\n",
    "        distance_max=rmax_ctr,\n",
    "        mass_percent=90,\n",
    "        age_percent=25,\n",
    "        age_limits=None,\n",
    "        temperature_limits=None,\n",
    "        center_positions=new_ctr,\n",
    "        center_velocities=new_vctr,\n",
    "        host_index=None,\n",
    "        part_indicess=None,\n",
    "        return_single_array=True,\n",
    "        verbose=None,\n",
    "    )\n",
    "\n",
    "    dist_vect = ut.particle.get_distances_wrt_center(\n",
    "        part,\n",
    "        species=[\"dark\", \"star\"],\n",
    "        center_position=new_ctr,\n",
    "        rotation=new_rot[\"rotation\"],\n",
    "    )\n",
    "\n",
    "    vel_vect = ut.particle.get_velocities_wrt_center(\n",
    "        part,\n",
    "        species=[\"dark\", \"star\"],\n",
    "        center_position=new_ctr,\n",
    "        center_velocity=new_vctr,\n",
    "        rotation=new_rot[\"rotation\"],\n",
    "    )\n",
    "\n",
    "    # vel_cyl_vect = ut.particle.get_velocities_wrt_center(\n",
    "    #     part,\n",
    "    #     species=[\"dark\", \"star\"],\n",
    "    #     center_position=halt[\"position\"][0],\n",
    "    #     center_velocity=halt[\"velocity\"][0],\n",
    "    #     rotation=new_rot[\"rotation\"],\n",
    "    #     coordinate_system=\"cylindrical\",\n",
    "    # )\n",
    "\n",
    "    return dist_vect, vel_vect"
   ]
  },
  {
   "cell_type": "code",
   "execution_count": 7,
   "metadata": {},
   "outputs": [
    {
     "name": "stdout",
     "output_type": "stream",
     "text": [
      "\n",
      "# in utilities.simulation.Snapshot():\n",
      "* reading:  Users/z5114326/Documents/simulations/m12i/m12i_res7100/snapshot_times.txt\n",
      "\n",
      "  using snapshot index = 77, redshift = 4.478\n",
      "\n",
      "\n",
      "# in gizmo_analysis.gizmo_io.Read():\n",
      "* reading header from:  Users/z5114326/Documents/simulations/m12i/m12i_res7100/output/snapdir_077/snapshot_077.0.hdf5\n",
      "  snapshot contains the following number of particles:\n",
      "    dark      (id = 1): 70514272 particles\n",
      "    dark2     (id = 2): 5513331 particles\n",
      "    gas       (id = 0): 70388512 particles\n",
      "    star      (id = 4): 125821 particles\n",
      "    blackhole (id = 5): 0 particles\n",
      "\n",
      "* reading the following\n",
      "  species: ['dark', 'star']\n",
      "\n",
      "* reading particles from:\n",
      "    snapshot_077.0.hdf5\n",
      "    snapshot_077.1.hdf5\n",
      "    snapshot_077.2.hdf5\n",
      "    snapshot_077.3.hdf5\n",
      "\n",
      "* reading cosmological parameters from:  Users/z5114326/Documents/simulations/m12i/m12i_res7100/initial_condition/ic_agora_m12i.conf\n",
      "\n",
      "* checking sanity of particle properties\n",
      "\n",
      "\n",
      "# in gizmo_analysis.gizmo_track.ParticleCoordinate():\n",
      "  read 1 host (position, velocity, principal axes) from:  Users/z5114326/Documents/simulations/m12i/m12i_res7100/track/host_coordinates.hdf5\n",
      "  host1 position = (43057.26, 42130.64, 44311.36) [kpc comoving]\n",
      "  host1 velocity = (-11.0, 39.1, 70.4) [km/s]\n",
      "  host1 axis ratios = (0.53, 0.65, 0.81)\n",
      "\n"
     ]
    }
   ],
   "source": [
    "main_halo_tid = 25236877\n",
    "\n",
    "it_min = 0\n",
    "# it_max = 100\n",
    "it_max = 0\n",
    "\n",
    "snap_lst = [77]\n",
    "\n",
    "# for snap in snap_pub_data[\"index\"]:\n",
    "for snap in snap_lst:\n",
    "    snap_id = snapshot_name(snap)\n",
    "\n",
    "    part = gizmo.io.Read.read_snapshots(\n",
    "        [\"dark\", \"star\"],\n",
    "        \"index\",\n",
    "        snap,\n",
    "        simulation_directory=fire_dir,\n",
    "    )\n",
    "\n",
    "    grp_vals = set()\n",
    "\n",
    "    for it in range(it_min, it_max + 1):\n",
    "        it_id = iteration_name(it)\n",
    "\n",
    "        snap_dat = proc_data[it_id][\"snapshots\"][snap_id]\n",
    "\n",
    "        grp_lst = np.abs(snap_dat[\"group_id\"][()])\n",
    "        grp_vals.update(grp_lst)\n",
    "\n",
    "    grp_vals = np.array(sorted(grp_vals))\n",
    "    grp_vals = [grp_vals[0]]  #############################\n",
    "\n",
    "    for grp in grp_vals:\n",
    "        if grp != 0:\n",
    "            acc_snap = get_acc_snap(grp, main_halo_tid, halt)\n",
    "        else:\n",
    "            acc_snap = -1\n",
    "\n",
    "        _, host_idx = get_host_at_snap(grp, snap, acc_snap, halt)\n",
    "\n",
    "        # get data for host at snapshot ######################################\n",
    "\n",
    "        dist_vect, vel_vect = get_pos_and_vel(host_idx, part, halt)\n",
    "\n",
    "        #######################################################################\n",
    "\n",
    "        for it in range(it_min, it_max + 1):\n",
    "            it_id = iteration_name(it)\n",
    "            snap_dat = proc_data[it_id][\"snapshots\"][snap_id]\n",
    "\n",
    "            grp_mask = np.abs(snap_dat[\"group_id\"][()]) == grp\n",
    "\n",
    "            gc_ids = snap_dat[\"gc_id\"][()][grp_mask]\n",
    "            ptypes_bin = snap_dat[\"ptype\"][()][grp_mask]\n",
    "\n",
    "            ptypes = [ptype.decode(\"utf-8\") for ptype in ptypes_bin]\n",
    "\n",
    "            # pos_lst = np.zeros(len(gc_ids))\n",
    "            # vel_lst = np.zeros(len(gc_ids))\n",
    "\n",
    "            gc_id_star_snap = np.array([gc_id for gc_id, ptype in zip(gc_ids, ptypes) if ptype == \"star\"])\n",
    "            gc_id_dark_snap = np.array([gc_id for gc_id, ptype in zip(gc_ids, ptypes) if ptype == \"dark\"])\n"
   ]
  },
  {
   "cell_type": "code",
   "execution_count": 8,
   "metadata": {},
   "outputs": [],
   "source": [
    "gc_star_mask = np.isin(part[\"star\"][\"id\"], gc_id_star_snap)\n",
    "gc_dark_mask = np.isin(part[\"dark\"][\"id\"], gc_id_dark_snap)\n",
    "\n",
    "gc_id_star = part[\"star\"][\"id\"][gc_star_mask]\n",
    "star_pos_lst = dist_vect[\"star\"][gc_star_mask]\n",
    "star_vel_lst = vel_vect[\"star\"][gc_star_mask]\n",
    "\n",
    "gc_id_dark = part[\"dark\"][\"id\"][gc_dark_mask]\n",
    "dark_pos_lst = dist_vect[\"dark\"][gc_dark_mask]\n",
    "dark_vel_lst = vel_vect[\"dark\"][gc_dark_mask]\n",
    "\n",
    "gc_id_lst = np.concatenate((gc_id_star, gc_id_dark))\n",
    "pos_lst = np.vstack((star_pos_lst, dark_pos_lst))\n",
    "vel_lst = np.vstack((star_vel_lst, dark_vel_lst))\n",
    "\n",
    "snap_gc_mask = np.isin(snap_dat[\"gc_id\"][()], gc_id_lst)\n",
    "log_mass_lst = snap_dat[\"mass\"][()][snap_gc_mask]\n",
    "mass_lst = 10**log_mass_lst\n",
    "\n",
    "com = np.multiply(mass_lst, pos_lst.T).sum(axis=1) / np.sum(mass_lst)"
   ]
  },
  {
   "cell_type": "code",
   "execution_count": 9,
   "metadata": {},
   "outputs": [
    {
     "data": {
      "text/plain": [
       "array([ 5.15068536,  2.47940531, -3.05034703])"
      ]
     },
     "execution_count": 9,
     "metadata": {},
     "output_type": "execute_result"
    }
   ],
   "source": [
    "com"
   ]
  },
  {
   "cell_type": "markdown",
   "metadata": {},
   "source": [
    "Need to work in absoluet distances only. I.e. sigma 3D and distance from COM. This is due to inconsistent frame rotations."
   ]
  },
  {
   "cell_type": "code",
   "execution_count": 10,
   "metadata": {},
   "outputs": [
    {
     "data": {
      "text/plain": [
       "array([ 55.45009273, -18.22539043, -41.68932847])"
      ]
     },
     "execution_count": 10,
     "metadata": {},
     "output_type": "execute_result"
    }
   ],
   "source": [
    "mask = snap_dat[\"group_id\"][()] == 0\n",
    "\n",
    "x_lst = snap_dat[\"x\"][()][mask]\n",
    "y_lst = snap_dat[\"y\"][()][mask]\n",
    "z_lst = snap_dat[\"z\"][()][mask]\n",
    "\n",
    "pos_lst = np.array([np.array([x, y, z]) for x, y, z in zip(x_lst, y_lst, z_lst)])\n",
    "\n",
    "log_mass_lst = snap_dat[\"mass\"][()][mask]\n",
    "mass_lst = 10**log_mass_lst\n",
    "\n",
    "com = np.multiply(mass_lst, pos_lst.T).sum(axis=1) / np.sum(mass_lst)\n",
    "\n",
    "com"
   ]
  }
 ],
 "metadata": {
  "kernelspec": {
   "display_name": ".venv",
   "language": "python",
   "name": "python3"
  },
  "language_info": {
   "codemirror_mode": {
    "name": "ipython",
    "version": 3
   },
   "file_extension": ".py",
   "mimetype": "text/x-python",
   "name": "python",
   "nbconvert_exporter": "python",
   "pygments_lexer": "ipython3",
   "version": "3.12.7"
  }
 },
 "nbformat": 4,
 "nbformat_minor": 2
}
