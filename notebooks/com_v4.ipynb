{
 "cells": [
  {
   "cell_type": "code",
   "execution_count": 1,
   "metadata": {},
   "outputs": [],
   "source": [
    "import gizmo_analysis as gizmo\n",
    "import h5py\n",
    "import halo_analysis as halo\n",
    "import matplotlib.gridspec as gridspec\n",
    "import matplotlib.pyplot as plt\n",
    "import numpy as np\n",
    "import pandas as pd\n",
    "import scipy.interpolate as interp\n",
    "import scipy.signal as signal\n",
    "import utilities as ut\n",
    "from gc_utils import get_descendants_halt, iteration_name, main_prog_halt, snapshot_name  # type: ignore\n"
   ]
  },
  {
   "cell_type": "code",
   "execution_count": 2,
   "metadata": {},
   "outputs": [],
   "source": [
    "sim = \"m12i\"\n",
    "sim_dir = \"/Users/z5114326/Documents/simulations/\"\n",
    "fire_dir = sim_dir + sim + \"/\" + sim + \"_res7100\"\n",
    "\n",
    "proc_file = sim_dir + sim + \"/\" + sim + \"_processed.hdf5\"\n",
    "proc_data = h5py.File(proc_file, \"r\")  # open processed data file\n",
    "\n",
    "snap_dir = fire_dir + \"/snapshot_times.txt\"\n",
    "snap_data = pd.read_table(snap_dir, comment=\"#\", header=None, sep=r\"\\s+\")\n",
    "snap_data.columns = [\n",
    "    \"index\",\n",
    "    \"scale_factor\",\n",
    "    \"redshift\",\n",
    "    \"time_Gyr\",\n",
    "    \"lookback_time_Gyr\",\n",
    "    \"time_width_Myr\",\n",
    "]\n",
    "\n",
    "snap_pub_dir = sim_dir + \"/snapshot_times_public.txt\"\n",
    "snap_pub_data = pd.read_table(snap_pub_dir, comment=\"#\", header=None, sep=r\"\\s+\")\n",
    "snap_pub_data.columns = [\n",
    "    \"index\",\n",
    "    \"scale_factor\",\n",
    "    \"redshift\",\n",
    "    \"time_Gyr\",\n",
    "    \"lookback_time_Gyr\",\n",
    "    \"time_width_Myr\",\n",
    "]"
   ]
  },
  {
   "cell_type": "code",
   "execution_count": 3,
   "metadata": {},
   "outputs": [
    {
     "name": "stdout",
     "output_type": "stream",
     "text": [
      "\n",
      "# in utilities.simulation.Snapshot():\n",
      "* reading:  Users/z5114326/Documents/simulations/m12i/m12i_res7100/snapshot_times.txt\n",
      "\n",
      "* using snapshot indices = [ 77 600]\n",
      "  redshifts = [4.47826052 0.        ]\n",
      "\n",
      "\n",
      "# in halo_analysis.halo_io.IO():\n",
      "* read 9832 halos from:  Users/z5114326/Documents/simulations/m12i/m12i_res7100/halo/rockstar_dm/catalog_hdf5/halo_077.hdf5\n",
      "\n",
      "# in halo_analysis.halo_io.Particle():\n",
      "* read 9832 halos, 301 have star particles, from:  Users/z5114326/Documents/simulations/m12i/m12i_res7100/halo/rockstar_dm/catalog_hdf5/star_077.hdf5\n",
      "* assigning primary host and coordinates wrt it to halo catalog...  finished\n",
      "\n",
      "\n",
      "# in gizmo_analysis.gizmo_track.ParticleCoordinate():\n",
      "  read 1 host (position, velocity, principal axes) from:  Users/z5114326/Documents/simulations/m12i/m12i_res7100/track/host_coordinates.hdf5\n",
      "  host1 position = (43057.26, 42130.64, 44311.36) [kpc comoving]\n",
      "  host1 velocity = (-11.0, 39.1, 70.4) [km/s]\n",
      "  host1 axis ratios = (0.53, 0.65, 0.81)\n",
      "\n",
      "* read 35838 halos from:  Users/z5114326/Documents/simulations/m12i/m12i_res7100/halo/rockstar_dm/catalog_hdf5/halo_600.hdf5\n",
      "* read 35838 halos, 55 have star particles, from:  Users/z5114326/Documents/simulations/m12i/m12i_res7100/halo/rockstar_dm/catalog_hdf5/star_600.hdf5\n",
      "* assigning primary host and coordinates wrt it to halo catalog...  finished\n",
      "\n",
      "\n",
      "# in gizmo_analysis.gizmo_track.ParticleCoordinate():\n",
      "  read 1 host (position, velocity, principal axes) from:  Users/z5114326/Documents/simulations/m12i/m12i_res7100/track/host_coordinates.hdf5\n",
      "  host1 position = (41792.15, 44131.23, 46267.68) [kpc comoving]\n",
      "  host1 velocity = (-52.2, 73.6, 94.7) [km/s]\n",
      "  host1 axis ratios = (0.16, 0.16, 0.99)\n"
     ]
    }
   ],
   "source": [
    "snap = 77\n",
    "\n",
    "hals = halo.io.IO.read_catalogs(\"index\", [77, 600], fire_dir, assign_hosts_rotation=True)\n",
    "# hals = halo.io.IO.read_catalogs(\"index\", [77, 600], fire_dir)"
   ]
  },
  {
   "cell_type": "code",
   "execution_count": 4,
   "metadata": {},
   "outputs": [
    {
     "name": "stdout",
     "output_type": "stream",
     "text": [
      "\n",
      "# in utilities.simulation.Snapshot():\n",
      "* reading:  Users/z5114326/Documents/simulations/m12i/m12i_res7100/snapshot_times.txt\n",
      "\n",
      "  using snapshot index = 77, redshift = 4.478\n",
      "\n",
      "\n",
      "# in gizmo_analysis.gizmo_io.Read():\n",
      "* reading header from:  Users/z5114326/Documents/simulations/m12i/m12i_res7100/output/snapdir_077/snapshot_077.0.hdf5\n",
      "  snapshot contains the following number of particles:\n",
      "    dark      (id = 1): 70514272 particles\n",
      "    dark2     (id = 2): 5513331 particles\n",
      "    gas       (id = 0): 70388512 particles\n",
      "    star      (id = 4): 125821 particles\n",
      "    blackhole (id = 5): 0 particles\n",
      "\n",
      "* reading the following\n",
      "  species: ['dark', 'star']\n",
      "\n",
      "* reading particles from:\n",
      "    snapshot_077.0.hdf5\n",
      "    snapshot_077.1.hdf5\n",
      "    snapshot_077.2.hdf5\n",
      "    snapshot_077.3.hdf5\n",
      "\n",
      "* reading cosmological parameters from:  Users/z5114326/Documents/simulations/m12i/m12i_res7100/initial_condition/ic_agora_m12i.conf\n",
      "\n",
      "* checking sanity of particle properties\n",
      "\n",
      "\n",
      "# in gizmo_analysis.gizmo_track.ParticleCoordinate():\n",
      "  read 1 host (position, velocity, principal axes) from:  Users/z5114326/Documents/simulations/m12i/m12i_res7100/track/host_coordinates.hdf5\n",
      "  host1 position = (43057.26, 42130.64, 44311.36) [kpc comoving]\n",
      "  host1 velocity = (-11.0, 39.1, 70.4) [km/s]\n",
      "  host1 axis ratios = (0.53, 0.65, 0.81)\n",
      "\n"
     ]
    }
   ],
   "source": [
    "part = gizmo.io.Read.read_snapshots(\n",
    "    [\"dark\", \"star\"], \"index\", snap, simulation_directory=fire_dir, assign_hosts_rotation=True\n",
    ")\n",
    "\n",
    "# part = gizmo.io.Read.read_snapshots([\"dark\", \"star\"], \"index\", snap, simulation_directory=fire_dir)"
   ]
  },
  {
   "cell_type": "markdown",
   "metadata": {},
   "source": [
    "From part 77\n",
    "\n",
    "host1 position = (43057.26, 42130.64, 44311.36) [kpc comoving]"
   ]
  },
  {
   "cell_type": "code",
   "execution_count": 5,
   "metadata": {},
   "outputs": [
    {
     "data": {
      "text/plain": [
       "array([43056.184, 42130.63 , 44310.984], dtype=float32)"
      ]
     },
     "execution_count": 5,
     "metadata": {},
     "output_type": "execute_result"
    }
   ],
   "source": [
    "host_idx = np.where(hals[snap].prop(\"host.distance.principal.total\") == 0)[0][0]\n",
    "hals[snap][\"position\"][host_idx]"
   ]
  },
  {
   "cell_type": "code",
   "execution_count": 6,
   "metadata": {},
   "outputs": [
    {
     "data": {
      "text/plain": [
       "array([43056.184, 42130.63 , 44310.984], dtype=float32)"
      ]
     },
     "execution_count": 6,
     "metadata": {},
     "output_type": "execute_result"
    }
   ],
   "source": [
    "host_idx = np.where(hals[snap].prop(\"host.distance.principle.total\") == 0)[0][0]\n",
    "hals[snap][\"position\"][host_idx]"
   ]
  },
  {
   "cell_type": "code",
   "execution_count": 7,
   "metadata": {},
   "outputs": [],
   "source": [
    "dist_vect = ut.particle.get_distances_wrt_center(\n",
    "    part,\n",
    "    species=[\"dark\", \"star\"],\n",
    "    center_position=hals[snap][\"position\"][host_idx],\n",
    "    rotation=None,\n",
    ")"
   ]
  },
  {
   "cell_type": "code",
   "execution_count": 8,
   "metadata": {},
   "outputs": [
    {
     "data": {
      "text/plain": [
       "array([ 57.23848718, -33.88696372,   9.04401168])"
      ]
     },
     "execution_count": 8,
     "metadata": {},
     "output_type": "execute_result"
    }
   ],
   "source": [
    "dist_vect[\"dark\"][0]"
   ]
  },
  {
   "cell_type": "code",
   "execution_count": 9,
   "metadata": {},
   "outputs": [
    {
     "data": {
      "text/plain": [
       "array([ 313.56733691, -185.641611  ,   49.54545094])"
      ]
     },
     "execution_count": 9,
     "metadata": {},
     "output_type": "execute_result"
    }
   ],
   "source": [
    "part[\"dark\"][\"position\"][0] - hals[snap][\"position\"][host_idx]"
   ]
  },
  {
   "cell_type": "code",
   "execution_count": 10,
   "metadata": {},
   "outputs": [
    {
     "data": {
      "text/plain": [
       "array([ 57.23848718, -33.88696372,   9.04401168])"
      ]
     },
     "execution_count": 10,
     "metadata": {},
     "output_type": "execute_result"
    }
   ],
   "source": [
    "ut.coordinate.get_distances(\n",
    "    part[\"dark\"][\"position\"][0],\n",
    "    hals[snap][\"position\"][host_idx],\n",
    "    part.info[\"box.length\"],\n",
    "    part.snapshot[\"scalefactor\"],\n",
    "    total_distance=False,\n",
    ")  # [kpc physical]"
   ]
  },
  {
   "cell_type": "code",
   "execution_count": 11,
   "metadata": {},
   "outputs": [
    {
     "data": {
      "text/plain": [
       "array([ 57.23858168, -33.88701967,   9.04402661])"
      ]
     },
     "execution_count": 11,
     "metadata": {},
     "output_type": "execute_result"
    }
   ],
   "source": [
    "ut.coordinate.get_distances(\n",
    "    part[\"dark\"][\"position\"][0],\n",
    "    hals[snap][\"position\"][host_idx],\n",
    "    hals[snap].info[\"box.length\"],\n",
    "    hals[snap].snapshot[\"scalefactor\"],\n",
    "    # total_distance,\n",
    ")  # [kpc physical]"
   ]
  },
  {
   "cell_type": "code",
   "execution_count": 12,
   "metadata": {},
   "outputs": [
    {
     "data": {
      "text/plain": [
       "array([ 50.63068622, -21.79208763, -38.00478108])"
      ]
     },
     "execution_count": 12,
     "metadata": {},
     "output_type": "execute_result"
    }
   ],
   "source": [
    "part[\"dark\"].prop(\"host.distance.principal\", 0)"
   ]
  },
  {
   "cell_type": "code",
   "execution_count": 13,
   "metadata": {},
   "outputs": [
    {
     "data": {
      "text/plain": [
       "array([ 57.04168656, -33.88838981,   8.97484625])"
      ]
     },
     "execution_count": 13,
     "metadata": {},
     "output_type": "execute_result"
    }
   ],
   "source": [
    "part[\"dark\"].prop(\"host.distance.principle\", 0)"
   ]
  },
  {
   "cell_type": "code",
   "execution_count": 14,
   "metadata": {},
   "outputs": [
    {
     "data": {
      "text/plain": [
       "66.95315418539779"
      ]
     },
     "execution_count": 14,
     "metadata": {},
     "output_type": "execute_result"
    }
   ],
   "source": [
    "np.linalg.norm(part[\"dark\"].prop(\"host.distance.principal\", 0))"
   ]
  },
  {
   "cell_type": "code",
   "execution_count": 15,
   "metadata": {},
   "outputs": [
    {
     "data": {
      "text/plain": [
       "66.95315403655763"
      ]
     },
     "execution_count": 15,
     "metadata": {},
     "output_type": "execute_result"
    }
   ],
   "source": [
    "np.linalg.norm(part[\"dark\"].prop(\"host.distance.principle\", 0))"
   ]
  },
  {
   "cell_type": "code",
   "execution_count": 16,
   "metadata": {},
   "outputs": [
    {
     "data": {
      "text/plain": [
       "array([-201.62328 ,   81.791466,  -79.352844], dtype=float32)"
      ]
     },
     "execution_count": 16,
     "metadata": {},
     "output_type": "execute_result"
    }
   ],
   "source": [
    "# lets do it with galaxy centres\n",
    "\n",
    "ut.coordinate.get_distances(\n",
    "    hals[snap][\"position\"][10],\n",
    "    hals[snap][\"position\"][host_idx],\n",
    "    hals[snap].info[\"box.length\"],\n",
    "    hals[snap].snapshot[\"scalefactor\"],\n",
    "    # total_distance,\n",
    ")  # [kpc physical]"
   ]
  },
  {
   "cell_type": "code",
   "execution_count": 17,
   "metadata": {},
   "outputs": [
    {
     "data": {
      "text/plain": [
       "array([-201.62328 ,   81.791466,  -79.352844], dtype=float32)"
      ]
     },
     "execution_count": 17,
     "metadata": {},
     "output_type": "execute_result"
    }
   ],
   "source": [
    "hals[snap].prop(\"host.distance.principle\", 10)"
   ]
  },
  {
   "cell_type": "code",
   "execution_count": 18,
   "metadata": {},
   "outputs": [
    {
     "data": {
      "text/plain": [
       "array([-193.54637,   99.27209,   79.52053], dtype=float32)"
      ]
     },
     "execution_count": 18,
     "metadata": {},
     "output_type": "execute_result"
    }
   ],
   "source": [
    "hals[snap].prop(\"host.distance.principal\", 10)"
   ]
  },
  {
   "cell_type": "markdown",
   "metadata": {},
   "source": [
    "HOLY SHIT IT WORKS"
   ]
  },
  {
   "cell_type": "code",
   "execution_count": 19,
   "metadata": {},
   "outputs": [],
   "source": [
    "vel_vect = ut.particle.get_velocities_wrt_center(\n",
    "    part,\n",
    "    species=[\"dark\", \"star\"],\n",
    "    center_position=hals[snap][\"position\"][host_idx],\n",
    "    # center_velocity=hals[snap][\"velocity\"][host_idx],\n",
    "    rotation=None,\n",
    ")"
   ]
  },
  {
   "cell_type": "code",
   "execution_count": 20,
   "metadata": {},
   "outputs": [
    {
     "data": {
      "text/plain": [
       "array([-85.9688   ,   2.9954295, -30.679682 ], dtype=float32)"
      ]
     },
     "execution_count": 20,
     "metadata": {},
     "output_type": "execute_result"
    }
   ],
   "source": [
    "vel_vect[\"dark\"][0]"
   ]
  },
  {
   "cell_type": "code",
   "execution_count": 21,
   "metadata": {},
   "outputs": [
    {
     "data": {
      "text/plain": [
       "array([-87.89803,  23.71265,   8.39786], dtype=float32)"
      ]
     },
     "execution_count": 21,
     "metadata": {},
     "output_type": "execute_result"
    }
   ],
   "source": [
    "part[\"dark\"].prop(\"host.velocity.principal\", 0)"
   ]
  },
  {
   "cell_type": "code",
   "execution_count": 22,
   "metadata": {},
   "outputs": [
    {
     "data": {
      "text/plain": [
       "array([-86.061935 ,   2.9947548, -30.712414 ], dtype=float32)"
      ]
     },
     "execution_count": 22,
     "metadata": {},
     "output_type": "execute_result"
    }
   ],
   "source": [
    "part[\"dark\"].prop(\"host.velocity.principle\", 0)"
   ]
  },
  {
   "cell_type": "code",
   "execution_count": 23,
   "metadata": {},
   "outputs": [
    {
     "data": {
      "text/plain": [
       "array([-118.61138 ,    6.050033,  -43.019585], dtype=float32)"
      ]
     },
     "execution_count": 23,
     "metadata": {},
     "output_type": "execute_result"
    }
   ],
   "source": [
    "vel_vect = ut.particle.get_velocities_wrt_center(\n",
    "    part,\n",
    "    species=[\"dark\", \"star\"],\n",
    "    center_position=hals[snap][\"position\"][host_idx],\n",
    "    center_velocity=hals[snap][\"velocity\"][host_idx],\n",
    "    rotation=None,\n",
    ")\n",
    "\n",
    "vel_vect[\"dark\"][0]"
   ]
  },
  {
   "cell_type": "code",
   "execution_count": 24,
   "metadata": {},
   "outputs": [
    {
     "data": {
      "text/plain": [
       "array([-118.61138 ,    6.050033,  -43.019585], dtype=float32)"
      ]
     },
     "execution_count": 24,
     "metadata": {},
     "output_type": "execute_result"
    }
   ],
   "source": [
    "ut.coordinate.get_velocity_differences(\n",
    "    part[\"dark\"][\"velocity\"][0],\n",
    "    hals[snap][\"velocity\"][host_idx],\n",
    "    part[\"dark\"][\"position\"][0],\n",
    "    hals[snap][\"position\"][host_idx],\n",
    "    part.info[\"box.length\"],\n",
    "    part.snapshot[\"scalefactor\"],\n",
    "    part.snapshot[\"time.hubble\"],\n",
    "    total_velocity=False,\n",
    ")"
   ]
  },
  {
   "cell_type": "code",
   "execution_count": 25,
   "metadata": {},
   "outputs": [
    {
     "data": {
      "text/plain": [
       "array([[-86.061935 ,   2.9947548, -30.712414 ]], dtype=float32)"
      ]
     },
     "execution_count": 25,
     "metadata": {},
     "output_type": "execute_result"
    }
   ],
   "source": [
    "ut.coordinate.get_velocity_differences(\n",
    "    part[\"dark\"][\"velocity\"][0],\n",
    "    part.host[\"velocity\"],\n",
    "    part[\"dark\"][\"position\"][0],\n",
    "    part.host[\"position\"],\n",
    "    part.info[\"box.length\"],\n",
    "    part.snapshot[\"scalefactor\"],\n",
    "    part.snapshot[\"time.hubble\"],\n",
    "    total_velocity=False,\n",
    ")"
   ]
  },
  {
   "cell_type": "markdown",
   "metadata": {},
   "source": [
    "IT LOOKS LIKE THERE IS A DIFFERENT IN HOST VELOCITY"
   ]
  },
  {
   "cell_type": "code",
   "execution_count": 26,
   "metadata": {},
   "outputs": [
    {
     "data": {
      "text/plain": [
       "92.85362"
      ]
     },
     "execution_count": 26,
     "metadata": {},
     "output_type": "execute_result"
    }
   ],
   "source": [
    "np.linalg.norm(hals[snap][\"velocity\"][host_idx])"
   ]
  },
  {
   "cell_type": "code",
   "execution_count": 27,
   "metadata": {},
   "outputs": [
    {
     "data": {
      "text/plain": [
       "81.317474"
      ]
     },
     "execution_count": 27,
     "metadata": {},
     "output_type": "execute_result"
    }
   ],
   "source": [
    "np.linalg.norm(part.host[\"velocity\"])"
   ]
  },
  {
   "cell_type": "markdown",
   "metadata": {},
   "source": [
    "WTF!!!!!!"
   ]
  },
  {
   "cell_type": "code",
   "execution_count": 28,
   "metadata": {},
   "outputs": [
    {
     "data": {
      "text/plain": [
       "array([[-10.982577,  39.134605,  70.43009 ]], dtype=float32)"
      ]
     },
     "execution_count": 28,
     "metadata": {},
     "output_type": "execute_result"
    }
   ],
   "source": [
    "hals[snap].host[\"velocity\"]"
   ]
  },
  {
   "cell_type": "code",
   "execution_count": 29,
   "metadata": {},
   "outputs": [
    {
     "data": {
      "text/plain": [
       "array([21.66, 36.08, 82.77], dtype=float32)"
      ]
     },
     "execution_count": 29,
     "metadata": {},
     "output_type": "execute_result"
    }
   ],
   "source": [
    "hals[snap][\"velocity\"][host_idx]"
   ]
  },
  {
   "cell_type": "code",
   "execution_count": 30,
   "metadata": {},
   "outputs": [
    {
     "data": {
      "text/plain": [
       "array([[-10.982577,  39.134605,  70.43009 ]], dtype=float32)"
      ]
     },
     "execution_count": 30,
     "metadata": {},
     "output_type": "execute_result"
    }
   ],
   "source": [
    "part.host[\"velocity\"]"
   ]
  },
  {
   "cell_type": "code",
   "execution_count": 31,
   "metadata": {},
   "outputs": [
    {
     "data": {
      "text/plain": [
       "array([[43057.26 , 42130.637, 44311.363]], dtype=float32)"
      ]
     },
     "execution_count": 31,
     "metadata": {},
     "output_type": "execute_result"
    }
   ],
   "source": [
    "hals[snap].host[\"position\"]"
   ]
  },
  {
   "cell_type": "code",
   "execution_count": 32,
   "metadata": {},
   "outputs": [
    {
     "data": {
      "text/plain": [
       "array([43056.184, 42130.63 , 44310.984], dtype=float32)"
      ]
     },
     "execution_count": 32,
     "metadata": {},
     "output_type": "execute_result"
    }
   ],
   "source": [
    "hals[snap][\"position\"][host_idx]"
   ]
  },
  {
   "cell_type": "code",
   "execution_count": 33,
   "metadata": {},
   "outputs": [
    {
     "data": {
      "text/plain": [
       "array([[43057.26 , 42130.637, 44311.363]], dtype=float32)"
      ]
     },
     "execution_count": 33,
     "metadata": {},
     "output_type": "execute_result"
    }
   ],
   "source": [
    "part.host[\"position\"]"
   ]
  },
  {
   "cell_type": "code",
   "execution_count": 34,
   "metadata": {},
   "outputs": [
    {
     "name": "stdout",
     "output_type": "stream",
     "text": [
      "[[-32.64258     3.0546036 -12.339905 ]]\n"
     ]
    }
   ],
   "source": [
    "print(hals[snap].host[\"velocity\"] - hals[snap][\"velocity\"][host_idx])"
   ]
  },
  {
   "cell_type": "code",
   "execution_count": 35,
   "metadata": {},
   "outputs": [
    {
     "name": "stdout",
     "output_type": "stream",
     "text": [
      "\n",
      "# in utilities.particle.get_center_velocities_or_accelerations():\n",
      "* assigning velocity for 1 center/host, weighting star particles by mass\n",
      "  host1 velocity = (-10.6, 39.8, 69.4) [km/s]\n"
     ]
    },
    {
     "data": {
      "text/plain": [
       "array([-10.581415,  39.823235,  69.449585], dtype=float32)"
      ]
     },
     "execution_count": 35,
     "metadata": {},
     "output_type": "execute_result"
    }
   ],
   "source": [
    "ut.particle.get_center_velocities_or_accelerations(\n",
    "    part,\n",
    "    property_kind=\"velocity\",\n",
    "    species_name=\"star\",\n",
    "    part_indicess=None,\n",
    "    weight_property=\"mass\",\n",
    "    distance_max=10,\n",
    "    center_positions=None,\n",
    "    return_single_array=True,\n",
    "    verbose=True,\n",
    ")"
   ]
  },
  {
   "cell_type": "markdown",
   "metadata": {},
   "source": [
    "## LETS DO A TEST TO JUST CONFIRM THE PROCESS"
   ]
  },
  {
   "cell_type": "code",
   "execution_count": 36,
   "metadata": {},
   "outputs": [
    {
     "data": {
      "text/plain": [
       "array([43056.184, 42130.63 , 44310.984], dtype=float32)"
      ]
     },
     "execution_count": 36,
     "metadata": {},
     "output_type": "execute_result"
    }
   ],
   "source": [
    "host_idx = np.where(hals[snap].prop(\"host.distance.principal.total\") == 0)[0][0]\n",
    "hals[snap][\"position\"][host_idx]"
   ]
  },
  {
   "cell_type": "code",
   "execution_count": 37,
   "metadata": {},
   "outputs": [],
   "source": [
    "# ut.particle.get_center_positions(\n",
    "#     part,\n",
    "#     species_name=\"star\",\n",
    "#     part_indicess=None,\n",
    "#     weight_property=\"mass\",\n",
    "#     center_number=1,\n",
    "#     exclusion_distance=400,\n",
    "#     center_positions=None,\n",
    "#     distance_max=np.inf,\n",
    "#     return_single_array=True,\n",
    "#     verbose=True,\n",
    "# )"
   ]
  },
  {
   "cell_type": "code",
   "execution_count": 51,
   "metadata": {},
   "outputs": [
    {
     "data": {
      "text/plain": [
       "array([ 57.23848718, -33.88696372,   9.04401168])"
      ]
     },
     "execution_count": 51,
     "metadata": {},
     "output_type": "execute_result"
    }
   ],
   "source": [
    "# We will find the distances to part[\"dark\"] index 0\n",
    "\n",
    "ut.coordinate.get_distances(\n",
    "    part[\"dark\"][\"position\"][0],\n",
    "    hals[snap][\"position\"][host_idx],\n",
    "    part.info[\"box.length\"],\n",
    "    part.snapshot[\"scalefactor\"],\n",
    "    total_distance=False,\n",
    ")  # [kpc physical]"
   ]
  },
  {
   "cell_type": "code",
   "execution_count": 96,
   "metadata": {},
   "outputs": [
    {
     "data": {
      "text/plain": [
       "array([ 50.63068622, -21.79208763, -38.00478108])"
      ]
     },
     "execution_count": 96,
     "metadata": {},
     "output_type": "execute_result"
    }
   ],
   "source": [
    "part[\"dark\"].prop(\"host.distance.principal\", 0)"
   ]
  },
  {
   "cell_type": "code",
   "execution_count": 97,
   "metadata": {},
   "outputs": [
    {
     "data": {
      "text/plain": [
       "array([ 57.04168656, -33.88838981,   8.97484625])"
      ]
     },
     "execution_count": 97,
     "metadata": {},
     "output_type": "execute_result"
    }
   ],
   "source": [
    "part[\"dark\"].prop(\"host.distance\", 0)"
   ]
  },
  {
   "cell_type": "code",
   "execution_count": null,
   "metadata": {},
   "outputs": [
    {
     "data": {
      "text/plain": [
       "array([ 57.04168667, -33.8883899 ,   8.9748475 ])"
      ]
     },
     "execution_count": 56,
     "metadata": {},
     "output_type": "execute_result"
    }
   ],
   "source": [
    "# compute un-rotated coordinates wrt the host\n",
    "unrotate_tensor = part.host[\"rotation\"][0].transpose()\n",
    "ut.coordinate.get_coordinates_rotated(part[\"dark\"].prop(\"host.distance.principal\", 0), unrotate_tensor)"
   ]
  },
  {
   "cell_type": "code",
   "execution_count": 57,
   "metadata": {},
   "outputs": [
    {
     "data": {
      "text/plain": [
       "array([-86.061935 ,   2.9947553, -30.712418 ], dtype=float32)"
      ]
     },
     "execution_count": 57,
     "metadata": {},
     "output_type": "execute_result"
    }
   ],
   "source": [
    "ut.coordinate.get_coordinates_rotated(part[\"dark\"].prop(\"host.velocity.principal\", 0), unrotate_tensor)"
   ]
  },
  {
   "cell_type": "markdown",
   "metadata": {},
   "source": [
    "# OKAY WE GOT IT FINN -> LETS PUT IT ALL TOGETHER"
   ]
  },
  {
   "cell_type": "code",
   "execution_count": 58,
   "metadata": {},
   "outputs": [
    {
     "name": "stdout",
     "output_type": "stream",
     "text": [
      "\n",
      "# in utilities.particle.get_center_velocities_or_accelerations():\n",
      "* assigning velocity for 1 center/host, weighting star particles by mass\n",
      "  host1 velocity = (-10.6, 39.8, 69.4) [km/s]\n"
     ]
    },
    {
     "data": {
      "text/plain": [
       "array([-10.581415,  39.823235,  69.449585], dtype=float32)"
      ]
     },
     "execution_count": 58,
     "metadata": {},
     "output_type": "execute_result"
    }
   ],
   "source": [
    "ut.particle.get_center_velocities_or_accelerations(\n",
    "    part,\n",
    "    property_kind=\"velocity\",\n",
    "    species_name=\"star\",\n",
    "    part_indicess=None,\n",
    "    weight_property=\"mass\",\n",
    "    distance_max=10,\n",
    "    center_positions=None,\n",
    "    return_single_array=True,\n",
    "    verbose=True,\n",
    ")"
   ]
  },
  {
   "cell_type": "code",
   "execution_count": 61,
   "metadata": {},
   "outputs": [
    {
     "data": {
      "text/plain": [
       "(array([[-10.982577,  39.134605,  70.43009 ]], dtype=float32),\n",
       " array([[-10.982577,  39.134605,  70.43009 ]], dtype=float32))"
      ]
     },
     "execution_count": 61,
     "metadata": {},
     "output_type": "execute_result"
    }
   ],
   "source": [
    "part.host[\"velocity\"], hals[snap].host[\"velocity\"]"
   ]
  },
  {
   "cell_type": "code",
   "execution_count": 72,
   "metadata": {},
   "outputs": [
    {
     "data": {
      "text/plain": [
       "array([21.66, 36.08, 82.77], dtype=float32)"
      ]
     },
     "execution_count": 72,
     "metadata": {},
     "output_type": "execute_result"
    }
   ],
   "source": [
    "# 'velocity' : 3-D velocity, along simulation's (cartesian) x,y,z grid [km/s]\n",
    "\n",
    "hals[snap][\"velocity\"][host_idx]"
   ]
  },
  {
   "cell_type": "code",
   "execution_count": 95,
   "metadata": {},
   "outputs": [
    {
     "data": {
      "text/plain": [
       "array([21.66, 36.08, 82.77], dtype=float32)"
      ]
     },
     "execution_count": 95,
     "metadata": {},
     "output_type": "execute_result"
    }
   ],
   "source": [
    "hals[snap][\"velocity\"][host_idx]"
   ]
  },
  {
   "cell_type": "code",
   "execution_count": 98,
   "metadata": {},
   "outputs": [],
   "source": [
    "# ut.coordinate.get_velocities_in_coordinate_system(values, distance_vectors, \"cartesian\", coordinate_system)"
   ]
  },
  {
   "cell_type": "code",
   "execution_count": 86,
   "metadata": {},
   "outputs": [],
   "source": [
    "# ut.coordinate.get_center_velocity(\n",
    "#     velocities,\n",
    "#     weights=None,\n",
    "#     positions=None,\n",
    "#     center_position=None,\n",
    "#     distance_max=20,\n",
    "#     periodic_length=None,\n",
    "# )"
   ]
  },
  {
   "cell_type": "code",
   "execution_count": 73,
   "metadata": {},
   "outputs": [
    {
     "data": {
      "text/plain": [
       "array([0., 0., 0.], dtype=float32)"
      ]
     },
     "execution_count": 73,
     "metadata": {},
     "output_type": "execute_result"
    }
   ],
   "source": [
    "hals[snap][\"host.velocity\"][host_idx]"
   ]
  },
  {
   "cell_type": "markdown",
   "metadata": {},
   "source": [
    "# Lets do this for real"
   ]
  },
  {
   "cell_type": "code",
   "execution_count": 125,
   "metadata": {},
   "outputs": [],
   "source": [
    "# second largest galaxy\n",
    "galaxy_b_idx = np.where(hals[snap][\"mass\"] == np.flip(np.sort(hals[snap][\"mass\"]))[1])[0][0]\n",
    "\n",
    "# dark matter close to the centre of galaxy_B\n",
    "particle_idx = 31986394"
   ]
  },
  {
   "cell_type": "code",
   "execution_count": 134,
   "metadata": {},
   "outputs": [
    {
     "data": {
      "text/plain": [
       "array([ 100.06183, -256.75357, -249.67384], dtype=float32)"
      ]
     },
     "execution_count": 134,
     "metadata": {},
     "output_type": "execute_result"
    }
   ],
   "source": [
    "# this is what I need to match\n",
    "hals[snap].prop(\"host.distance.principal\", galaxy_b_idx)"
   ]
  },
  {
   "cell_type": "code",
   "execution_count": null,
   "metadata": {},
   "outputs": [
    {
     "data": {
      "text/plain": [
       "array([ 143.40086, -321.53067,  119.69134], dtype=float32)"
      ]
     },
     "execution_count": 135,
     "metadata": {},
     "output_type": "execute_result"
    }
   ],
   "source": [
    "rotate_tensor = hals[snap].host[\"rotation\"][0]\n",
    "unrotate_tensor = rotate_tensor.transpose()"
   ]
  },
  {
   "cell_type": "code",
   "execution_count": 140,
   "metadata": {},
   "outputs": [
    {
     "data": {
      "text/plain": [
       "array([ 143.40086, -321.53067,  119.69134], dtype=float32)"
      ]
     },
     "execution_count": 140,
     "metadata": {},
     "output_type": "execute_result"
    }
   ],
   "source": [
    "ut.coordinate.get_coordinates_rotated(\n",
    "    hals[snap].prop(\"host.distance.principal\", galaxy_b_idx), unrotate_tensor\n",
    ")"
   ]
  },
  {
   "cell_type": "code",
   "execution_count": 137,
   "metadata": {},
   "outputs": [
    {
     "data": {
      "text/plain": [
       "array([ 143.40062, -321.53015,  119.69114], dtype=float32)"
      ]
     },
     "execution_count": 137,
     "metadata": {},
     "output_type": "execute_result"
    }
   ],
   "source": [
    "# position of galaxy B in reference to galaxy A\n",
    "\n",
    "galaxy_b_pos_a_unrotated = ut.coordinate.get_distances(\n",
    "    hals[snap][\"position\"][galaxy_b_idx],\n",
    "    hals[snap][\"position\"][host_idx],\n",
    "    part.info[\"box.length\"],\n",
    "    part.snapshot[\"scalefactor\"],\n",
    "    total_distance=False,\n",
    ")  # [kpc physical]\n",
    "\n",
    "galaxy_b_pos_a_unrotated"
   ]
  },
  {
   "cell_type": "code",
   "execution_count": 139,
   "metadata": {},
   "outputs": [
    {
     "data": {
      "text/plain": [
       "array([ 100.06166, -256.75317, -249.67345], dtype=float32)"
      ]
     },
     "execution_count": 139,
     "metadata": {},
     "output_type": "execute_result"
    }
   ],
   "source": [
    "galaxy_b_pos_a_rotated = ut.coordinate.get_coordinates_rotated(galaxy_b_pos_a_unrotated, rotate_tensor)\n",
    "galaxy_b_pos_a_rotated"
   ]
  },
  {
   "cell_type": "code",
   "execution_count": 142,
   "metadata": {},
   "outputs": [
    {
     "data": {
      "text/plain": [
       "array([  99.87586756, -256.63107867, -249.68264204])"
      ]
     },
     "execution_count": 142,
     "metadata": {},
     "output_type": "execute_result"
    }
   ],
   "source": [
    "# now lets do the same for the particle\n",
    "\n",
    "# this is what I need to match\n",
    "part[\"dark\"].prop(\"host.distance.principal\", particle_idx)"
   ]
  },
  {
   "cell_type": "code",
   "execution_count": 143,
   "metadata": {},
   "outputs": [
    {
     "data": {
      "text/plain": [
       "array([ 143.22875382, -321.51075297,  119.5511743 ])"
      ]
     },
     "execution_count": 143,
     "metadata": {},
     "output_type": "execute_result"
    }
   ],
   "source": [
    "ut.coordinate.get_coordinates_rotated(\n",
    "    part[\"dark\"].prop(\"host.distance.principal\", particle_idx), unrotate_tensor\n",
    ")"
   ]
  },
  {
   "cell_type": "code",
   "execution_count": 144,
   "metadata": {},
   "outputs": [
    {
     "data": {
      "text/plain": [
       "array([ 143.42555476, -321.50932318,  119.62033025])"
      ]
     },
     "execution_count": 144,
     "metadata": {},
     "output_type": "execute_result"
    }
   ],
   "source": [
    "# position of galaxy B in reference to galaxy A\n",
    "\n",
    "particle_pos_a_unrotated = ut.coordinate.get_distances(\n",
    "    part[\"dark\"][\"position\"][particle_idx],\n",
    "    hals[snap][\"position\"][host_idx],\n",
    "    part.info[\"box.length\"],\n",
    "    part.snapshot[\"scalefactor\"],\n",
    "    total_distance=False,\n",
    ")  # [kpc physical]\n",
    "\n",
    "particle_pos_a_unrotated"
   ]
  },
  {
   "cell_type": "code",
   "execution_count": 145,
   "metadata": {},
   "outputs": [
    {
     "data": {
      "text/plain": [
       "array([ 100.07819675, -256.68025201, -249.69534056])"
      ]
     },
     "execution_count": 145,
     "metadata": {},
     "output_type": "execute_result"
    }
   ],
   "source": [
    "particle_pos_a_rotated = ut.coordinate.get_coordinates_rotated(particle_pos_a_unrotated, rotate_tensor)\n",
    "particle_pos_a_rotated"
   ]
  },
  {
   "cell_type": "code",
   "execution_count": 154,
   "metadata": {},
   "outputs": [
    {
     "data": {
      "text/plain": [
       "(array([ 0.00301847,  0.01331113, -0.00399651]), 0.014222143123631481)"
      ]
     },
     "execution_count": 154,
     "metadata": {},
     "output_type": "execute_result"
    }
   ],
   "source": [
    "# now lets get the distance between galaxy a and star particle\n",
    "\n",
    "test_rotate = ut.coordinate.get_distances(\n",
    "    particle_pos_a_rotated,\n",
    "    galaxy_b_pos_a_rotated,\n",
    "    part.info[\"box.length\"],\n",
    "    part.snapshot[\"scalefactor\"],\n",
    "    total_distance=False,\n",
    ")  # [kpc physical]\n",
    "\n",
    "test_rotate, np.linalg.norm(test_rotate)"
   ]
  },
  {
   "cell_type": "code",
   "execution_count": 156,
   "metadata": {},
   "outputs": [
    {
     "data": {
      "text/plain": [
       "(array([ 0.00455167,  0.00380197, -0.01292545]), 0.014221109526467983)"
      ]
     },
     "execution_count": 156,
     "metadata": {},
     "output_type": "execute_result"
    }
   ],
   "source": [
    "test_unrotate = ut.coordinate.get_distances(\n",
    "    particle_pos_a_unrotated,\n",
    "    galaxy_b_pos_a_unrotated,\n",
    "    part.info[\"box.length\"],\n",
    "    part.snapshot[\"scalefactor\"],\n",
    "    total_distance=False,\n",
    ")  # [kpc physical]\n",
    "\n",
    "test_unrotate, np.linalg.norm(test_unrotate)"
   ]
  },
  {
   "cell_type": "markdown",
   "metadata": {},
   "source": [
    "DONT FORGET WILL NEED TO DO VELOCITY DISPERSION"
   ]
  }
 ],
 "metadata": {
  "kernelspec": {
   "display_name": ".venv",
   "language": "python",
   "name": "python3"
  },
  "language_info": {
   "codemirror_mode": {
    "name": "ipython",
    "version": 3
   },
   "file_extension": ".py",
   "mimetype": "text/x-python",
   "name": "python",
   "nbconvert_exporter": "python",
   "pygments_lexer": "ipython3",
   "version": "3.12.7"
  }
 },
 "nbformat": 4,
 "nbformat_minor": 2
}
