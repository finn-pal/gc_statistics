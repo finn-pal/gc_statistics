{
 "cells": [
  {
   "cell_type": "code",
   "execution_count": 1,
   "metadata": {},
   "outputs": [],
   "source": [
    "import gc_utils\n",
    "import gizmo_analysis as gizmo\n",
    "import h5py\n",
    "import halo_analysis as halo\n",
    "import matplotlib.gridspec as gridspec\n",
    "import matplotlib.pyplot as plt\n",
    "import numpy as np\n",
    "import pandas as pd\n",
    "import scipy.interpolate as interp\n",
    "import scipy.signal as signal\n",
    "import utilities as ut\n"
   ]
  },
  {
   "cell_type": "code",
   "execution_count": 2,
   "metadata": {},
   "outputs": [],
   "source": [
    "sim = \"m12i\"\n",
    "sim_dir = \"/Users/z5114326/Documents/simulations/\"\n",
    "fire_dir = sim_dir + sim + \"/\" + sim + \"_res7100\"\n",
    "\n",
    "snap_dir = fire_dir + \"/snapshot_times.txt\"\n",
    "snap_data = pd.read_table(snap_dir, comment=\"#\", header=None, sep=r\"\\s+\")\n",
    "snap_data.columns = [\n",
    "    \"index\",\n",
    "    \"scale_factor\",\n",
    "    \"redshift\",\n",
    "    \"time_Gyr\",\n",
    "    \"lookback_time_Gyr\",\n",
    "    \"time_width_Myr\",\n",
    "]\n",
    "\n",
    "snap_pub_dir = sim_dir + \"/snapshot_times_public.txt\"\n",
    "snap_pub_data = pd.read_table(snap_pub_dir, comment=\"#\", header=None, sep=r\"\\s+\")\n",
    "snap_pub_data.columns = [\n",
    "    \"index\",\n",
    "    \"scale_factor\",\n",
    "    \"redshift\",\n",
    "    \"time_Gyr\",\n",
    "    \"lookback_time_Gyr\",\n",
    "    \"time_width_Myr\",\n",
    "]"
   ]
  },
  {
   "cell_type": "code",
   "execution_count": 3,
   "metadata": {},
   "outputs": [],
   "source": [
    "def get_snap_groups(it_min: int, it_max: int, snapshot: int, proc_data):\n",
    "    snap_id = gc_utils.snapshot_name(snapshot)\n",
    "\n",
    "    snap_groups = set()\n",
    "\n",
    "    for it in range(it_min, it_max + 1):\n",
    "        it_id = gc_utils.iteration_name(it)\n",
    "\n",
    "        snap_dat = proc_data[it_id][\"snapshots\"][snap_id]\n",
    "\n",
    "        grp_lst = np.abs(snap_dat[\"group_id\"][()])\n",
    "        snap_groups.update(grp_lst)\n",
    "\n",
    "    snap_groups = np.array(sorted(snap_groups))\n",
    "\n",
    "    return snap_groups"
   ]
  },
  {
   "cell_type": "code",
   "execution_count": 4,
   "metadata": {},
   "outputs": [],
   "source": [
    "def get_acc_snap(halo_tid, main_halo_tid, halt):\n",
    "    tid_main_lst = gc_utils.main_prog_halt(halt, main_halo_tid)\n",
    "    desc_lst = gc_utils.get_descendants_halt(halo_tid, halt)\n",
    "\n",
    "    idx_lst = np.array([1 if halt[\"tid\"][idx] in tid_main_lst else 0 for idx in desc_lst])\n",
    "    idx_acc = np.where(idx_lst == 1)[0][0]\n",
    "\n",
    "    snap_acc = halt[\"snapshot\"][desc_lst[idx_acc]]\n",
    "\n",
    "    return snap_acc"
   ]
  },
  {
   "cell_type": "code",
   "execution_count": 5,
   "metadata": {},
   "outputs": [],
   "source": [
    "def get_galaxy_at_snap(grp_val, snap_final, main_halo_tid, halt):\n",
    "    if grp_val != 0:\n",
    "        idx = np.where(halt[\"tid\"] == grp_val)[0][0]\n",
    "        snap = halt[\"snapshot\"][idx]\n",
    "\n",
    "        acc_snap = get_acc_snap(grp_val, main_halo_tid, halt)\n",
    "\n",
    "        if snap < acc_snap:\n",
    "            while snap > snap_final:\n",
    "                idx = halt[\"progenitor.main.index\"][idx]\n",
    "                snap = halt[\"snapshot\"][idx]\n",
    "\n",
    "        else:\n",
    "            idx = 0\n",
    "            snap = halt[\"snapshot\"][idx]\n",
    "\n",
    "            while snap > snap_final:\n",
    "                idx = halt[\"progenitor.main.index\"][idx]\n",
    "                snap = halt[\"snapshot\"][idx]\n",
    "\n",
    "    else:\n",
    "        idx = 0\n",
    "        snap = halt[\"snapshot\"][idx]\n",
    "\n",
    "        while snap > snap_final:\n",
    "            idx = halt[\"progenitor.main.index\"][idx]\n",
    "            snap = halt[\"snapshot\"][idx]\n",
    "\n",
    "    galaxy_tid = halt[\"tid\"][idx]\n",
    "    galaxy_idx = idx\n",
    "\n",
    "    # print(snap, host_tid)\n",
    "\n",
    "    return galaxy_tid, galaxy_idx"
   ]
  },
  {
   "cell_type": "code",
   "execution_count": 6,
   "metadata": {},
   "outputs": [],
   "source": [
    "def get_group_particle_lst(it, snapshot, group_id, proc_data):\n",
    "    it_id = gc_utils.iteration_name(it)\n",
    "    snap_id = gc_utils.snapshot_name(snapshot)\n",
    "    snap_data = proc_data[it_id][\"snapshots\"][snap_id]\n",
    "\n",
    "    # we use absolute to account for -ve group values (destroyed before accretion)\n",
    "    grp_mask = np.abs(snap_data[\"group_id\"][()]) == group_id\n",
    "\n",
    "    gc_ids = snap_data[\"gc_id\"][()][grp_mask]\n",
    "\n",
    "    ptypes_bin = snap_data[\"ptype\"][()][grp_mask]\n",
    "    ptypes = np.array([ptype.decode(\"utf-8\") for ptype in ptypes_bin])\n",
    "\n",
    "    return gc_ids, ptypes"
   ]
  },
  {
   "cell_type": "code",
   "execution_count": 7,
   "metadata": {},
   "outputs": [
    {
     "name": "stderr",
     "output_type": "stream",
     "text": [
      "Retrieving Halo Tree.....................: 100%|████████████████████████████████████████████████████████████████████████| 1/1 [00:01<00:00,  1.32s/it]\n"
     ]
    }
   ],
   "source": [
    "# inputs ################################\n",
    "sim = \"m12i\"\n",
    "sim_dir = \"/Users/z5114326/Documents/simulations/\"\n",
    "\n",
    "main_halo_tid = 25236877\n",
    "\n",
    "halt = gc_utils.get_halo_tree(sim, sim_dir, assign_hosts_rotation=True)"
   ]
  },
  {
   "cell_type": "code",
   "execution_count": 8,
   "metadata": {},
   "outputs": [],
   "source": [
    "it_min = 0\n",
    "it_max = 0\n",
    "\n",
    "snapshot = 600"
   ]
  },
  {
   "cell_type": "code",
   "execution_count": 9,
   "metadata": {},
   "outputs": [],
   "source": [
    "# function ##############################\n",
    "\n",
    "fire_dir = sim_dir + sim + \"/\" + sim + \"_res7100\"\n",
    "\n",
    "proc_file = sim_dir + sim + \"/\" + sim + \"_processed.hdf5\"\n",
    "proc_data = h5py.File(proc_file, \"r\")  # open processed data file\n"
   ]
  },
  {
   "cell_type": "code",
   "execution_count": 10,
   "metadata": {},
   "outputs": [],
   "source": [
    "snap_groups = get_snap_groups(it_min, it_max, snapshot, proc_data)"
   ]
  },
  {
   "cell_type": "code",
   "execution_count": 11,
   "metadata": {},
   "outputs": [],
   "source": [
    "snap_groups = [snap_groups[0]]\n",
    "group_id = snap_groups[0]\n",
    "\n",
    "# for grp in snap_groups:\n",
    "galaxy_tid, galaxy_tree_idx = get_galaxy_at_snap(group_id, snapshot, main_halo_tid, halt)"
   ]
  },
  {
   "cell_type": "code",
   "execution_count": 12,
   "metadata": {},
   "outputs": [
    {
     "name": "stderr",
     "output_type": "stream",
     "text": [
      "Retrieving Snapshot 600..................:   0%|                                                                                | 0/1 [00:06<?, ?it/s]\n"
     ]
    },
    {
     "ename": "KeyboardInterrupt",
     "evalue": "",
     "output_type": "error",
     "traceback": [
      "\u001b[0;31m---------------------------------------------------------------------------\u001b[0m",
      "\u001b[0;31mKeyboardInterrupt\u001b[0m                         Traceback (most recent call last)",
      "Cell \u001b[0;32mIn[12], line 1\u001b[0m\n\u001b[0;32m----> 1\u001b[0m part \u001b[38;5;241m=\u001b[39m \u001b[43mgc_utils\u001b[49m\u001b[38;5;241;43m.\u001b[39;49m\u001b[43mopen_snapshot\u001b[49m\u001b[43m(\u001b[49m\u001b[43msnapshot\u001b[49m\u001b[43m,\u001b[49m\u001b[43m \u001b[49m\u001b[43mfire_dir\u001b[49m\u001b[43m,\u001b[49m\u001b[43m \u001b[49m\u001b[43mspecies\u001b[49m\u001b[38;5;241;43m=\u001b[39;49m\u001b[43m[\u001b[49m\u001b[38;5;124;43m\"\u001b[39;49m\u001b[38;5;124;43mdark\u001b[39;49m\u001b[38;5;124;43m\"\u001b[39;49m\u001b[43m,\u001b[49m\u001b[43m \u001b[49m\u001b[38;5;124;43m\"\u001b[39;49m\u001b[38;5;124;43mstar\u001b[39;49m\u001b[38;5;124;43m\"\u001b[39;49m\u001b[43m]\u001b[49m\u001b[43m,\u001b[49m\u001b[43m \u001b[49m\u001b[43massign_hosts_rotation\u001b[49m\u001b[38;5;241;43m=\u001b[39;49m\u001b[38;5;28;43;01mTrue\u001b[39;49;00m\u001b[43m)\u001b[49m\n",
      "File \u001b[0;32m~/Documents/GitHub/gc_statistics/.venv/lib/python3.12/site-packages/gc_utils/utils.py:177\u001b[0m, in \u001b[0;36mopen_snapshot\u001b[0;34m(snapshot, fire_dir, species, assign_hosts_rotation)\u001b[0m\n\u001b[1;32m    175\u001b[0m \u001b[38;5;28;01mfor\u001b[39;00m _ \u001b[38;5;129;01min\u001b[39;00m tqdm(\u001b[38;5;28mrange\u001b[39m(\u001b[38;5;241m1\u001b[39m), ncols\u001b[38;5;241m=\u001b[39m\u001b[38;5;241m150\u001b[39m, desc\u001b[38;5;241m=\u001b[39m\u001b[38;5;124m\"\u001b[39m\u001b[38;5;124mRetrieving Snapshot \u001b[39m\u001b[38;5;132;01m%d\u001b[39;00m\u001b[38;5;124m..................\u001b[39m\u001b[38;5;124m\"\u001b[39m \u001b[38;5;241m%\u001b[39m snapshot):\n\u001b[1;32m    176\u001b[0m     block_print()  \u001b[38;5;66;03m# block verbose print statements\u001b[39;00m\n\u001b[0;32m--> 177\u001b[0m     part \u001b[38;5;241m=\u001b[39m \u001b[43mgizmo\u001b[49m\u001b[38;5;241;43m.\u001b[39;49m\u001b[43mio\u001b[49m\u001b[38;5;241;43m.\u001b[39;49m\u001b[43mRead\u001b[49m\u001b[38;5;241;43m.\u001b[39;49m\u001b[43mread_snapshots\u001b[49m\u001b[43m(\u001b[49m\n\u001b[1;32m    178\u001b[0m \u001b[43m        \u001b[49m\u001b[43mspecies\u001b[49m\u001b[43m,\u001b[49m\u001b[43m \u001b[49m\u001b[38;5;124;43m\"\u001b[39;49m\u001b[38;5;124;43mindex\u001b[39;49m\u001b[38;5;124;43m\"\u001b[39;49m\u001b[43m,\u001b[49m\u001b[43m \u001b[49m\u001b[43msnapshot\u001b[49m\u001b[43m,\u001b[49m\u001b[43m \u001b[49m\u001b[43mfire_dir\u001b[49m\u001b[43m,\u001b[49m\u001b[43m \u001b[49m\u001b[43massign_hosts_rotation\u001b[49m\u001b[38;5;241;43m=\u001b[39;49m\u001b[43massign_hosts_rotation\u001b[49m\n\u001b[1;32m    179\u001b[0m \u001b[43m    \u001b[49m\u001b[43m)\u001b[49m\n\u001b[1;32m    180\u001b[0m     enable_print()\n\u001b[1;32m    181\u001b[0m \u001b[38;5;28;01mreturn\u001b[39;00m part\n",
      "File \u001b[0;32m~/Documents/GitHub/gc_statistics/.venv/lib/python3.12/site-packages/gizmo_analysis/gizmo_io.py:1078\u001b[0m, in \u001b[0;36mReadClass.read_snapshots\u001b[0;34m(self, species, snapshot_value_kind, snapshot_values, simulation_directory, snapshot_directory, track_directory, simulation_name, properties, elements, particle_subsample_factor, separate_dark_lowres, sort_dark_by_id, convert_float32, host_number, assign_hosts, assign_hosts_rotation, assign_orbits, assign_formation_coordinates, assign_pointers, check_properties, verbose)\u001b[0m\n\u001b[1;32m   1068\u001b[0m header \u001b[38;5;241m=\u001b[39m \u001b[38;5;28mself\u001b[39m\u001b[38;5;241m.\u001b[39mread_header(\n\u001b[1;32m   1069\u001b[0m     simulation_directory,\n\u001b[1;32m   1070\u001b[0m     snapshot_directory,\n\u001b[0;32m   (...)\u001b[0m\n\u001b[1;32m   1074\u001b[0m     verbose\u001b[38;5;241m=\u001b[39mverbose,\n\u001b[1;32m   1075\u001b[0m )\n\u001b[1;32m   1077\u001b[0m \u001b[38;5;66;03m# read particles from snapshot file[s]\u001b[39;00m\n\u001b[0;32m-> 1078\u001b[0m part \u001b[38;5;241m=\u001b[39m \u001b[38;5;28;43mself\u001b[39;49m\u001b[38;5;241;43m.\u001b[39;49m\u001b[43m_read_particles\u001b[49m\u001b[43m(\u001b[49m\n\u001b[1;32m   1079\u001b[0m \u001b[43m    \u001b[49m\u001b[43msimulation_directory\u001b[49m\u001b[43m,\u001b[49m\n\u001b[1;32m   1080\u001b[0m \u001b[43m    \u001b[49m\u001b[43msnapshot_directory\u001b[49m\u001b[43m,\u001b[49m\n\u001b[1;32m   1081\u001b[0m \u001b[43m    \u001b[49m\u001b[38;5;124;43m'\u001b[39;49m\u001b[38;5;124;43mindex\u001b[39;49m\u001b[38;5;124;43m'\u001b[39;49m\u001b[43m,\u001b[49m\n\u001b[1;32m   1082\u001b[0m \u001b[43m    \u001b[49m\u001b[43msnapshot_index\u001b[49m\u001b[43m,\u001b[49m\n\u001b[1;32m   1083\u001b[0m \u001b[43m    \u001b[49m\u001b[43mproperties\u001b[49m\u001b[43m,\u001b[49m\n\u001b[1;32m   1084\u001b[0m \u001b[43m    \u001b[49m\u001b[43melements\u001b[49m\u001b[43m,\u001b[49m\n\u001b[1;32m   1085\u001b[0m \u001b[43m    \u001b[49m\u001b[43mconvert_float32\u001b[49m\u001b[43m,\u001b[49m\n\u001b[1;32m   1086\u001b[0m \u001b[43m    \u001b[49m\u001b[43mheader\u001b[49m\u001b[43m,\u001b[49m\n\u001b[1;32m   1087\u001b[0m \u001b[43m    \u001b[49m\u001b[43mverbose\u001b[49m\u001b[38;5;241;43m=\u001b[39;49m\u001b[43mverbose\u001b[49m\u001b[43m,\u001b[49m\n\u001b[1;32m   1088\u001b[0m \u001b[43m\u001b[49m\u001b[43m)\u001b[49m\n\u001b[1;32m   1090\u001b[0m \u001b[38;5;66;03m# assign auxilliary information to particle dictionary class\u001b[39;00m\n\u001b[1;32m   1091\u001b[0m \u001b[38;5;66;03m# store header dictionary\u001b[39;00m\n\u001b[1;32m   1092\u001b[0m part\u001b[38;5;241m.\u001b[39minfo \u001b[38;5;241m=\u001b[39m header\n",
      "File \u001b[0;32m~/Documents/GitHub/gc_statistics/.venv/lib/python3.12/site-packages/gizmo_analysis/gizmo_io.py:2020\u001b[0m, in \u001b[0;36mReadClass._read_particles\u001b[0;34m(self, simulation_directory, snapshot_directory, snapshot_value_kind, snapshot_value, properties, elements, convert_float32, header, verbose)\u001b[0m\n\u001b[1;32m   2018\u001b[0m prop_name \u001b[38;5;241m=\u001b[39m property_dict[prop_read_name]\n\u001b[1;32m   2019\u001b[0m \u001b[38;5;28;01mif\u001b[39;00m \u001b[38;5;28mlen\u001b[39m(prop_values\u001b[38;5;241m.\u001b[39mshape) \u001b[38;5;241m==\u001b[39m \u001b[38;5;241m1\u001b[39m:\n\u001b[0;32m-> 2020\u001b[0m     \u001b[43mpart\u001b[49m\u001b[43m[\u001b[49m\u001b[43mspec_name\u001b[49m\u001b[43m]\u001b[49m\u001b[43m[\u001b[49m\u001b[43mprop_name\u001b[49m\u001b[43m]\u001b[49m\u001b[43m[\u001b[49m\n\u001b[1;32m   2021\u001b[0m \u001b[43m        \u001b[49m\u001b[43mpart_index_lo\u001b[49m\u001b[43m:\u001b[49m\u001b[43mpart_index_hi\u001b[49m\n\u001b[1;32m   2022\u001b[0m \u001b[43m    \u001b[49m\u001b[43m]\u001b[49m \u001b[38;5;241m=\u001b[39m prop_values\n\u001b[1;32m   2023\u001b[0m \u001b[38;5;28;01melif\u001b[39;00m \u001b[38;5;28mlen\u001b[39m(part_read[prop_read_name]\u001b[38;5;241m.\u001b[39mshape) \u001b[38;5;241m==\u001b[39m \u001b[38;5;241m2\u001b[39m:\n\u001b[1;32m   2024\u001b[0m     \u001b[38;5;28;01mif\u001b[39;00m prop_read_name \u001b[38;5;241m==\u001b[39m \u001b[38;5;124m'\u001b[39m\u001b[38;5;124mMetallicity\u001b[39m\u001b[38;5;124m'\u001b[39m \u001b[38;5;129;01mand\u001b[39;00m elements \u001b[38;5;129;01mis\u001b[39;00m \u001b[38;5;129;01mnot\u001b[39;00m \u001b[38;5;28;01mNone\u001b[39;00m:\n",
      "File \u001b[0;32mh5py/_objects.pyx:54\u001b[0m, in \u001b[0;36mh5py._objects.with_phil.wrapper\u001b[0;34m()\u001b[0m\n",
      "File \u001b[0;32mh5py/_objects.pyx:55\u001b[0m, in \u001b[0;36mh5py._objects.with_phil.wrapper\u001b[0;34m()\u001b[0m\n",
      "File \u001b[0;32m~/Documents/GitHub/gc_statistics/.venv/lib/python3.12/site-packages/h5py/_hl/dataset.py:1091\u001b[0m, in \u001b[0;36mDataset.__array__\u001b[0;34m(self, dtype, copy)\u001b[0m\n\u001b[1;32m   1088\u001b[0m \u001b[38;5;28;01mif\u001b[39;00m \u001b[38;5;28mself\u001b[39m\u001b[38;5;241m.\u001b[39msize \u001b[38;5;241m==\u001b[39m \u001b[38;5;241m0\u001b[39m:\n\u001b[1;32m   1089\u001b[0m     \u001b[38;5;28;01mreturn\u001b[39;00m arr\n\u001b[0;32m-> 1091\u001b[0m \u001b[38;5;28;43mself\u001b[39;49m\u001b[38;5;241;43m.\u001b[39;49m\u001b[43mread_direct\u001b[49m\u001b[43m(\u001b[49m\u001b[43marr\u001b[49m\u001b[43m)\u001b[49m\n\u001b[1;32m   1092\u001b[0m \u001b[38;5;28;01mreturn\u001b[39;00m arr\n",
      "File \u001b[0;32m~/Documents/GitHub/gc_statistics/.venv/lib/python3.12/site-packages/h5py/_hl/dataset.py:1047\u001b[0m, in \u001b[0;36mDataset.read_direct\u001b[0;34m(self, dest, source_sel, dest_sel)\u001b[0m\n\u001b[1;32m   1044\u001b[0m     dest_sel \u001b[38;5;241m=\u001b[39m sel\u001b[38;5;241m.\u001b[39mselect(dest\u001b[38;5;241m.\u001b[39mshape, dest_sel)\n\u001b[1;32m   1046\u001b[0m \u001b[38;5;28;01mfor\u001b[39;00m mspace \u001b[38;5;129;01min\u001b[39;00m dest_sel\u001b[38;5;241m.\u001b[39mbroadcast(source_sel\u001b[38;5;241m.\u001b[39marray_shape):\n\u001b[0;32m-> 1047\u001b[0m     \u001b[38;5;28;43mself\u001b[39;49m\u001b[38;5;241;43m.\u001b[39;49m\u001b[43mid\u001b[49m\u001b[38;5;241;43m.\u001b[39;49m\u001b[43mread\u001b[49m\u001b[43m(\u001b[49m\u001b[43mmspace\u001b[49m\u001b[43m,\u001b[49m\u001b[43m \u001b[49m\u001b[43mfspace\u001b[49m\u001b[43m,\u001b[49m\u001b[43m \u001b[49m\u001b[43mdest\u001b[49m\u001b[43m,\u001b[49m\u001b[43m \u001b[49m\u001b[43mdxpl\u001b[49m\u001b[38;5;241;43m=\u001b[39;49m\u001b[38;5;28;43mself\u001b[39;49m\u001b[38;5;241;43m.\u001b[39;49m\u001b[43m_dxpl\u001b[49m\u001b[43m)\u001b[49m\n",
      "\u001b[0;31mKeyboardInterrupt\u001b[0m: "
     ]
    }
   ],
   "source": [
    "part = gc_utils.open_snapshot(snapshot, fire_dir, species=[\"dark\", \"star\"], assign_hosts_rotation=True)"
   ]
  },
  {
   "cell_type": "markdown",
   "metadata": {},
   "source": [
    "# Lets get the group information:"
   ]
  },
  {
   "cell_type": "code",
   "execution_count": null,
   "metadata": {},
   "outputs": [],
   "source": [
    "# get rotation tensor\n",
    "rotate_tensor = part.host[\"rotation\"][0]\n",
    "unrotate_tensor = rotate_tensor.transpose()"
   ]
  },
  {
   "cell_type": "code",
   "execution_count": null,
   "metadata": {},
   "outputs": [],
   "source": [
    "halt_snap_mask = halt[\"snapshot\"] == snapshot\n",
    "host_tree_idx = np.unique(halt[\"host.index\"][halt_snap_mask])[0]"
   ]
  },
  {
   "cell_type": "code",
   "execution_count": null,
   "metadata": {},
   "outputs": [],
   "source": [
    "# position of galaxy in reference to host\n",
    "\n",
    "galaxy_pos_host_unrotated = ut.coordinate.get_distances(\n",
    "    halt[\"position\"][galaxy_tree_idx],\n",
    "    halt[\"position\"][host_tree_idx],\n",
    "    part.info[\"box.length\"],\n",
    "    part.snapshot[\"scalefactor\"],\n",
    "    total_distance=False,\n",
    ")  # [kpc physical]\n",
    "\n",
    "galaxy_pos_host_rotated = ut.coordinate.get_coordinates_rotated(galaxy_pos_host_unrotated, rotate_tensor)"
   ]
  },
  {
   "cell_type": "code",
   "execution_count": null,
   "metadata": {},
   "outputs": [
    {
     "data": {
      "text/plain": [
       "array([[-0.14789672, -0.9403196 ,  0.30647293],\n",
       "       [-0.8559442 ,  0.27694073,  0.4366501 ],\n",
       "       [-0.4954655 , -0.19774461, -0.8458197 ]], dtype=float32)"
      ]
     },
     "execution_count": 34,
     "metadata": {},
     "output_type": "execute_result"
    }
   ],
   "source": [
    "rotate_tensor"
   ]
  },
  {
   "cell_type": "code",
   "execution_count": null,
   "metadata": {},
   "outputs": [
    {
     "data": {
      "text/plain": [
       "array([0., 0., 0.], dtype=float32)"
      ]
     },
     "execution_count": 35,
     "metadata": {},
     "output_type": "execute_result"
    }
   ],
   "source": [
    "galaxy_pos_host_rotated"
   ]
  },
  {
   "cell_type": "markdown",
   "metadata": {},
   "source": [
    "# Lets get the particle information"
   ]
  },
  {
   "cell_type": "code",
   "execution_count": null,
   "metadata": {},
   "outputs": [],
   "source": [
    "it = it_min  # temporary\n",
    "\n",
    "gc_ids, ptypes = get_group_particle_lst(it, snapshot, group_id, proc_data)"
   ]
  },
  {
   "cell_type": "code",
   "execution_count": null,
   "metadata": {},
   "outputs": [],
   "source": [
    "part_dict = {}\n",
    "part_dict[\"gc_id\"] = gc_ids\n",
    "part_dict[\"ptype\"] = ptypes\n",
    "part_dict[\"part_idx\"] = []\n",
    "part_dict[\"pos\"] = []\n",
    "# part_dict[\"vel\"] = []\n",
    "\n",
    "for gc_id, ptype in zip(gc_ids, ptypes):\n",
    "    gc_part_idx = np.where(part[ptype][\"id\"] == gc_id)[0][0]\n",
    "\n",
    "    part_pos_host_unrotated = ut.coordinate.get_distances(\n",
    "        part[ptype][\"position\"][gc_part_idx],\n",
    "        halt[\"position\"][host_tree_idx],\n",
    "        part.info[\"box.length\"],\n",
    "        part.snapshot[\"scalefactor\"],\n",
    "        total_distance=False,\n",
    "    )  # [kpc physical]\n",
    "\n",
    "    part_pos_host_rotated = ut.coordinate.get_coordinates_rotated(part_pos_host_unrotated, rotate_tensor)\n",
    "\n",
    "    part_dict[\"part_idx\"].append(gc_part_idx)\n",
    "    part_dict[\"pos\"].append(part_pos_host_rotated)"
   ]
  },
  {
   "cell_type": "code",
   "execution_count": null,
   "metadata": {},
   "outputs": [
    {
     "data": {
      "text/plain": [
       "(57057454, array([-1.35912218,  1.49856192, -0.95284276]), 'star')"
      ]
     },
     "execution_count": 38,
     "metadata": {},
     "output_type": "execute_result"
    }
   ],
   "source": [
    "part_dict[\"gc_id\"][0], part_dict[\"pos\"][0], part_dict[\"ptype\"][0]"
   ]
  },
  {
   "cell_type": "code",
   "execution_count": null,
   "metadata": {},
   "outputs": [
    {
     "data": {
      "text/plain": [
       "55.69042469678172"
      ]
     },
     "execution_count": 39,
     "metadata": {},
     "output_type": "execute_result"
    }
   ],
   "source": [
    "proc_data[\"it000\"][\"snapshots\"][\"snap077\"][\"x\"][0]"
   ]
  },
  {
   "cell_type": "code",
   "execution_count": null,
   "metadata": {},
   "outputs": [
    {
     "data": {
      "text/plain": [
       "array([-1.33877489,  1.47705912, -0.96118916])"
      ]
     },
     "execution_count": 40,
     "metadata": {},
     "output_type": "execute_result"
    }
   ],
   "source": [
    "part[part_dict[\"ptype\"][0]].prop(\"host.distance.principal\", part_dict[\"part_idx\"][0])"
   ]
  },
  {
   "cell_type": "markdown",
   "metadata": {},
   "source": [
    "TEST v2"
   ]
  },
  {
   "cell_type": "code",
   "execution_count": null,
   "metadata": {},
   "outputs": [],
   "source": [
    "dist = ut.particle.get_distances_wrt_center(\n",
    "    part,\n",
    "    species=[\"dark\", \"star\"],\n",
    "    center_position=halt[\"position\"][host_tree_idx],\n",
    "    rotation=True,\n",
    "    total_distance=True,\n",
    ")\n",
    "\n",
    "sp = \"star\"\n",
    "rmax_ctr = 10\n",
    "\n",
    "ctr_indices = np.where(dist[sp] < rmax_ctr)[0]\n",
    "\n",
    "m = part[sp][\"mass\"][ctr_indices]\n",
    "pos = part[sp][\"position\"][ctr_indices]\n",
    "vel = part[sp][\"velocity\"][ctr_indices]\n",
    "new_ctr = np.multiply(m, pos.T).sum(axis=1) / np.sum(m)\n",
    "new_vctr = np.multiply(m, vel.T).sum(axis=1) / np.sum(m)\n",
    "\n",
    "new_rot = ut.particle.get_principal_axes(\n",
    "    part,\n",
    "    species_name=\"star\",\n",
    "    distance_max=rmax_ctr,\n",
    "    mass_percent=90,\n",
    "    age_percent=25,\n",
    "    age_limits=None,\n",
    "    temperature_limits=None,\n",
    "    center_positions=new_ctr,\n",
    "    center_velocities=new_vctr,\n",
    "    host_index=None,\n",
    "    part_indicess=None,\n",
    "    return_single_array=True,\n",
    "    verbose=None,\n",
    ")\n",
    "\n",
    "dist_vect = ut.particle.get_distances_wrt_center(\n",
    "    part,\n",
    "    species=[\"dark\", \"star\"],\n",
    "    center_position=new_ctr,\n",
    "    rotation=new_rot[\"rotation\"],\n",
    ")\n",
    "\n",
    "vel_vect = ut.particle.get_velocities_wrt_center(\n",
    "    part,\n",
    "    species=[\"dark\", \"star\"],\n",
    "    center_position=new_ctr,\n",
    "    center_velocity=new_vctr,\n",
    "    rotation=new_rot[\"rotation\"],\n",
    ")"
   ]
  },
  {
   "cell_type": "code",
   "execution_count": null,
   "metadata": {},
   "outputs": [
    {
     "data": {
      "text/plain": [
       "{'dark': array([[ -185.49260658, -1086.69984043, -1320.53833179],\n",
       "        [ -186.36917064, -1087.70792362, -1320.49359287],\n",
       "        [ -186.8556588 , -1087.22228407, -1320.42098016],\n",
       "        ...,\n",
       "        [-1091.1739506 ,  1285.26723112,   425.24161947],\n",
       "        [-1107.93921914,  1297.96058485,   429.11101053],\n",
       "        [-1124.38864848,  1318.02724933,   431.04990922]]),\n",
       " 'star': array([[ 1.89555929e+03, -2.98121533e+04,  1.94063986e+02],\n",
       "        [ 1.43246327e+01, -2.41978971e+03, -3.88508117e+03],\n",
       "        [-1.03923575e+03, -2.78212628e+03, -4.51937600e+03],\n",
       "        ...,\n",
       "        [ 2.20969959e+03, -2.78697665e+01,  1.12855762e+03],\n",
       "        [ 2.28511561e+03, -2.59181549e+01,  1.36052784e+03],\n",
       "        [ 2.32731419e+03, -2.89441485e+01,  1.32654901e+03]])}"
      ]
     },
     "execution_count": 42,
     "metadata": {},
     "output_type": "execute_result"
    }
   ],
   "source": [
    "dist_vect"
   ]
  },
  {
   "cell_type": "code",
   "execution_count": null,
   "metadata": {},
   "outputs": [
    {
     "data": {
      "text/plain": [
       "array([ -157.00519938, -1091.15235097, -1320.5879644 ])"
      ]
     },
     "execution_count": 44,
     "metadata": {},
     "output_type": "execute_result"
    }
   ],
   "source": [
    "part[\"dark\"].prop(\"host.distance.principal\")[0]"
   ]
  }
 ],
 "metadata": {
  "kernelspec": {
   "display_name": ".venv",
   "language": "python",
   "name": "python3"
  },
  "language_info": {
   "codemirror_mode": {
    "name": "ipython",
    "version": 3
   },
   "file_extension": ".py",
   "mimetype": "text/x-python",
   "name": "python",
   "nbconvert_exporter": "python",
   "pygments_lexer": "ipython3",
   "version": "3.12.7"
  }
 },
 "nbformat": 4,
 "nbformat_minor": 2
}
